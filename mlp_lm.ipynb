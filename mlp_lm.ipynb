{
 "cells": [
  {
   "cell_type": "code",
   "execution_count": 3,
   "metadata": {},
   "outputs": [],
   "source": [
    "import torch\n",
    "import torch.nn as nn\n",
    "import torch.nn.functional as F\n",
    "\n",
    "\n",
    "class MultiLayerPerceptron(nn.Module):\n",
    "    def __init__(\n",
    "        self,\n",
    "        input_size,\n",
    "        hidden_size=2,\n",
    "        output_size=3,\n",
    "        num_hidden_layers=1,\n",
    "        hidden_activation=nn.Sigmoid,\n",
    "    ):\n",
    "        \"\"\"Initialize weights.\n",
    "        Args:\n",
    "            input_size (int): size of the input\n",
    "            hidden_size (int): size of the hidden layers\n",
    "            output_size (int): size of the output\n",
    "            num_hidden_layers (int): number of hidden layers\n",
    "            hidden_activation (torch.nn.*): the activation class\n",
    "        \"\"\"\n",
    "        super(MultiLayerPerceptron, self).__init__()\n",
    "        self.module_list = nn.ModuleList()\n",
    "        interim_input_size = input_size\n",
    "        interim_output_size = hidden_size\n",
    "        device = torch.device(\"cuda:0\" if torch.cuda.is_available() else \"cpu\")\n",
    "\n",
    "        for _ in range(num_hidden_layers):\n",
    "            self.module_list.append(nn.Linear(interim_input_size, interim_output_size))\n",
    "            self.module_list.append(hidden_activation())\n",
    "            interim_input_size = interim_output_size\n",
    "\n",
    "        self.fc_final = nn.Linear(interim_input_size, output_size)\n",
    "\n",
    "        self.last_forward_cache = []\n",
    "\n",
    "    def forward(self, x, apply_softmax=False):\n",
    "        \"\"\"The forward pass of the MLP\n",
    "\n",
    "        Args:\n",
    "            x_in (torch.Tensor): an input data tensor.\n",
    "                x_in.shape should be (batch, input_dim)\n",
    "            apply_softmax (bool): a flag for the softmax activation\n",
    "                should be false if used with the Cross Entropy losses\n",
    "        Returns:\n",
    "            the resulting tensor. tensor.shape should be (batch, output_dim)\n",
    "        \"\"\"\n",
    "        for module in self.module_list:\n",
    "            x = module(x)\n",
    "\n",
    "        output = self.fc_final(x)\n",
    "\n",
    "        if apply_softmax:\n",
    "            output = F.softmax(output, dim=1)\n",
    "\n",
    "        return output"
   ]
  },
  {
   "cell_type": "code",
   "execution_count": null,
   "metadata": {},
   "outputs": [],
   "source": []
  }
 ],
 "metadata": {
  "kernelspec": {
   "display_name": "Python 3",
   "language": "python",
   "name": "python3"
  },
  "language_info": {
   "codemirror_mode": {
    "name": "ipython",
    "version": 3
   },
   "file_extension": ".py",
   "mimetype": "text/x-python",
   "name": "python",
   "nbconvert_exporter": "python",
   "pygments_lexer": "ipython3",
   "version": "3.11.3"
  },
  "orig_nbformat": 4
 },
 "nbformat": 4,
 "nbformat_minor": 2
}
