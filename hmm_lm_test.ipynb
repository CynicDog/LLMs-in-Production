{
 "cells": [
  {
   "cell_type": "code",
   "execution_count": 1,
   "metadata": {},
   "outputs": [],
   "source": [
    "import nltk, re, random\n",
    "from nltk.tokenize import word_tokenize\n",
    "from collections import defaultdict, deque"
   ]
  },
  {
   "cell_type": "code",
   "execution_count": 2,
   "metadata": {},
   "outputs": [],
   "source": [
    "class MarkovChain:\n",
    "    def __init__(self):\n",
    "        self.lookup_dict = defaultdict(list)\n",
    "        self._seeded = False\n",
    "        self.__seed_me()\n",
    "\n",
    "    def __seed_me(self, rand_seed=None):\n",
    "        if self._seeded is not True:\n",
    "            try:\n",
    "                if rand_seed is not None:\n",
    "                    random.seed(rand_seed)\n",
    "                else:\n",
    "                    random.seed()\n",
    "                self._seeded = True\n",
    "            except NotImplementedError:\n",
    "                self._seeded = False\n",
    "\n",
    "    def add_document(self, str):\n",
    "        preprocessed_list = self._preprocess(str)\n",
    "        pairs = self.__generate_tuple_keys(preprocessed_list)\n",
    "        for pair in pairs:\n",
    "            self.lookup_dict[pair[0]].append(pair[1])\n",
    "\n",
    "    def _preprocess(self, str):\n",
    "        cleaned = re.sub(r\"\\W+\", \" \", str).lower()\n",
    "        tokenized = word_tokenize(cleaned)\n",
    "        return tokenized\n",
    "\n",
    "    def __generate_tuple_keys(self, data):\n",
    "        if len(data) < 1:\n",
    "            return\n",
    "\n",
    "        for i in range(len(data) - 1):\n",
    "            yield [data[i], data[i + 1]]\n",
    "\n",
    "    def generate_text(self, max_length=50):\n",
    "        context = deque()\n",
    "        output = []\n",
    "        if len(self.lookup_dict) > 0:\n",
    "            self.__seed_me(rand_seed=len(self.lookup_dict))\n",
    "            chain_head = [list(self.lookup_dict)[0]]\n",
    "            context.extend(chain_head)\n",
    "\n",
    "            while len(output) < (max_length - 1):\n",
    "                next_choices = self.lookup_dict[context[-1]]\n",
    "                if len(next_choices) > 0:\n",
    "                    next_word = random.choice(next_choices)\n",
    "                    context.append(next_word)\n",
    "                    output.append(context.popleft())\n",
    "                else:\n",
    "                    break\n",
    "            output.extend(list(context))\n",
    "        return \" \".join(output)"
   ]
  },
  {
   "cell_type": "code",
   "execution_count": 4,
   "metadata": {},
   "outputs": [],
   "source": [
    "with open(\"hamlet.txt\", \"r\", encoding=\"utf-8\") as f:\n",
    "    text = f.read()\n",
    "HMM = MarkovChain()\n",
    "HMM.add_document(text)"
   ]
  },
  {
   "cell_type": "code",
   "execution_count": 7,
   "metadata": {},
   "outputs": [
    {
     "name": "stdout",
     "output_type": "stream",
     "text": [
      "the fretful or air brief chronicles of these multiplied incitements are they are merry my lord _exeunt_ rosencrantz _and_ queen _falls back or hang an\n"
     ]
    }
   ],
   "source": [
    "print(HMM.generate_text(max_length=25))"
   ]
  },
  {
   "cell_type": "code",
   "execution_count": null,
   "metadata": {},
   "outputs": [],
   "source": []
  }
 ],
 "metadata": {
  "kernelspec": {
   "display_name": "Python 3",
   "language": "python",
   "name": "python3"
  },
  "language_info": {
   "codemirror_mode": {
    "name": "ipython",
    "version": 3
   },
   "file_extension": ".py",
   "mimetype": "text/x-python",
   "name": "python",
   "nbconvert_exporter": "python",
   "pygments_lexer": "ipython3",
   "version": "3.11.3"
  },
  "orig_nbformat": 4
 },
 "nbformat": 4,
 "nbformat_minor": 2
}
