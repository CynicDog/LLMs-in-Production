{
 "cells": [
  {
   "cell_type": "code",
   "execution_count": 1,
   "metadata": {},
   "outputs": [
    {
     "name": "stdout",
     "output_type": "stream",
     "text": [
      "2.1.0+cu121\n",
      "cuda:0 (8, 6)\n"
     ]
    }
   ],
   "source": [
    "import torch\n",
    "from torch import nn\n",
    "from torch.nn import functional as F\n",
    "import numpy as np\n",
    "from numba import jit\n",
    "from matplotlib import pyplot as plt\n",
    "import time\n",
    "from datetime import timedelta\n",
    "import pandas as pd\n",
    "from collections import OrderedDict\n",
    "from itertools import cycle\n",
    "from transformers import AutoTokenizer\n",
    "from sentencepiece import SentencePieceProcessor\n",
    "from datasets import load_dataset\n",
    "\n",
    "device = \"cuda:0\" if torch.cuda.is_available() else \"cpu\"\n",
    "device_cap = torch.cuda.get_device_capability()\n",
    "device_type = \"cuda\" if \"cuda\" in device else \"cpu\"\n",
    "torch.cuda.set_device(device)\n",
    "torch.manual_seed(8855)\n",
    "print(torch.__version__)\n",
    "print(device, device_cap)"
   ]
  },
  {
   "cell_type": "markdown",
   "metadata": {},
   "source": [
    "### Llama 2 from Scratch"
   ]
  },
  {
   "cell_type": "markdown",
   "metadata": {},
   "source": []
  },
  {
   "cell_type": "code",
   "execution_count": 2,
   "metadata": {},
   "outputs": [],
   "source": [
    "# Using Huggingface\n",
    "tokenizer = AutoTokenizer.from_pretrained(\"./llama2/\")\n",
    "tokenizer.add_special_tokens({\"pad_token\": \"<PAD>\"})\n",
    "# tokenizer.pad_token = tokenizer.eos_token #Optional\n",
    "\n",
    "vocab = tokenizer.vocab"
   ]
  },
  {
   "cell_type": "code",
   "execution_count": 3,
   "metadata": {},
   "outputs": [
    {
     "name": "stdout",
     "output_type": "stream",
     "text": [
      "Vocab Size: 32001\n"
     ]
    },
    {
     "data": {
      "text/plain": [
       "'<s> hello I am a specifically designed long sentence to make sure this is working not only adequately, but good enough for our batch functions'"
      ]
     },
     "execution_count": 3,
     "metadata": {},
     "output_type": "execute_result"
    }
   ],
   "source": [
    "def encode(example):\n",
    "    return tokenizer.encode(example, return_tensors=\"pt\")\n",
    "\n",
    "\n",
    "def decode(example):\n",
    "    return tokenizer.batch_decode(\n",
    "        example,\n",
    "        skip_special_tokens=False,\n",
    "        clean_up_tokenization_spaces=True,\n",
    "    )[0]\n",
    "\n",
    "\n",
    "print(f\"Vocab Size: {len(vocab)}\")\n",
    "decode(\n",
    "    encode(\n",
    "        \"hello I am a specifically designed long sentence to make sure this is working not only adequately, but good enough for our batch functions\"\n",
    "    )\n",
    ")"
   ]
  },
  {
   "cell_type": "code",
   "execution_count": 4,
   "metadata": {},
   "outputs": [],
   "source": [
    "MASTER_CONFIG = {\n",
    "    \"vocab_size\": len(vocab),\n",
    "    \"batch_size\": 16,\n",
    "    \"context_window\": 32,\n",
    "    \"d_model\": 288,\n",
    "    \"hidden_dim\": 768,\n",
    "    \"epochs\": 1000,\n",
    "    \"log_interval\": 50,\n",
    "    \"n_heads\": 6,\n",
    "    \"n_layers\": 6,\n",
    "}\n",
    "GLOBAL_KEEP_TRACK = []"
   ]
  },
  {
   "cell_type": "code",
   "execution_count": 5,
   "metadata": {},
   "outputs": [],
   "source": [
    "# Local Data only\n",
    "dataset = load_dataset(\n",
    "    \"text\",\n",
    "    data_files={\n",
    "        \"train\": [\"../../data/TinyStoriesv1andv2-train.txt\"],\n",
    "        \"val\": [\"../../data/TinyStoriesv1andv2-valid.txt\"],\n",
    "    },\n",
    "    streaming=True,\n",
    ")\n",
    "\n",
    "# Stream Data\n",
    "# dataset = load_dataset('IMJONEZZ/CombinedTinyStories') # optional: streaming=True but to_iterable is faster\n",
    "# dataset = dataset.to_iterable_dataset()\n",
    "\n",
    "# Minimal preprocessing\n",
    "clean_dataset = dataset.filter(lambda example: len(example[\"text\"]) > 2)"
   ]
  },
  {
   "cell_type": "code",
   "execution_count": 6,
   "metadata": {},
   "outputs": [
    {
     "name": "stdout",
     "output_type": "stream",
     "text": [
      "Actual text: The flame answered, \"Yes, I can permit you to fly away but first you must promise to take care of your family.\" \n",
      "Input Ids: <s> Write a short story. Possible Story: The flame answered, \"Yes, I can permit you to fly away but first you must promise to take care of your family.\" <PAD><PAD><PAD><PAD><PAD><PAD><PAD><PAD><PAD><PAD><PAD><PAD><PAD><PAD><PAD><PAD><PAD><PAD><PAD><PAD><PAD><PAD><PAD><PAD><PAD><PAD><PAD><PAD><PAD><PAD><PAD><PAD><PAD><PAD><PAD><PAD><PAD><PAD><PAD><PAD><PAD><PAD><PAD><PAD><PAD><PAD><PAD><PAD><PAD><PAD><PAD><PAD><PAD><PAD><PAD><PAD><PAD><PAD><PAD><PAD><PAD><PAD><PAD><PAD><PAD><PAD><PAD><PAD><PAD><PAD><PAD><PAD><PAD><PAD><PAD><PAD><PAD><PAD><PAD><PAD><PAD><PAD><PAD><PAD><PAD><PAD><PAD><PAD><PAD><PAD><PAD><PAD><PAD><PAD><PAD><PAD><PAD><PAD><PAD><PAD><PAD><PAD><PAD><PAD><PAD><PAD><PAD><PAD><PAD><PAD><PAD><PAD><PAD><PAD><PAD><PAD><PAD><PAD><PAD><PAD><PAD><PAD><PAD><PAD><PAD><PAD><PAD><PAD><PAD><PAD><PAD><PAD>\n",
      "Length of text: 169\n",
      "{'text': 'The flame answered, \"Yes, I can permit you to fly away but first you must promise to take care of your family.\" ', 'input_ids': tensor([    1, 14350,   263,  3273,  5828, 29889, 20049, 13740, 29901,   450,\n",
      "         1652,   420,  7699, 29892,   376,  8241, 29892,   306,   508, 14257,\n",
      "          366,   304, 11340,  3448,   541,   937,   366,  1818, 11640,   304,\n",
      "         2125,  2562,   310,   596,  3942,  1213, 29871, 32000, 32000, 32000,\n",
      "        32000, 32000, 32000, 32000, 32000, 32000, 32000, 32000, 32000, 32000,\n",
      "        32000, 32000, 32000, 32000, 32000, 32000, 32000, 32000, 32000, 32000,\n",
      "        32000, 32000, 32000, 32000, 32000, 32000, 32000, 32000, 32000, 32000,\n",
      "        32000, 32000, 32000, 32000, 32000, 32000, 32000, 32000, 32000, 32000,\n",
      "        32000, 32000, 32000, 32000, 32000, 32000, 32000, 32000, 32000, 32000,\n",
      "        32000, 32000, 32000, 32000, 32000, 32000, 32000, 32000, 32000, 32000,\n",
      "        32000, 32000, 32000, 32000, 32000, 32000, 32000, 32000, 32000, 32000,\n",
      "        32000, 32000, 32000, 32000, 32000, 32000, 32000, 32000, 32000, 32000,\n",
      "        32000, 32000, 32000, 32000, 32000, 32000, 32000, 32000, 32000, 32000,\n",
      "        32000, 32000, 32000, 32000, 32000, 32000, 32000, 32000, 32000, 32000,\n",
      "        32000, 32000, 32000, 32000, 32000, 32000, 32000, 32000, 32000, 32000,\n",
      "        32000, 32000, 32000, 32000, 32000, 32000, 32000, 32000, 32000, 32000,\n",
      "        32000, 32000, 32000, 32000, 32000, 32000, 32000, 32000, 32000]), 'attention_mask': tensor([1, 1, 1, 1, 1, 1, 1, 1, 1, 1, 1, 1, 1, 1, 1, 1, 1, 1, 1, 1, 1, 1, 1, 1,\n",
      "        1, 1, 1, 1, 1, 1, 1, 1, 1, 1, 1, 1, 1, 0, 0, 0, 0, 0, 0, 0, 0, 0, 0, 0,\n",
      "        0, 0, 0, 0, 0, 0, 0, 0, 0, 0, 0, 0, 0, 0, 0, 0, 0, 0, 0, 0, 0, 0, 0, 0,\n",
      "        0, 0, 0, 0, 0, 0, 0, 0, 0, 0, 0, 0, 0, 0, 0, 0, 0, 0, 0, 0, 0, 0, 0, 0,\n",
      "        0, 0, 0, 0, 0, 0, 0, 0, 0, 0, 0, 0, 0, 0, 0, 0, 0, 0, 0, 0, 0, 0, 0, 0,\n",
      "        0, 0, 0, 0, 0, 0, 0, 0, 0, 0, 0, 0, 0, 0, 0, 0, 0, 0, 0, 0, 0, 0, 0, 0,\n",
      "        0, 0, 0, 0, 0, 0, 0, 0, 0, 0, 0, 0, 0, 0, 0, 0, 0, 0, 0, 0, 0, 0, 0, 0,\n",
      "        0])}\n"
     ]
    }
   ],
   "source": [
    "prompt = \"Write a short story. Possible Story: \"\n",
    "tokenized_prompt = tokenizer(prompt, return_tensors=\"pt\").input_ids\n",
    "\n",
    "encoded_dataset = clean_dataset.map(\n",
    "    lambda examples: tokenizer(\n",
    "        [prompt + x for x in examples[\"text\"]],\n",
    "        padding=True,\n",
    "        return_tensors=\"pt\",\n",
    "    ),\n",
    "    batched=True,\n",
    ")\n",
    "train_data = iter(encoded_dataset[\"train\"].shuffle())\n",
    "val_data = iter(encoded_dataset[\"val\"].shuffle())\n",
    "train_data = cycle(train_data)\n",
    "val_data = cycle(val_data)\n",
    "\n",
    "test = next(train_data)\n",
    "print(f\"Actual text: {test['text']}\")\n",
    "print(f\"Input Ids: {tokenizer.decode(test['input_ids'])}\")\n",
    "print(f\"Length of text: {len(test['input_ids'])}\")\n",
    "print(test)"
   ]
  },
  {
   "cell_type": "markdown",
   "metadata": {},
   "source": [
    "### Needed functions"
   ]
  },
  {
   "cell_type": "code",
   "execution_count": 7,
   "metadata": {},
   "outputs": [],
   "source": [
    "# @torch.compile #For non-Windows users\n",
    "def get_batches(\n",
    "    data,\n",
    "    batch_size,\n",
    "    context_window,\n",
    "    config=MASTER_CONFIG,\n",
    "    debug=False,\n",
    "):\n",
    "    x = []\n",
    "    y = []\n",
    "    for _ in range(\n",
    "        batch_size\n",
    "    ):  # Adjust this lower if you're running out of memory\n",
    "        batch_data = next(data)\n",
    "\n",
    "        # pick random starting points\n",
    "        ix = torch.randint(\n",
    "            0, len(batch_data[\"input_ids\"]) - context_window - 1, (2,)\n",
    "        )\n",
    "        batch_x = torch.stack(\n",
    "            [batch_data[\"input_ids\"][i : i + context_window] for i in ix]\n",
    "        ).long()\n",
    "        batch_y = torch.stack(\n",
    "            [\n",
    "                batch_data[\"input_ids\"][i + 1 : i + context_window + 1]\n",
    "                for i in ix\n",
    "            ]\n",
    "        ).long()\n",
    "        x.append(batch_x)\n",
    "        y.append(batch_y)\n",
    "    x = torch.cat((x), 0).to(device)\n",
    "    y = torch.cat((y), 0).to(device)\n",
    "    if debug:\n",
    "        print(f\"ix: {ix}\\nx: {x}\\ny: {y}\")\n",
    "    return x, y\n",
    "\n",
    "\n",
    "def get_lora_batches(\n",
    "    data,\n",
    "    batch_size,\n",
    "    context_window=32,\n",
    "):\n",
    "    x = []\n",
    "    y = []\n",
    "    for _ in range(batch_size // 2):\n",
    "        x_data = next(data)\n",
    "        y_data = next(data)\n",
    "\n",
    "        x_data = torch.stack([x_data[\"input_ids\"]]).long()\n",
    "        y_data = torch.stack([y_data[\"input_ids\"]]).long()\n",
    "\n",
    "        x.append(x_data)\n",
    "        y.append(y_data)\n",
    "    x = torch.cat((x), 0).to(device)\n",
    "    y = torch.cat((y), 0).to(device)\n",
    "    return x, y"
   ]
  },
  {
   "cell_type": "code",
   "execution_count": 8,
   "metadata": {},
   "outputs": [],
   "source": [
    "@torch.no_grad()\n",
    "def get_loss(model, lora=False, config=MASTER_CONFIG):\n",
    "    out = {}\n",
    "    model.eval()\n",
    "    for name, split in zip([\"train\", \"val\"], [train_data, val_data]):\n",
    "        losses = []\n",
    "        for _ in range(10):\n",
    "            if lora == True:\n",
    "                xb, yb = get_lora_batches(\n",
    "                    split, config[\"batch_size\"], config[\"context_window\"]\n",
    "                )\n",
    "            else:\n",
    "                xb, yb = get_batches(\n",
    "                    split,\n",
    "                    config[\"batch_size\"],\n",
    "                    config[\"context_window\"],\n",
    "                )\n",
    "            _, loss = model(xb, yb)\n",
    "            losses.append(loss.item())\n",
    "        out[name] = np.mean(losses)\n",
    "    model.train()\n",
    "    return out\n",
    "\n",
    "\n",
    "@torch.inference_mode()\n",
    "def generate(\n",
    "    model,\n",
    "    config=MASTER_CONFIG,\n",
    "    temperature=1.0,\n",
    "    top_k=None,\n",
    "    max_new_tokens=30,\n",
    "    lora=False,\n",
    "):\n",
    "    idx_list = [tokenized_prompt] * 5\n",
    "    idx = torch.cat((idx_list), 0).long().to(device)\n",
    "    if lora:\n",
    "        idx = (\n",
    "            torch.ones(5, 1).long().to(device)\n",
    "        )  # Alternative without prompt\n",
    "    for _ in range(max_new_tokens):\n",
    "        # call the model\n",
    "        logits = model(idx[:, -config[\"context_window\"] :])\n",
    "        last_time_step_logits = logits[\n",
    "            :, -1, :\n",
    "        ]  # all the batches (1), last time step, all the logits\n",
    "\n",
    "        last_time_step_logits = last_time_step_logits / temperature\n",
    "        if top_k is not None:\n",
    "            v, _ = torch.topk(\n",
    "                last_time_step_logits,\n",
    "                min(top_k, last_time_step_logits.size(-1)),\n",
    "            )\n",
    "            last_time_step_logits[\n",
    "                last_time_step_logits < v[:, [-1]]\n",
    "            ] = -float(\"Inf\")\n",
    "        p = F.softmax(\n",
    "            last_time_step_logits, dim=-1\n",
    "        )  # softmax to get probabilities\n",
    "        idx_next = torch.multinomial(\n",
    "            p, num_samples=1\n",
    "        )  # sample from the distribution to get the next token\n",
    "        idx = torch.cat([idx, idx_next], dim=-1)  # append to the sequence\n",
    "    return [tokenizer.decode(x) for x in idx.tolist()]"
   ]
  },
  {
   "cell_type": "markdown",
   "metadata": {},
   "source": [
    "### Gross neural network that doesn't work"
   ]
  },
  {
   "cell_type": "code",
   "execution_count": 9,
   "metadata": {},
   "outputs": [
    {
     "name": "stdout",
     "output_type": "stream",
     "text": [
      "model params: 18547809\n"
     ]
    }
   ],
   "source": [
    "class SimpleFeedForwardNN(nn.Module):\n",
    "    def __init__(self, config=MASTER_CONFIG):\n",
    "        super().__init__()\n",
    "        self.config = config\n",
    "\n",
    "        self.embedding = nn.Embedding(\n",
    "            config[\"vocab_size\"], config[\"d_model\"]\n",
    "        )\n",
    "        self.linear = nn.Sequential(\n",
    "            nn.Linear(config[\"d_model\"], config[\"d_model\"]),\n",
    "            nn.ReLU(),\n",
    "            nn.Linear(config[\"d_model\"], config[\"vocab_size\"]),\n",
    "        )\n",
    "\n",
    "        print(\n",
    "            f\"model params: {sum([m.numel() for m in self.parameters()])}\"\n",
    "        )\n",
    "\n",
    "    def forward(self, idx, targets=None):\n",
    "        x = self.embedding(idx)\n",
    "        logits = self.linear(x)\n",
    "\n",
    "        if targets is not None:\n",
    "            loss = F.cross_entropy(\n",
    "                logits.view(-1, self.config[\"vocab_size\"]),\n",
    "                targets.view(-1),\n",
    "                ignore_index=tokenizer.pad_token_id,\n",
    "                # reduction=\"sum\",\n",
    "            )\n",
    "            return logits, loss\n",
    "\n",
    "        else:\n",
    "            return logits\n",
    "\n",
    "\n",
    "model = SimpleFeedForwardNN(MASTER_CONFIG).to(device)\n",
    "# opt_model = torch.compile(model) #Again, non-Windows folks should be compiling functions and models\n",
    "# xs, ys = get_batches(\n",
    "#     train_data,\n",
    "#     MASTER_CONFIG[\"batch_size\"],\n",
    "#     MASTER_CONFIG[\"context_window\"],\n",
    "# )\n",
    "\n",
    "# logits, loss = model(xs, ys)"
   ]
  },
  {
   "cell_type": "markdown",
   "metadata": {},
   "source": [
    "### Training Loop"
   ]
  },
  {
   "cell_type": "code",
   "execution_count": 10,
   "metadata": {},
   "outputs": [],
   "source": [
    "def train(\n",
    "    model,\n",
    "    optimizer,\n",
    "    scheduler=None,\n",
    "    data=None,\n",
    "    config=MASTER_CONFIG,\n",
    "    lora=False,\n",
    "    print_logs=False,\n",
    "):\n",
    "    losses = []\n",
    "    start_time = time.time()\n",
    "    for epoch in range(config[\"epochs\"]):\n",
    "        try:\n",
    "            optimizer.zero_grad()\n",
    "\n",
    "            if lora:\n",
    "                xs, ys = get_lora_batches(data, config[\"batch_size\"])\n",
    "            else:\n",
    "                xs, ys = get_batches(\n",
    "                    data, config[\"batch_size\"], config[\"context_window\"]\n",
    "                )\n",
    "\n",
    "            logits, loss = model(xs, targets=ys)\n",
    "            loss.backward()\n",
    "            optimizer.step()\n",
    "\n",
    "            if scheduler:\n",
    "                scheduler.step()\n",
    "\n",
    "            if epoch % config[\"log_interval\"] == 0:\n",
    "                batch_time = time.time() - start_time\n",
    "                x = get_loss(model, lora=lora)\n",
    "                losses += [x]\n",
    "                if print_logs:\n",
    "                    print(\n",
    "                        f\"Epoch {epoch} | train loss {x['train']:.3f} | val loss {x['val']:.3f} | Time {batch_time:.3f} | ETA: {timedelta(seconds=(batch_time * (config['epochs'] - epoch)/config['log_interval']))}\"\n",
    "                    )\n",
    "                start_time = time.time()\n",
    "\n",
    "                if scheduler:\n",
    "                    print(\"lr: \", scheduler.get_last_lr())\n",
    "        except StopIteration:\n",
    "            print(f\"Reached end of dataset on step {epoch}\")\n",
    "            break\n",
    "\n",
    "    GLOBAL_KEEP_TRACK.append(\n",
    "        f\"{type(model).__name__} {sum([m.numel() for m in model.parameters()])} Params | Train: {losses[-1]['train']:.3f} | Val: {losses[-1]['val']:.3f}\"\n",
    "    )\n",
    "    print(\n",
    "        f\"training loss {losses[-1]['train']:.3f} | validation loss: {losses[-1]['val']:.3f}\"\n",
    "    )\n",
    "    return pd.DataFrame(losses).plot()"
   ]
  },
  {
   "cell_type": "code",
   "execution_count": 11,
   "metadata": {},
   "outputs": [
    {
     "name": "stdout",
     "output_type": "stream",
     "text": [
      "Epoch 0 | train loss 10.365 | val loss 10.341 | Time 0.122 | ETA: 0:00:02.431240\n",
      "Epoch 50 | train loss 6.039 | val loss 5.986 | Time 0.351 | ETA: 0:00:06.667511\n",
      "Epoch 100 | train loss 5.429 | val loss 5.553 | Time 0.345 | ETA: 0:00:06.215240\n",
      "Epoch 150 | train loss 4.893 | val loss 5.294 | Time 0.347 | ETA: 0:00:05.891390\n",
      "Epoch 200 | train loss 4.930 | val loss 4.945 | Time 0.346 | ETA: 0:00:05.541813\n",
      "Epoch 250 | train loss 4.570 | val loss 4.817 | Time 0.346 | ETA: 0:00:05.187771\n",
      "Epoch 300 | train loss 4.534 | val loss 4.706 | Time 0.413 | ETA: 0:00:05.787058\n",
      "Epoch 350 | train loss 4.715 | val loss 4.562 | Time 0.408 | ETA: 0:00:05.297581\n",
      "Epoch 400 | train loss 4.579 | val loss 4.428 | Time 0.403 | ETA: 0:00:04.834986\n",
      "Epoch 450 | train loss 4.479 | val loss 4.357 | Time 0.406 | ETA: 0:00:04.462545\n",
      "Epoch 500 | train loss 4.639 | val loss 4.398 | Time 0.399 | ETA: 0:00:03.991182\n",
      "Epoch 550 | train loss 4.251 | val loss 4.354 | Time 0.401 | ETA: 0:00:03.605621\n",
      "Epoch 600 | train loss 4.242 | val loss 4.142 | Time 0.401 | ETA: 0:00:03.205742\n",
      "Epoch 650 | train loss 4.418 | val loss 4.323 | Time 0.401 | ETA: 0:00:02.806466\n",
      "Epoch 700 | train loss 4.204 | val loss 4.306 | Time 0.402 | ETA: 0:00:02.413515\n",
      "Epoch 750 | train loss 4.280 | val loss 4.203 | Time 0.502 | ETA: 0:00:02.510620\n",
      "Epoch 800 | train loss 3.876 | val loss 4.201 | Time 0.397 | ETA: 0:00:01.587115\n",
      "Epoch 850 | train loss 4.147 | val loss 4.159 | Time 0.397 | ETA: 0:00:01.192236\n",
      "Epoch 900 | train loss 4.045 | val loss 4.258 | Time 0.398 | ETA: 0:00:00.795808\n",
      "Epoch 950 | train loss 4.129 | val loss 4.458 | Time 0.410 | ETA: 0:00:00.410163\n",
      "training loss 4.129 | validation loss: 4.458\n"
     ]
    },
    {
     "data": {
      "text/plain": [
       "<Axes: >"
      ]
     },
     "execution_count": 11,
     "metadata": {},
     "output_type": "execute_result"
    },
    {
     "data": {
      "image/png": "[encoded data removed]",
      "text/plain": [
       "<Figure size 640x480 with 1 Axes>"
      ]
     },
     "metadata": {},
     "output_type": "display_data"
    }
   ],
   "source": [
    "optimizer = torch.optim.AdamW(\n",
    "    model.parameters(),\n",
    ")\n",
    "train(model, optimizer, data=train_data, print_logs=True)"
   ]
  },
  {
   "cell_type": "code",
   "execution_count": 12,
   "metadata": {},
   "outputs": [
    {
     "data": {
      "text/plain": [
       "['<s> Write a short story. Possible Story: 3 together thisar andze Lily said exciteded and smiled. Everything because he wasning loved to the time, he did not find like to',\n",
       " '<s> Write a short story. Possible Story: 3 years old and the castle her to safety. Lily was happy down. Today for a big and that he agreed and ever. The conhe her',\n",
       " '<s> Write a short story. Possible Story:  We should play in a walk onie took a big smile on the cuping that he was a sound a lot and still I will herself to slide',\n",
       " '<s> Write a short story. Possible Story: icy into the way home in a fun kind of was opened the perfect c jealous it and followed the old and d idea. They take a terrible',\n",
       " '<s> Write a short story. Possible Story: icy, you on the pas one day, it.\"  She ran back on it, you like warm appeared -?\". Possible Story: Once upon']"
      ]
     },
     "execution_count": 12,
     "metadata": {},
     "output_type": "execute_result"
    }
   ],
   "source": [
    "generate(model, config=MASTER_CONFIG)"
   ]
  },
  {
   "cell_type": "code",
   "execution_count": 13,
   "metadata": {},
   "outputs": [
    {
     "name": "stdout",
     "output_type": "stream",
     "text": [
      "SimpleFeedForwardNN 18547809 Params | Train: 4.129 | Val: 4.458\n"
     ]
    }
   ],
   "source": [
    "for i in GLOBAL_KEEP_TRACK:\n",
    "    print(i)"
   ]
  },
  {
   "cell_type": "markdown",
   "metadata": {},
   "source": [
    "### RMS Normalization\n",
    "\n",
    "This is as opposed to the original Batch Normalization used in the original transformers paper.\n",
    "Basically it works by taking 1/sqrt(N) * frobenius_norm"
   ]
  },
  {
   "cell_type": "code",
   "execution_count": 14,
   "metadata": {},
   "outputs": [],
   "source": [
    "class RMSNormalization(nn.Module):\n",
    "    def __init__(self, layer_shape, eps=1e-5, bias=False):\n",
    "        super(RMSNormalization, self).__init__()\n",
    "        self.eps = eps\n",
    "        self.register_parameter(\n",
    "            \"scale\", nn.Parameter(torch.ones(layer_shape))\n",
    "        )\n",
    "\n",
    "    def forward(self, x):\n",
    "        \"\"\"\n",
    "        assumes shape (batch, seq_len, d_model)\n",
    "        \"\"\"\n",
    "        ff_rms = torch.linalg.norm(x, dim=(1, 2)) * x[0].numel() ** -0.5\n",
    "        raw = x / ff_rms.unsqueeze(-1).unsqueeze(-1)\n",
    "        return self.scale[: x.shape[1], :].unsqueeze(0) * raw"
   ]
  },
  {
   "cell_type": "code",
   "execution_count": 15,
   "metadata": {},
   "outputs": [
    {
     "name": "stdout",
     "output_type": "stream",
     "text": [
      "model params: 18630753\n",
      "Epoch 0 | train loss 10.313 | val loss 10.333 | Time 0.022 | ETA: 0:00:00.438595\n",
      "Epoch 50 | train loss 5.753 | val loss 5.861 | Time 0.419 | ETA: 0:00:07.956187\n",
      "Epoch 100 | train loss 5.089 | val loss 5.057 | Time 0.418 | ETA: 0:00:07.523141\n",
      "Epoch 150 | train loss 5.159 | val loss 5.224 | Time 0.431 | ETA: 0:00:07.325581\n",
      "Epoch 200 | train loss 4.939 | val loss 4.566 | Time 0.410 | ETA: 0:00:06.558800\n",
      "Epoch 250 | train loss 4.676 | val loss 4.890 | Time 0.411 | ETA: 0:00:06.168412\n",
      "Epoch 300 | train loss 4.746 | val loss 4.487 | Time 0.359 | ETA: 0:00:05.025996\n",
      "Epoch 350 | train loss 4.613 | val loss 4.649 | Time 0.360 | ETA: 0:00:04.679999\n",
      "Epoch 400 | train loss 4.432 | val loss 4.629 | Time 0.359 | ETA: 0:00:04.308008\n",
      "Epoch 450 | train loss 4.579 | val loss 4.253 | Time 0.359 | ETA: 0:00:03.949000\n",
      "Epoch 500 | train loss 4.466 | val loss 4.718 | Time 0.359 | ETA: 0:00:03.590002\n",
      "Epoch 550 | train loss 4.416 | val loss 4.135 | Time 0.414 | ETA: 0:00:03.726017\n",
      "Epoch 600 | train loss 4.462 | val loss 4.431 | Time 0.410 | ETA: 0:00:03.280005\n",
      "Epoch 650 | train loss 4.278 | val loss 4.108 | Time 0.414 | ETA: 0:00:02.897999\n",
      "Epoch 700 | train loss 4.209 | val loss 4.052 | Time 0.417 | ETA: 0:00:02.502005\n",
      "Epoch 750 | train loss 4.132 | val loss 4.035 | Time 0.418 | ETA: 0:00:02.089999\n",
      "Epoch 800 | train loss 4.010 | val loss 4.336 | Time 0.412 | ETA: 0:00:01.648005\n",
      "Epoch 850 | train loss 3.927 | val loss 4.273 | Time 0.411 | ETA: 0:00:01.233000\n",
      "Epoch 900 | train loss 3.951 | val loss 4.367 | Time 0.426 | ETA: 0:00:00.852001\n",
      "Epoch 950 | train loss 4.134 | val loss 4.028 | Time 0.421 | ETA: 0:00:00.421000\n",
      "training loss 4.134 | validation loss: 4.028\n"
     ]
    },
    {
     "data": {
      "text/plain": [
       "<Axes: >"
      ]
     },
     "execution_count": 15,
     "metadata": {},
     "output_type": "execute_result"
    },
    {
     "data": {
      "image/png": "[encoded data removed]",
      "text/plain": [
       "<Figure size 640x480 with 1 Axes>"
      ]
     },
     "metadata": {},
     "output_type": "display_data"
    }
   ],
   "source": [
    "class SimpleFeedForwardNN_RMS(nn.Module):\n",
    "    def __init__(self, config):\n",
    "        super().__init__()\n",
    "        self.config = config\n",
    "\n",
    "        self.embedding = nn.Embedding(\n",
    "            config[\"vocab_size\"], config[\"d_model\"]\n",
    "        )\n",
    "        self.rms = RMSNormalization((config[\"d_model\"], config[\"d_model\"]))\n",
    "        self.linear = nn.Sequential(\n",
    "            nn.Linear(config[\"d_model\"], config[\"d_model\"]),\n",
    "            nn.ReLU(),\n",
    "            nn.Linear(config[\"d_model\"], config[\"vocab_size\"]),\n",
    "        )\n",
    "\n",
    "        print(\n",
    "            f\"model params: {sum([m.numel() for m in self.parameters()])}\"\n",
    "        )\n",
    "\n",
    "    def forward(self, idx, targets=None):\n",
    "        x = self.embedding(idx)\n",
    "        x = self.rms(x)  # rms pre-normalization\n",
    "        logits = self.linear(x)\n",
    "\n",
    "        if targets is not None:\n",
    "            loss = F.cross_entropy(\n",
    "                logits.view(-1, self.config[\"vocab_size\"]),\n",
    "                targets.view(-1),\n",
    "                ignore_index=tokenizer.pad_token_id,\n",
    "                # reduction=\"sum\",\n",
    "            )\n",
    "            return logits, loss\n",
    "\n",
    "        else:\n",
    "            return logits\n",
    "\n",
    "\n",
    "model = SimpleFeedForwardNN_RMS(MASTER_CONFIG).to(device)\n",
    "optimizer = torch.optim.AdamW(model.parameters())\n",
    "train(model, optimizer, data=train_data, print_logs=True)"
   ]
  },
  {
   "cell_type": "code",
   "execution_count": 16,
   "metadata": {},
   "outputs": [
    {
     "data": {
      "text/plain": [
       "['<s> Write a short story. Possible Story: 3 togetherakes. 3 year all and said, snacks forunder of friends and made sure clean out her. \" жовs ch. Possible',\n",
       " '<s> Write a short story. Possible Story: 3 years old man. He ran?\" asked her tore on his that day. She said, feeling very excited. Possible Story: Finally! The',\n",
       " '<s> Write a short story. Possible Story: 3 looks if youfly and felt safe. It was so happy for the path lessly, full ofstream a bushes. Possible Story:!',\n",
       " '<s> Write a short story. Possible Story: icy special special store to hop.\" After they all looks play by to sh stood asked. 3 and will be different from on walking on the tree',\n",
       " '<s> Write a short story. Possible Story: 3 everything as, \"I snake. Come far away from around the proud of march she said and noticed made sure fun! Sops and him']"
      ]
     },
     "execution_count": 16,
     "metadata": {},
     "output_type": "execute_result"
    }
   ],
   "source": [
    "generate(model, config=MASTER_CONFIG)"
   ]
  },
  {
   "cell_type": "code",
   "execution_count": 17,
   "metadata": {},
   "outputs": [
    {
     "name": "stdout",
     "output_type": "stream",
     "text": [
      "SimpleFeedForwardNN 18547809 Params | Train: 4.129 | Val: 4.458\n",
      "SimpleFeedForwardNN_RMS 18630753 Params | Train: 4.134 | Val: 4.028\n"
     ]
    }
   ],
   "source": [
    "for i in GLOBAL_KEEP_TRACK:\n",
    "    print(i)"
   ]
  },
  {
   "cell_type": "markdown",
   "metadata": {},
   "source": [
    "### RoPE scaling\n",
    "\n",
    "Rotary Embeddings changes the positional encoding from being based on sine and cosine to being based on the rotation of the embeddings, with a different rotation at each position"
   ]
  },
  {
   "cell_type": "code",
   "execution_count": 18,
   "metadata": {},
   "outputs": [
    {
     "name": "stderr",
     "output_type": "stream",
     "text": [
      "C:\\Users\\chris\\AppData\\Local\\Temp\\ipykernel_16536\\388148385.py:1: NumbaDeprecationWarning: \u001b[1mThe keyword argument 'nopython=False' was supplied. From Numba 0.59.0 the default is being changed to True and use of 'nopython=False' will raise a warning as the argument will have no effect. See https://numba.readthedocs.io/en/stable/reference/deprecation.html#deprecation-of-object-mode-fall-back-behaviour-when-using-jit for details.\u001b[0m\n",
      "  @jit(\n"
     ]
    }
   ],
   "source": [
    "@jit(\n",
    "    nopython=False\n",
    ")  # Careful running @jit and @njit in a jupyter notebook, nopython compilation might fail.\n",
    "def get_rotary_matrix(context_window, embedding_dim):\n",
    "    R = torch.zeros(\n",
    "        (context_window, embedding_dim, embedding_dim), requires_grad=False\n",
    "    )\n",
    "    for position in range(context_window):\n",
    "        for i in range(embedding_dim // 2):\n",
    "            theta = 10000.0 ** (-2.0 * (i - 1) / embedding_dim)\n",
    "            m_theta = position * theta\n",
    "            R[position, 2 * i, 2 * i] = np.cos(m_theta)\n",
    "            R[position, 2 * i, 2 * i + 1] = -np.sin(m_theta)\n",
    "            R[position, 2 * i + 1, 2 * i] = np.sin(m_theta)\n",
    "            R[position, 2 * i + 1, 2 * i + 1] = np.cos(m_theta)\n",
    "    return R"
   ]
  },
  {
   "cell_type": "code",
   "execution_count": 19,
   "metadata": {},
   "outputs": [
    {
     "name": "stderr",
     "output_type": "stream",
     "text": [
      "C:\\Users\\chris\\AppData\\Local\\Temp\\ipykernel_16536\\388148385.py:1: NumbaWarning: \u001b[1m\n",
      "Compilation is falling back to object mode WITH looplifting enabled because Function \"get_rotary_matrix\" failed type inference due to: \u001b[1m\u001b[1mUnknown attribute 'zeros' of type Module(<module 'torch' from 'c:\\\\Users\\\\chris\\\\anaconda3\\\\envs\\\\llmbook\\\\Lib\\\\site-packages\\\\torch\\\\__init__.py'>)\n",
      "\u001b[1m\n",
      "File \"..\\..\\..\\..\\AppData\\Local\\Temp\\ipykernel_16536\\388148385.py\", line 5:\u001b[0m\n",
      "\u001b[1m<source missing, REPL/exec in use?>\u001b[0m\n",
      "\u001b[0m\n",
      "\u001b[0m\u001b[1mDuring: typing of get attribute at C:\\Users\\chris\\AppData\\Local\\Temp\\ipykernel_16536\\388148385.py (5)\u001b[0m\n",
      "\u001b[1m\n",
      "File \"..\\..\\..\\..\\AppData\\Local\\Temp\\ipykernel_16536\\388148385.py\", line 5:\u001b[0m\n",
      "\u001b[1m<source missing, REPL/exec in use?>\u001b[0m\n",
      "\u001b[0m\n",
      "  @jit(\n",
      "C:\\Users\\chris\\AppData\\Local\\Temp\\ipykernel_16536\\388148385.py:1: NumbaWarning: \u001b[1m\n",
      "Compilation is falling back to object mode WITHOUT looplifting enabled because Function \"get_rotary_matrix\" failed type inference due to: \u001b[1m\u001b[1mCannot determine Numba type of <class 'numba.core.dispatcher.LiftedLoop'>\u001b[0m\n",
      "\u001b[1m\n",
      "File \"..\\..\\..\\..\\AppData\\Local\\Temp\\ipykernel_16536\\388148385.py\", line 8:\u001b[0m\n",
      "\u001b[1m<source missing, REPL/exec in use?>\u001b[0m\n",
      "\u001b[0m\u001b[0m\n",
      "  @jit(\n",
      "c:\\Users\\chris\\anaconda3\\envs\\llmbook\\Lib\\site-packages\\numba\\core\\object_mode_passes.py:151: NumbaWarning: \u001b[1mFunction \"get_rotary_matrix\" was compiled in object mode without forceobj=True, but has lifted loops.\n",
      "\u001b[1m\n",
      "File \"..\\..\\..\\..\\AppData\\Local\\Temp\\ipykernel_16536\\388148385.py\", line 1:\u001b[0m\n",
      "\u001b[1m<source missing, REPL/exec in use?>\u001b[0m\n",
      "\u001b[0m\n",
      "  warnings.warn(errors.NumbaWarning(warn_msg,\n",
      "c:\\Users\\chris\\anaconda3\\envs\\llmbook\\Lib\\site-packages\\numba\\core\\object_mode_passes.py:161: NumbaDeprecationWarning: \u001b[1m\n",
      "Fall-back from the nopython compilation path to the object mode compilation path has been detected. This is deprecated behaviour that will be removed in Numba 0.59.0.\n",
      "\n",
      "For more information visit https://numba.readthedocs.io/en/stable/reference/deprecation.html#deprecation-of-object-mode-fall-back-behaviour-when-using-jit\n",
      "\u001b[1m\n",
      "File \"..\\..\\..\\..\\AppData\\Local\\Temp\\ipykernel_16536\\388148385.py\", line 1:\u001b[0m\n",
      "\u001b[1m<source missing, REPL/exec in use?>\u001b[0m\n",
      "\u001b[0m\n",
      "  warnings.warn(errors.NumbaDeprecationWarning(msg,\n",
      "C:\\Users\\chris\\AppData\\Local\\Temp\\ipykernel_16536\\388148385.py:1: NumbaWarning: \u001b[1m\n",
      "Compilation is falling back to object mode WITHOUT looplifting enabled because Function \"get_rotary_matrix\" failed type inference due to: \u001b[1m\u001b[1mnon-precise type pyobject\u001b[0m\n",
      "\u001b[0m\u001b[1mDuring: typing of argument at C:\\Users\\chris\\AppData\\Local\\Temp\\ipykernel_16536\\388148385.py (8)\u001b[0m\n",
      "\u001b[1m\n",
      "File \"..\\..\\..\\..\\AppData\\Local\\Temp\\ipykernel_16536\\388148385.py\", line 8:\u001b[0m\n",
      "\u001b[1m<source missing, REPL/exec in use?>\u001b[0m\n",
      "\u001b[0m\n",
      "  @jit(\n",
      "c:\\Users\\chris\\anaconda3\\envs\\llmbook\\Lib\\site-packages\\numba\\core\\object_mode_passes.py:151: NumbaWarning: \u001b[1mFunction \"get_rotary_matrix\" was compiled in object mode without forceobj=True.\n",
      "\u001b[1m\n",
      "File \"..\\..\\..\\..\\AppData\\Local\\Temp\\ipykernel_16536\\388148385.py\", line 8:\u001b[0m\n",
      "\u001b[1m<source missing, REPL/exec in use?>\u001b[0m\n",
      "\u001b[0m\n",
      "  warnings.warn(errors.NumbaWarning(warn_msg,\n",
      "c:\\Users\\chris\\anaconda3\\envs\\llmbook\\Lib\\site-packages\\numba\\core\\object_mode_passes.py:161: NumbaDeprecationWarning: \u001b[1m\n",
      "Fall-back from the nopython compilation path to the object mode compilation path has been detected. This is deprecated behaviour that will be removed in Numba 0.59.0.\n",
      "\n",
      "For more information visit https://numba.readthedocs.io/en/stable/reference/deprecation.html#deprecation-of-object-mode-fall-back-behaviour-when-using-jit\n",
      "\u001b[1m\n",
      "File \"..\\..\\..\\..\\AppData\\Local\\Temp\\ipykernel_16536\\388148385.py\", line 8:\u001b[0m\n",
      "\u001b[1m<source missing, REPL/exec in use?>\u001b[0m\n",
      "\u001b[0m\n",
      "  warnings.warn(errors.NumbaDeprecationWarning(msg,\n"
     ]
    },
    {
     "data": {
      "image/png": "[encoded data removed]",
      "text/plain": [
       "<Figure size 900x1200 with 9 Axes>"
      ]
     },
     "metadata": {},
     "output_type": "display_data"
    }
   ],
   "source": [
    "from IPython.display import clear_output\n",
    "\n",
    "K = 3\n",
    "config = {\n",
    "    \"batch_size\": 10,\n",
    "    \"d_model\": 32,\n",
    "    \"n_heads\": 8,\n",
    "    \"context_window\": K**2,\n",
    "}\n",
    "batch = torch.randn(1, config[\"context_window\"], config[\"d_model\"])\n",
    "R = get_rotary_matrix(config[\"context_window\"], config[\"d_model\"])\n",
    "# clear_output()\n",
    "fig, ax = plt.subplots(K, K, figsize=(K * 3, K * 4))\n",
    "\n",
    "for i in range(K):\n",
    "    for j in range(K):\n",
    "        ax[i, j].imshow(R[i * K + j, :, :].detach().numpy())\n",
    "        ax[i, j].set_title(f\"rotation at {i * K + j}\")"
   ]
  },
  {
   "cell_type": "code",
   "execution_count": 20,
   "metadata": {},
   "outputs": [
    {
     "name": "stderr",
     "output_type": "stream",
     "text": [
      "C:\\Users\\chris\\AppData\\Local\\Temp\\ipykernel_16536\\2521293711.py:27: NumbaDeprecationWarning: \u001b[1mThe keyword argument 'nopython=False' was supplied. From Numba 0.59.0 the default is being changed to True and use of 'nopython=False' will raise a warning as the argument will have no effect. See https://numba.readthedocs.io/en/stable/reference/deprecation.html#deprecation-of-object-mode-fall-back-behaviour-when-using-jit for details.\u001b[0m\n",
      "  @jit(nopython=False)\n"
     ]
    }
   ],
   "source": [
    "config = {\n",
    "    \"batch_size\": 10,\n",
    "    \"d_model\": 512,\n",
    "    \"n_heads\": 8,\n",
    "    \"context_window\": 16,\n",
    "}\n",
    "\n",
    "\n",
    "class RoPEMaskedAttentionHead(nn.Module):\n",
    "    def __init__(self, config):\n",
    "        super().__init__()\n",
    "        self.config = config\n",
    "        self.w_q = nn.Linear(\n",
    "            config[\"d_model\"], config[\"d_model\"], bias=False\n",
    "        )\n",
    "        self.w_k = nn.Linear(\n",
    "            config[\"d_model\"], config[\"d_model\"], bias=False\n",
    "        )\n",
    "        self.w_v = nn.Linear(\n",
    "            config[\"d_model\"], config[\"d_model\"], bias=False\n",
    "        )\n",
    "\n",
    "        self.R = get_rotary_matrix(\n",
    "            config[\"context_window\"], config[\"d_model\"]\n",
    "        ).to(device)\n",
    "\n",
    "    @jit(nopython=False)\n",
    "    def get_rotary_matrix(context_window, embedding_dim):\n",
    "        R = torch.zeros(\n",
    "            (context_window, embedding_dim, embedding_dim),\n",
    "            requires_grad=False,\n",
    "        )\n",
    "        for position in range(context_window):\n",
    "            for i in range(embedding_dim // 2):\n",
    "                theta = 10000.0 ** (-2.0 * (i - 1) / embedding_dim)\n",
    "                m_theta = position * theta\n",
    "                R[position, 2 * i, 2 * i] = np.cos(m_theta)\n",
    "                R[position, 2 * i, 2 * i + 1] = -np.sin(m_theta)\n",
    "                R[position, 2 * i + 1, 2 * i] = np.sin(m_theta)\n",
    "                R[position, 2 * i + 1, 2 * i + 1] = np.cos(m_theta)\n",
    "        return R\n",
    "\n",
    "    def forward(self, x, return_attn_weights=False):\n",
    "        b, m, d = x.shape\n",
    "\n",
    "        q = self.w_q(x).to(device)\n",
    "        k = self.w_k(x).to(device)\n",
    "        v = self.w_v(x).to(device)\n",
    "\n",
    "        q_rotated = (\n",
    "            (torch.bmm(q.transpose(0, 1), self.R[:m]))\n",
    "            .transpose(0, 1)\n",
    "            .to(device)\n",
    "        )\n",
    "        k_rotated = (\n",
    "            (torch.bmm(k.transpose(0, 1), self.R[:m]))\n",
    "            .transpose(0, 1)\n",
    "            .to(device)\n",
    "        )\n",
    "\n",
    "        activations = F.scaled_dot_product_attention(\n",
    "            q_rotated, k_rotated, v, dropout_p=0.1, is_causal=True\n",
    "        )\n",
    "\n",
    "        if return_attn_weights:\n",
    "            attn_mask = torch.tril(torch.ones((m, m)), diagonal=0).to(\n",
    "                device\n",
    "            )\n",
    "            attn_weights = (\n",
    "                torch.bmm(q_rotated, k_rotated.transpose(1, 2)) / np.sqrt(d)\n",
    "                + attn_mask\n",
    "            )\n",
    "            attn_weights = F.softmax(attn_weights, dim=-1)\n",
    "            return activations, attn_weights\n",
    "        return activations\n",
    "\n",
    "\n",
    "layer = RoPEMaskedAttentionHead(config)\n",
    "batch = torch.randn(\n",
    "    (config[\"batch_size\"], config[\"context_window\"], config[\"d_model\"])\n",
    ")\n",
    "output, attn_weights = layer(batch, return_attn_weights=True)"
   ]
  },
  {
   "cell_type": "code",
   "execution_count": 21,
   "metadata": {},
   "outputs": [
    {
     "data": {
      "text/plain": [
       "torch.Size([16, 32, 288])"
      ]
     },
     "execution_count": 21,
     "metadata": {},
     "output_type": "execute_result"
    }
   ],
   "source": [
    "class RoPEMaskedMultiheadAttention(nn.Module):\n",
    "    def __init__(self, config):\n",
    "        super().__init__()\n",
    "        self.config = config\n",
    "        self.heads = nn.ModuleList(\n",
    "            [\n",
    "                RoPEMaskedAttentionHead(config).to(device)\n",
    "                for _ in range(config[\"n_heads\"])\n",
    "            ]\n",
    "        )\n",
    "        self.linear = nn.Linear(\n",
    "            config[\"n_heads\"] * config[\"d_model\"], config[\"d_model\"]\n",
    "        ).to(device)\n",
    "        self.dropout = nn.Dropout(0.1)\n",
    "\n",
    "    def forward(self, x):\n",
    "        x = x.to(device)\n",
    "        heads = [h(x) for h in self.heads]\n",
    "        x = torch.cat(heads, dim=-1)\n",
    "        x = self.linear(x)\n",
    "        x = self.dropout(x)\n",
    "        return x\n",
    "\n",
    "\n",
    "layer = RoPEMaskedMultiheadAttention(MASTER_CONFIG)\n",
    "batch = torch.ones(\n",
    "    (\n",
    "        MASTER_CONFIG[\"batch_size\"],\n",
    "        MASTER_CONFIG[\"context_window\"],\n",
    "        MASTER_CONFIG[\"d_model\"],\n",
    "    )\n",
    ")\n",
    "output = layer(batch)\n",
    "output.shape"
   ]
  },
  {
   "cell_type": "code",
   "execution_count": 22,
   "metadata": {},
   "outputs": [
    {
     "name": "stdout",
     "output_type": "stream",
     "text": [
      "model params: 20621697\n",
      "Epoch 0 | train loss 10.395 | val loss 10.415 | Time 0.012 | ETA: 0:00:00.240006\n",
      "Epoch 50 | train loss 5.996 | val loss 5.701 | Time 0.679 | ETA: 0:00:12.901030\n",
      "Epoch 100 | train loss 4.854 | val loss 5.073 | Time 0.670 | ETA: 0:00:12.060001\n",
      "Epoch 150 | train loss 4.719 | val loss 5.449 | Time 0.671 | ETA: 0:00:11.406996\n",
      "Epoch 200 | train loss 4.544 | val loss 5.137 | Time 0.666 | ETA: 0:00:10.655994\n",
      "Epoch 250 | train loss 4.326 | val loss 4.701 | Time 0.800 | ETA: 0:00:12.000006\n",
      "Epoch 300 | train loss 4.138 | val loss 4.609 | Time 0.662 | ETA: 0:00:09.268006\n",
      "Epoch 350 | train loss 4.121 | val loss 4.469 | Time 0.665 | ETA: 0:00:08.644993\n",
      "Epoch 400 | train loss 4.657 | val loss 4.510 | Time 0.659 | ETA: 0:00:07.908002\n",
      "Epoch 450 | train loss 4.402 | val loss 4.299 | Time 0.664 | ETA: 0:00:07.303974\n",
      "Epoch 500 | train loss 4.142 | val loss 4.224 | Time 0.667 | ETA: 0:00:06.670015\n",
      "Epoch 550 | train loss 4.086 | val loss 3.982 | Time 0.611 | ETA: 0:00:05.498998\n",
      "Epoch 600 | train loss 4.000 | val loss 4.307 | Time 0.611 | ETA: 0:00:04.888000\n",
      "Epoch 650 | train loss 3.669 | val loss 4.209 | Time 0.614 | ETA: 0:00:04.294584\n",
      "Epoch 700 | train loss 4.361 | val loss 4.194 | Time 0.611 | ETA: 0:00:03.666000\n",
      "Epoch 750 | train loss 4.123 | val loss 4.134 | Time 0.611 | ETA: 0:00:03.055000\n",
      "Epoch 800 | train loss 4.327 | val loss 4.400 | Time 0.672 | ETA: 0:00:02.686039\n",
      "Epoch 850 | train loss 4.059 | val loss 4.270 | Time 0.676 | ETA: 0:00:02.028000\n",
      "Epoch 900 | train loss 4.083 | val loss 4.083 | Time 0.660 | ETA: 0:00:01.320000\n",
      "Epoch 950 | train loss 4.032 | val loss 4.181 | Time 0.659 | ETA: 0:00:00.658515\n",
      "training loss 4.032 | validation loss: 4.181\n"
     ]
    },
    {
     "data": {
      "text/plain": [
       "<Axes: >"
      ]
     },
     "execution_count": 22,
     "metadata": {},
     "output_type": "execute_result"
    },
    {
     "data": {
      "image/png": "[encoded data removed]",
      "text/plain": [
       "<Figure size 640x480 with 1 Axes>"
      ]
     },
     "metadata": {},
     "output_type": "display_data"
    }
   ],
   "source": [
    "class SimpleFeedForwardNN_RMS_Rope(nn.Module):\n",
    "    def __init__(self, config):\n",
    "        super().__init__()\n",
    "        self.config = config\n",
    "\n",
    "        self.embedding = nn.Embedding(\n",
    "            config[\"vocab_size\"], config[\"d_model\"]\n",
    "        )\n",
    "        self.rms = RMSNormalization(\n",
    "            (config[\"d_model\"], config[\"d_model\"])\n",
    "        ).to(device)\n",
    "        self.rope_attention = RoPEMaskedMultiheadAttention(config).to(\n",
    "            device\n",
    "        )\n",
    "\n",
    "        self.linear = nn.Sequential(\n",
    "            nn.Linear(config[\"d_model\"], config[\"d_model\"]), nn.ReLU()\n",
    "        )\n",
    "\n",
    "        self.last_linear = nn.Linear(\n",
    "            config[\"d_model\"], config[\"vocab_size\"]\n",
    "        )\n",
    "\n",
    "        print(\n",
    "            f\"model params: {sum([m.numel() for m in self.parameters()])}\"\n",
    "        )\n",
    "\n",
    "    def forward(self, idx, targets=None):\n",
    "        x = self.embedding(idx)\n",
    "\n",
    "        x = self.rms(x)\n",
    "        x = x + self.rope_attention(x)\n",
    "\n",
    "        x = self.rms(x)\n",
    "        x = x + self.linear(x)\n",
    "\n",
    "        logits = self.last_linear(x)\n",
    "\n",
    "        if targets is not None:\n",
    "            loss = F.cross_entropy(\n",
    "                logits.view(-1, self.config[\"vocab_size\"]),\n",
    "                targets.view(-1),\n",
    "                ignore_index=tokenizer.pad_token_id,\n",
    "                # reduction=\"sum\",\n",
    "            )\n",
    "            return logits, loss\n",
    "\n",
    "        else:\n",
    "            return logits\n",
    "\n",
    "\n",
    "model = SimpleFeedForwardNN_RMS_Rope(MASTER_CONFIG).to(device)\n",
    "optimizer = torch.optim.AdamW(model.parameters())\n",
    "train(model, optimizer, data=train_data, print_logs=True)"
   ]
  },
  {
   "cell_type": "code",
   "execution_count": 23,
   "metadata": {},
   "outputs": [
    {
     "data": {
      "text/plain": [
       "[\"<s> Write a short story. Possible Story: 3 years old and ho his dog's mommy picked a teddylorot and ran away. Then, he wanted to pick it: inv\",\n",
       " '<s> Write a short story. Possible Story: 3 years old. One day they stopped and sne youps put a special.\" Tommy flew. From that day, Lilly aboutancedat',\n",
       " '<s> Write a short story. Possible Story: 3 years old lady. I won\\'t fly\\'t like Jack, so fun.\" The monster, anythingy the Link each other.\" The',\n",
       " '<s> Write a short story. Possible Story: 3 years patient walking and said in to take out of old the bree Luke near. Possible Story: Ben smiled and said, \"Let\\'s',\n",
       " '<s> Write a short story. Possible Story: 3 queen perfMore listen rotswing heard a! Can I коллеf so he unpackut, in front.\" The little girl laughed and let L']"
      ]
     },
     "execution_count": 23,
     "metadata": {},
     "output_type": "execute_result"
    }
   ],
   "source": [
    "generate(model, config=MASTER_CONFIG)"
   ]
  },
  {
   "cell_type": "code",
   "execution_count": 24,
   "metadata": {},
   "outputs": [
    {
     "name": "stdout",
     "output_type": "stream",
     "text": [
      "SimpleFeedForwardNN 18547809 Params | Train: 4.129 | Val: 4.458\n",
      "SimpleFeedForwardNN_RMS 18630753 Params | Train: 4.134 | Val: 4.028\n",
      "SimpleFeedForwardNN_RMS_Rope 20621697 Params | Train: 4.032 | Val: 4.181\n"
     ]
    }
   ],
   "source": [
    "for i in GLOBAL_KEEP_TRACK:\n",
    "    print(i)"
   ]
  },
  {
   "cell_type": "markdown",
   "metadata": {},
   "source": [
    "### SwiGLU\n",
    "\n",
    "Replace ReLU activation function. Defined as SwiGLU(x) = Swishβ(xW + b)⊗︀(xV + c)"
   ]
  },
  {
   "cell_type": "code",
   "execution_count": 25,
   "metadata": {},
   "outputs": [],
   "source": [
    "class SwiGLU(nn.Module):\n",
    "    def __init__(self, size):\n",
    "        super().__init__()\n",
    "        self.config = config\n",
    "        self.linear_gate = nn.Linear(size, size)\n",
    "        self.linear = nn.Linear(size, size)\n",
    "        self.beta = torch.randn(1, requires_grad=True)\n",
    "\n",
    "        self.beta = nn.Parameter(torch.ones(1))\n",
    "        self.register_parameter(\"beta\", self.beta)\n",
    "\n",
    "    def forward(self, x):\n",
    "        swish_gate = self.linear_gate(x) * torch.sigmoid(\n",
    "            self.beta * self.linear_gate(x)\n",
    "        )\n",
    "        out = swish_gate * self.linear(x)\n",
    "        return out"
   ]
  },
  {
   "cell_type": "code",
   "execution_count": 26,
   "metadata": {},
   "outputs": [
    {
     "name": "stdout",
     "output_type": "stream",
     "text": [
      "model params: 20788162\n",
      "Epoch 0 | train loss 10.437 | val loss 10.417 | Time 0.017 | ETA: 0:00:00.339966\n",
      "Epoch 50 | train loss 5.759 | val loss 6.172 | Time 0.681 | ETA: 0:00:12.938995\n",
      "Epoch 100 | train loss 4.985 | val loss 5.576 | Time 0.677 | ETA: 0:00:12.186001\n",
      "Epoch 150 | train loss 4.803 | val loss 5.418 | Time 0.680 | ETA: 0:00:11.560439\n",
      "Epoch 200 | train loss 4.787 | val loss 4.817 | Time 0.679 | ETA: 0:00:10.863979\n",
      "Epoch 250 | train loss 4.987 | val loss 5.066 | Time 0.826 | ETA: 0:00:12.389992\n",
      "Epoch 300 | train loss 4.691 | val loss 4.600 | Time 0.679 | ETA: 0:00:09.505985\n",
      "Epoch 350 | train loss 4.100 | val loss 4.301 | Time 0.680 | ETA: 0:00:08.839995\n",
      "Epoch 400 | train loss 4.471 | val loss 4.473 | Time 0.694 | ETA: 0:00:08.322192\n",
      "Epoch 450 | train loss 4.013 | val loss 4.202 | Time 0.677 | ETA: 0:00:07.447001\n",
      "Epoch 500 | train loss 4.309 | val loss 4.153 | Time 0.680 | ETA: 0:00:06.799996\n",
      "Epoch 550 | train loss 3.953 | val loss 4.058 | Time 0.695 | ETA: 0:00:06.255014\n",
      "Epoch 600 | train loss 3.993 | val loss 4.180 | Time 0.683 | ETA: 0:00:05.463995\n",
      "Epoch 650 | train loss 4.099 | val loss 4.068 | Time 0.684 | ETA: 0:00:04.788000\n",
      "Epoch 700 | train loss 3.783 | val loss 3.928 | Time 0.685 | ETA: 0:00:04.110003\n",
      "Epoch 750 | train loss 4.378 | val loss 4.149 | Time 0.684 | ETA: 0:00:03.419997\n",
      "Epoch 800 | train loss 4.256 | val loss 4.076 | Time 0.629 | ETA: 0:00:02.516008\n",
      "Epoch 850 | train loss 4.338 | val loss 4.152 | Time 0.629 | ETA: 0:00:01.887000\n",
      "Epoch 900 | train loss 4.274 | val loss 4.216 | Time 0.627 | ETA: 0:00:01.253999\n",
      "Epoch 950 | train loss 4.025 | val loss 4.270 | Time 0.629 | ETA: 0:00:00.629000\n",
      "training loss 4.025 | validation loss: 4.270\n"
     ]
    },
    {
     "data": {
      "text/plain": [
       "<Axes: >"
      ]
     },
     "execution_count": 26,
     "metadata": {},
     "output_type": "execute_result"
    },
    {
     "data": {
      "image/png": "[encoded data removed]",
      "text/plain": [
       "<Figure size 640x480 with 1 Axes>"
      ]
     },
     "metadata": {},
     "output_type": "display_data"
    }
   ],
   "source": [
    "class SimpleFeedForwardNN_RMS_RoPE_SwiGLU(nn.Module):\n",
    "    def __init__(self, config):\n",
    "        super().__init__()\n",
    "        self.config = config\n",
    "\n",
    "        self.embedding = nn.Embedding(\n",
    "            config[\"vocab_size\"], config[\"d_model\"]\n",
    "        )\n",
    "        self.rms = RMSNormalization((config[\"d_model\"], config[\"d_model\"]))\n",
    "        self.rope_attention = RoPEMaskedMultiheadAttention(config)\n",
    "\n",
    "        self.linear = nn.Sequential(\n",
    "            nn.Linear(config[\"d_model\"], config[\"d_model\"]),\n",
    "            SwiGLU(config[\"d_model\"]),\n",
    "        )\n",
    "\n",
    "        self.last_linear = nn.Linear(\n",
    "            config[\"d_model\"], config[\"vocab_size\"]\n",
    "        )\n",
    "\n",
    "        print(\n",
    "            f\"model params: {sum([m.numel() for m in self.parameters()])}\"\n",
    "        )\n",
    "\n",
    "    def forward(self, idx, targets=None):\n",
    "        x = self.embedding(idx)\n",
    "\n",
    "        x = self.rms(x)\n",
    "        x = x + self.rope_attention(x)\n",
    "\n",
    "        x = self.rms(x)\n",
    "        x = x + self.linear(x)\n",
    "\n",
    "        logits = self.last_linear(x)\n",
    "\n",
    "        if targets is not None:\n",
    "            loss = F.cross_entropy(\n",
    "                logits.view(-1, self.config[\"vocab_size\"]),\n",
    "                targets.view(-1),\n",
    "                ignore_index=tokenizer.pad_token_id,\n",
    "                # reduction=\"sum\",\n",
    "            )\n",
    "            return logits, loss\n",
    "\n",
    "        else:\n",
    "            return logits\n",
    "\n",
    "\n",
    "model = SimpleFeedForwardNN_RMS_RoPE_SwiGLU(MASTER_CONFIG).to(device)\n",
    "optimizer = torch.optim.AdamW(model.parameters())\n",
    "train(model, optimizer, data=train_data, print_logs=True)"
   ]
  },
  {
   "cell_type": "code",
   "execution_count": 27,
   "metadata": {},
   "outputs": [
    {
     "data": {
      "text/plain": [
       "['<s> Write a short story. Possible Story:  was curious and it alone smiled. She openedailsals paint toHelp around to listen to have is not too cold everywhere, \"Don\\'t worry',\n",
       " '<s> Write a short story. Possible Story: ang and eachash all the applaWTI and Mia and said, \" herself they instinctorn?\"  and started. Let\\'s balance',\n",
       " '<s> Write a short story. Possible Story: .\" The follows said, \".\" Ben, sp terrorunny. The incre longer and tight and ranLily, Bob theay. But no',\n",
       " '<s> Write a short story. Possible Story:  was sock. He was excited and saw a rabb and spr without search the boats keep and dirt andamed. She says, \"Let\\'',\n",
       " '<s> Write a short story. Possible Story:  and said, \"Thankжет and eating,ay. I pou. His friends to fol and begg if he sky. would rain walks with']"
      ]
     },
     "execution_count": 27,
     "metadata": {},
     "output_type": "execute_result"
    }
   ],
   "source": [
    "generate(model, config=MASTER_CONFIG)"
   ]
  },
  {
   "cell_type": "code",
   "execution_count": 28,
   "metadata": {},
   "outputs": [
    {
     "name": "stdout",
     "output_type": "stream",
     "text": [
      "SimpleFeedForwardNN 18547809 Params | Train: 4.129 | Val: 4.458\n",
      "SimpleFeedForwardNN_RMS 18630753 Params | Train: 4.134 | Val: 4.028\n",
      "SimpleFeedForwardNN_RMS_Rope 20621697 Params | Train: 4.032 | Val: 4.181\n",
      "SimpleFeedForwardNN_RMS_RoPE_SwiGLU 20788162 Params | Train: 4.025 | Val: 4.270\n"
     ]
    }
   ],
   "source": [
    "for i in GLOBAL_KEEP_TRACK:\n",
    "    print(i)"
   ]
  },
  {
   "cell_type": "code",
   "execution_count": 29,
   "metadata": {},
   "outputs": [
    {
     "data": {
      "text/plain": [
       "36"
      ]
     },
     "execution_count": 29,
     "metadata": {},
     "output_type": "execute_result"
    }
   ],
   "source": [
    "del model\n",
    "with torch.no_grad():\n",
    "    torch.cuda.empty_cache()\n",
    "import gc\n",
    "\n",
    "gc.collect()"
   ]
  },
  {
   "cell_type": "markdown",
   "metadata": {},
   "source": [
    "### Llama\n",
    "\n",
    "So what makes Llama 2 different from regular simple feed forward networks? Blocks of RMSNorm and Residual Rope Attention. Let's make those blocks and create our model"
   ]
  },
  {
   "cell_type": "code",
   "execution_count": 30,
   "metadata": {},
   "outputs": [],
   "source": [
    "class LlamaBlock(nn.Module):\n",
    "    def __init__(self, config):\n",
    "        super().__init__()\n",
    "        self.config = config\n",
    "\n",
    "        self.rms = RMSNormalization(\n",
    "            (config[\"d_model\"], config[\"d_model\"])\n",
    "        ).to(device)\n",
    "\n",
    "        self.attention = RoPEMaskedMultiheadAttention(config).to(device)\n",
    "        self.feedforward = nn.Sequential(\n",
    "            nn.Linear(config[\"d_model\"], config[\"hidden_dim\"]),\n",
    "            SwiGLU(config[\"hidden_dim\"]),\n",
    "            nn.Linear(config[\"hidden_dim\"], config[\"d_model\"]),\n",
    "        ).to(device)\n",
    "\n",
    "    def forward(self, x):\n",
    "        x = self.rms(x)\n",
    "        x = x + self.attention(x)\n",
    "\n",
    "        x = self.rms(x)\n",
    "        x = x + self.feedforward(x)\n",
    "        return x"
   ]
  },
  {
   "cell_type": "code",
   "execution_count": 31,
   "metadata": {},
   "outputs": [],
   "source": [
    "class SimpleLlama(nn.Module):\n",
    "    def __init__(self, config):\n",
    "        super().__init__()\n",
    "        self.config = config\n",
    "\n",
    "        self.embedding = nn.Embedding(\n",
    "            config[\"vocab_size\"], config[\"d_model\"]\n",
    "        )\n",
    "        self.llama_blocks = nn.Sequential(\n",
    "            OrderedDict(\n",
    "                [\n",
    "                    (f\"llama_{i}\", LlamaBlock(config))\n",
    "                    for i in range(config[\"n_layers\"])\n",
    "                ]\n",
    "            )\n",
    "        )\n",
    "\n",
    "        self.ffn = nn.Sequential(\n",
    "            nn.Linear(config[\"d_model\"], config[\"d_model\"]),\n",
    "            SwiGLU(config[\"d_model\"]),\n",
    "            nn.Linear(config[\"d_model\"], config[\"vocab_size\"]),\n",
    "        )\n",
    "\n",
    "        print(\n",
    "            f\"model params: {sum([m.numel() for m in self.parameters()])}\"\n",
    "        )\n",
    "\n",
    "    def forward(self, idx, targets=None):\n",
    "        x = self.embedding(idx)\n",
    "        x = self.llama_blocks(x)\n",
    "        logits = self.ffn(x)\n",
    "\n",
    "        if targets is None:\n",
    "            return logits\n",
    "\n",
    "        else:\n",
    "            loss = F.cross_entropy(\n",
    "                logits.view(-1, self.config[\"vocab_size\"]),\n",
    "                targets.view(-1),\n",
    "                ignore_index=tokenizer.pad_token_id,\n",
    "                # reduction=\"sum\",\n",
    "            )\n",
    "            return logits, loss"
   ]
  },
  {
   "cell_type": "code",
   "execution_count": 32,
   "metadata": {},
   "outputs": [
    {
     "name": "stdout",
     "output_type": "stream",
     "text": [
      "model params: 40905256\n",
      "Epoch 0 | train loss 10.352 | val loss 10.356 | Time 0.195 | ETA: 0:00:03.900027\n",
      "Epoch 50 | train loss 8.257 | val loss 8.150 | Time 2.311 | ETA: 0:00:43.909528\n",
      "Epoch 100 | train loss 8.227 | val loss 8.156 | Time 2.336 | ETA: 0:00:42.048008\n",
      "Epoch 150 | train loss 7.054 | val loss 7.877 | Time 2.340 | ETA: 0:00:39.774373\n",
      "Epoch 200 | train loss 6.383 | val loss 6.446 | Time 2.320 | ETA: 0:00:37.120018\n",
      "Epoch 250 | train loss 6.114 | val loss 6.440 | Time 2.338 | ETA: 0:00:35.070001\n",
      "Epoch 300 | train loss 6.065 | val loss 6.362 | Time 2.327 | ETA: 0:00:32.577992\n",
      "Epoch 350 | train loss 6.060 | val loss 6.483 | Time 2.360 | ETA: 0:00:30.679996\n",
      "Epoch 400 | train loss 6.072 | val loss 6.328 | Time 2.324 | ETA: 0:00:27.888001\n",
      "Epoch 450 | train loss 6.052 | val loss 6.155 | Time 2.323 | ETA: 0:00:25.553333\n",
      "Epoch 500 | train loss 5.918 | val loss 6.139 | Time 2.335 | ETA: 0:00:23.350000\n",
      "Epoch 550 | train loss 5.964 | val loss 6.152 | Time 2.333 | ETA: 0:00:20.996984\n",
      "Epoch 600 | train loss 6.139 | val loss 6.119 | Time 2.362 | ETA: 0:00:18.895992\n",
      "Epoch 650 | train loss 6.344 | val loss 6.205 | Time 2.314 | ETA: 0:00:16.198001\n",
      "Epoch 700 | train loss 6.075 | val loss 6.075 | Time 2.346 | ETA: 0:00:14.075991\n",
      "Epoch 750 | train loss 6.156 | val loss 6.013 | Time 2.332 | ETA: 0:00:11.660001\n",
      "Epoch 800 | train loss 5.998 | val loss 6.261 | Time 2.349 | ETA: 0:00:09.396115\n",
      "Epoch 850 | train loss 5.984 | val loss 6.147 | Time 2.321 | ETA: 0:00:06.963000\n",
      "Epoch 900 | train loss 6.128 | val loss 6.170 | Time 2.332 | ETA: 0:00:04.664000\n",
      "Epoch 950 | train loss 6.216 | val loss 6.046 | Time 2.331 | ETA: 0:00:02.331000\n",
      "training loss 6.216 | validation loss: 6.046\n"
     ]
    },
    {
     "data": {
      "text/plain": [
       "<Axes: >"
      ]
     },
     "execution_count": 32,
     "metadata": {},
     "output_type": "execute_result"
    },
    {
     "data": {
      "image/png": "[encoded data removed]",
      "text/plain": [
       "<Figure size 640x480 with 1 Axes>"
      ]
     },
     "metadata": {},
     "output_type": "display_data"
    }
   ],
   "source": [
    "MASTER_CONFIG[\"epochs\"] = 1000\n",
    "\n",
    "llama = SimpleLlama(MASTER_CONFIG).to(device)\n",
    "optimizer = torch.optim.AdamW(llama.parameters())\n",
    "train(\n",
    "    llama, optimizer, data=train_data, config=MASTER_CONFIG, print_logs=True\n",
    ")"
   ]
  },
  {
   "cell_type": "code",
   "execution_count": 33,
   "metadata": {},
   "outputs": [
    {
     "data": {
      "text/plain": [
       "['<s> Write a short story. Possible Story: ,. happy him the. of had She. was was them they, a she to, he they,. very. so a. and. the a the and! the of, was. very it It, it. had all so him',\n",
       " \"<s> Write a short story. Possible Story:  and had was was. They the. to and. day... She the. said so. and . had her., a so. very, and was.. so The he was of to They'! so happy..\",\n",
       " '<s> Write a short story. Possible Story:  had they he a, a it, a and was. to. was it to that the his!. the to that. the in very so his the She his it was. to, he to his she and and of so the. it',\n",
       " '<s> Write a short story. Possible Story:  had to a of> the so she She very, said his the a with  so  very and it, to so with to very.ily very so day she sh The he very. was to so and a the . time the a',\n",
       " '<s> Write a short story. Possible Story: . they with to with a.. day so she of he the a. it he. and so a she so his it with.. of he to a and She them was had. they a he said so. to so She She,']"
      ]
     },
     "execution_count": 33,
     "metadata": {},
     "output_type": "execute_result"
    }
   ],
   "source": [
    "generate(\n",
    "    llama,\n",
    "    config=MASTER_CONFIG,\n",
    "    temperature=1.0,\n",
    "    top_k=25,\n",
    "    max_new_tokens=50,\n",
    ")"
   ]
  },
  {
   "cell_type": "code",
   "execution_count": 34,
   "metadata": {},
   "outputs": [
    {
     "name": "stdout",
     "output_type": "stream",
     "text": [
      "SimpleFeedForwardNN 18547809 Params | Train: 4.129 | Val: 4.458\n",
      "SimpleFeedForwardNN_RMS 18630753 Params | Train: 4.134 | Val: 4.028\n",
      "SimpleFeedForwardNN_RMS_Rope 20621697 Params | Train: 4.032 | Val: 4.181\n",
      "SimpleFeedForwardNN_RMS_RoPE_SwiGLU 20788162 Params | Train: 4.025 | Val: 4.270\n",
      "SimpleLlama 40905256 Params | Train: 6.216 | Val: 6.046\n"
     ]
    }
   ],
   "source": [
    "for i in GLOBAL_KEEP_TRACK:\n",
    "    print(i)"
   ]
  },
  {
   "cell_type": "code",
   "execution_count": 35,
   "metadata": {},
   "outputs": [
    {
     "name": "stdout",
     "output_type": "stream",
     "text": [
      "model params: 187827210\n"
     ]
    }
   ],
   "source": [
    "MASTER_CONFIG[\"epochs\"] = 1000\n",
    "MASTER_CONFIG[\"batch_size\"] = 16\n",
    "MASTER_CONFIG[\"d_model\"] = 768\n",
    "MASTER_CONFIG[\"n_layers\"] = 8\n",
    "MASTER_CONFIG[\"context_window\"] = 128\n",
    "\n",
    "llama = SimpleLlama(MASTER_CONFIG).to(device)\n",
    "\n",
    "llama_optimizer = torch.optim.AdamW(\n",
    "    llama.parameters(),\n",
    "    betas=(0.9, 0.95),\n",
    "    weight_decay=1e-1,\n",
    "    eps=1e-9,\n",
    "    lr=5e-4,\n",
    ")\n",
    "scheduler = torch.optim.lr_scheduler.CosineAnnealingLR(\n",
    "    llama_optimizer, 1000, eta_min=1e-5\n",
    ")"
   ]
  },
  {
   "cell_type": "code",
   "execution_count": 36,
   "metadata": {},
   "outputs": [
    {
     "name": "stdout",
     "output_type": "stream",
     "text": [
      "Epoch 0 | train loss 10.321 | val loss 10.316 | Time 0.622 | ETA: 0:00:12.439990\n",
      "lr:  [0.0004999987909744553]\n",
      "Epoch 50 | train loss 6.273 | val loss 6.603 | Time 28.088 | ETA: 0:08:53.673437\n",
      "lr:  [0.0004968620434287298]\n",
      "Epoch 100 | train loss 6.202 | val loss 6.334 | Time 28.727 | ETA: 0:08:37.082039\n",
      "lr:  [0.00048776984967968684]\n",
      "Epoch 150 | train loss 6.244 | val loss 6.277 | Time 28.918 | ETA: 0:08:11.604545\n",
      "lr:  [0.0004729460897126908]\n",
      "Epoch 200 | train loss 6.176 | val loss 6.211 | Time 250.150 | ETA: 1:06:42.399536\n",
      "lr:  [0.0004527557736953662]\n",
      "Epoch 250 | train loss 6.157 | val loss 6.300 | Time 95.786 | ETA: 0:23:56.796062\n",
      "lr:  [0.0004276960542158767]\n",
      "Epoch 300 | train loss 8.529 | val loss 7.245 | Time 437.919 | ETA: 1:42:10.861873\n",
      "lr:  [0.00039838398473624826]\n",
      "Epoch 350 | train loss 6.170 | val loss 6.297 | Time 92.723 | ETA: 0:20:05.396785\n",
      "lr:  [0.00036554132568825045]\n",
      "Epoch 400 | train loss 6.125 | val loss 6.185 | Time 90.402 | ETA: 0:18:04.828663\n",
      "lr:  [0.0003299767723361813]\n",
      "Epoch 450 | train loss 6.004 | val loss 6.262 | Time 463.556 | ETA: 1:24:59.116325\n",
      "lr:  [0.00029256604201555376]\n",
      "Epoch 500 | train loss 5.948 | val loss 6.386 | Time 107.396 | ETA: 0:17:53.964055\n",
      "lr:  [0.0002542303110659579]\n",
      "Epoch 550 | train loss 6.117 | val loss 6.401 | Time 88.752 | ETA: 0:13:18.770707\n",
      "lr:  [0.00021591353241236954]\n",
      "Epoch 600 | train loss 6.102 | val loss 6.217 | Time 461.387 | ETA: 1:01:31.098642\n",
      "lr:  [0.0001785591923113374]\n",
      "Epoch 650 | train loss 6.101 | val loss 6.222 | Time 94.892 | ETA: 0:11:04.246949\n",
      "lr:  [0.0001430870785880959]\n",
      "Epoch 700 | train loss 6.081 | val loss 6.220 | Time 294.704 | ETA: 0:29:28.225289\n",
      "lr:  [0.00011037063240770733]\n",
      "Epoch 750 | train loss 5.922 | val loss 6.311 | Time 489.835 | ETA: 0:40:49.172943\n",
      "lr:  [8.121544125479255e-05]\n",
      "Epoch 800 | train loss 5.920 | val loss 6.407 | Time 108.495 | ETA: 0:07:13.978870\n",
      "lr:  [5.6339402696068356e-05]\n",
      "Epoch 850 | train loss 5.969 | val loss 6.475 | Time 84.712 | ETA: 0:04:14.136341\n",
      "lr:  [3.6355047359689e-05]\n",
      "Epoch 900 | train loss 6.047 | val loss 6.545 | Time 464.852 | ETA: 0:15:29.703833\n",
      "lr:  [2.1754456398309237e-05]\n",
      "Epoch 950 | train loss 5.992 | val loss 6.312 | Time 93.213 | ETA: 0:01:33.212983\n",
      "lr:  [1.2897144817981292e-05]\n",
      "training loss 5.992 | validation loss: 6.312\n"
     ]
    },
    {
     "data": {
      "text/plain": [
       "<Axes: >"
      ]
     },
     "execution_count": 36,
     "metadata": {},
     "output_type": "execute_result"
    },
    {
     "data": {
      "image/png": "[encoded data removed]",
      "text/plain": [
       "<Figure size 640x480 with 1 Axes>"
      ]
     },
     "metadata": {},
     "output_type": "display_data"
    }
   ],
   "source": [
    "train(\n",
    "    llama,\n",
    "    llama_optimizer,\n",
    "    scheduler=scheduler,\n",
    "    data=train_data,\n",
    "    config=MASTER_CONFIG,\n",
    "    print_logs=True,\n",
    ")"
   ]
  },
  {
   "cell_type": "code",
   "execution_count": 37,
   "metadata": {},
   "outputs": [
    {
     "data": {
      "text/plain": [
       "['<s> Write a short story. Possible Story: . the other made,,, to to do do.. They. go. the. have the girl g.. \" together He and Ben be., make, and. was to Theying and a?\" was hady. and the',\n",
       " '<s> Write a short story. Possible Story:  the. the the of thes He big Tom, all end on?\" wanted.?\", theyom his, the sheily\\' with have. of.. and She of but can to with. her, was.. but You a.',\n",
       " '<s> Write a short story. Possible Story:  and.\" were|.s the the bow. all their big but them: like girl too. and and proud big.\" was.. wanted you It is, big not see. They you, Tim. like.. together and have the and',\n",
       " '<s> Write a short story. Possible Story:  \" are that in. and,. it.t together the the a and They had happy. was.! it \" time\\'!\" a and and They They can his\\' is she \" and\\' the the was but she sc in them and',\n",
       " '<s> Write a short story. Possible Story:  > but.\" wanted theyy back the.\" is them the heily herily together was. a time,, his.\" and,,.\" One that was, saw him is\\'. you other his h a. \" her. Tim.']"
      ]
     },
     "execution_count": 37,
     "metadata": {},
     "output_type": "execute_result"
    }
   ],
   "source": [
    "generate(\n",
    "    llama,\n",
    "    config=MASTER_CONFIG,\n",
    "    temperature=1.0,\n",
    "    top_k=100,\n",
    "    max_new_tokens=50,\n",
    ")"
   ]
  },
  {
   "cell_type": "code",
   "execution_count": 38,
   "metadata": {},
   "outputs": [
    {
     "name": "stdout",
     "output_type": "stream",
     "text": [
      "SimpleFeedForwardNN 18547809 Params | Train: 4.129 | Val: 4.458\n",
      "SimpleFeedForwardNN_RMS 18630753 Params | Train: 4.134 | Val: 4.028\n",
      "SimpleFeedForwardNN_RMS_Rope 20621697 Params | Train: 4.032 | Val: 4.181\n",
      "SimpleFeedForwardNN_RMS_RoPE_SwiGLU 20788162 Params | Train: 4.025 | Val: 4.270\n",
      "SimpleLlama 40905256 Params | Train: 6.216 | Val: 6.046\n",
      "SimpleLlama 187827210 Params | Train: 5.992 | Val: 6.312\n"
     ]
    }
   ],
   "source": [
    "for i in GLOBAL_KEEP_TRACK:\n",
    "    print(i)"
   ]
  },
  {
   "cell_type": "code",
   "execution_count": 39,
   "metadata": {},
   "outputs": [],
   "source": [
    "# LLAMA_CONFIG = {\n",
    "#     \"vocab_size\": 32000,\n",
    "#     \"batch_size\": 2,\n",
    "#     \"context_window\": 256,\n",
    "#     \"d_model\": 768,\n",
    "#     \"hidden_dim\": 1536,\n",
    "#     \"epochs\": 1,\n",
    "#     \"log_interval\": 1,\n",
    "#     \"n_heads\": 8,\n",
    "#     \"n_layers\": 8,\n",
    "# }\n",
    "\n",
    "# # Llama2 7b config:\n",
    "# # LLAMA_2_7b_CONFIG = {\n",
    "# #     \"hidden_act\": \"silu\",\n",
    "# #     \"hidden_dim\": 4096,\n",
    "# #     \"initializer_range\": 0.02,\n",
    "# #     \"swiglu_size\": 11008,\n",
    "# #     \"context_window\": 4096,\n",
    "# #     \"d_model\": 2048,\n",
    "# #     \"n_heads\": 32,\n",
    "# #     \"n_layers\": 32,\n",
    "# #     \"num_key_value_heads\": 32,\n",
    "# #     \"rms_norm_eps\": 1e-05,\n",
    "# #     \"torch_dtype\": \"float16\", # Ours is float32 right now\n",
    "# #     \"vocab_size\": 32000\n",
    "# # }\n",
    "\n",
    "# # # Llama2 70b config:\n",
    "# # LLAMA_2_70b_CONFIG = {\n",
    "# #     \"hidden_act\": \"silu\",\n",
    "# #     \"hidden_dim\": 8192,\n",
    "# #     \"initializer_range\": 0.02,\n",
    "# #     \"swiglu_size\": 28672,\n",
    "# #     \"context_window\": 4096,\n",
    "# #     \"d_model\": 2048,\n",
    "# #     \"n_heads\": 64,\n",
    "# #     \"n_layers\": 80,\n",
    "# #     \"num_key_value_heads\": 8,\n",
    "# #     \"rms_norm_eps\": 1e-05,\n",
    "# #     \"torch_dtype\": \"float16\", # Ours is float32 right now\n",
    "# #     \"vocab_size\": 32000\n",
    "# #     }"
   ]
  },
  {
   "cell_type": "code",
   "execution_count": 40,
   "metadata": {},
   "outputs": [],
   "source": [
    "# Training with epochs instead of steps\n",
    "# def train(\n",
    "#     model, optimizer, dataset, scheduler=None, config=LLAMA_CONFIG, print_logs=False\n",
    "# ):\n",
    "#     losses = []\n",
    "\n",
    "#     start_time = time.time()\n",
    "#     for epoch in range(config[\"epochs\"]):\n",
    "#         for step, example in enumerate(dataset):\n",
    "#             try:\n",
    "#             optimizer.zero_grad()\n",
    "\n",
    "#             xs, ys = _get_batch(example, 2, config['context_window'])\n",
    "#             _, loss = model(xs, targets=ys)\n",
    "#             loss.backward()\n",
    "#             optimizer.step()\n",
    "\n",
    "#             if scheduler:\n",
    "#                 scheduler.step()\n",
    "\n",
    "#             if i % config[\"log_interval\"] == 0:\n",
    "#                 batch_time = time.time() - start_time\n",
    "#                 x = get_loss(model)\n",
    "#                 losses += [x]\n",
    "#                 if print_logs:\n",
    "#                     print(\n",
    "#                         f\"Epoch {epoch} | Step {i} | train loss {x['train']:.3f} | val loss {x['val']:.3f} | Time {batch_time:.3f} | ETA in seconds: {batch_time * (config['epochs'] - i) :.3f}\"\n",
    "#                     )\n",
    "#                 start_time = time.time()\n",
    "\n",
    "#                 if scheduler:\n",
    "#                     print(\"lr: \", scheduler.get_last_lr())\n",
    "#               except StopIteration:\n",
    "#                   print(f\"Finished dataset at step {step}\")\n",
    "#                   break\n",
    "#     print(f\"training loss {losses[-1]['train']} | validation loss: {losses[-1]['val']}\")\n",
    "#     GLOBAL_KEEP_TRACK.append(f\"{type(model).__name__} {sum([m.numel() for m in model.parameters()])} Params | Train: {losses[-1]['train']} | Val: {losses[-1]['val']}\")\n",
    "#     return pd.DataFrame(losses).plot()"
   ]
  },
  {
   "cell_type": "code",
   "execution_count": 41,
   "metadata": {},
   "outputs": [],
   "source": [
    "# llama = Llama(LLAMA_CONFIG).to(device)\n",
    "\n",
    "# llama_optimizer = torch.optim.Adam(\n",
    "#     llama.parameters(),\n",
    "#     betas=(0.9, 0.95),\n",
    "#     weight_decay=0.1,\n",
    "#     eps=1e-9,\n",
    "#     lr=1e-3,\n",
    "# )\n",
    "# scheduler = torch.optim.lr_scheduler.CosineAnnealingLR(\n",
    "#     llama_optimizer, 1000, eta_min=1e-5\n",
    "# )"
   ]
  },
  {
   "cell_type": "markdown",
   "metadata": {},
   "source": [
    "# Quantization"
   ]
  },
  {
   "cell_type": "code",
   "execution_count": 42,
   "metadata": {},
   "outputs": [
    {
     "name": "stdout",
     "output_type": "stream",
     "text": [
      "SimpleLlama size: 716.504MB\n",
      "SimpleLlama size: 18.000MB\n"
     ]
    }
   ],
   "source": [
    "llama.to(\"cpu\")\n",
    "qconfig_dict = {\n",
    "    torch.nn.Embedding: torch.quantization.float_qparams_weight_only_qconfig,\n",
    "    torch.nn.Linear: torch.quantization.default_dynamic_qconfig,\n",
    "}\n",
    "# Post Training Dynamic Quantization\n",
    "dynamic_quantized_llama = torch.quantization.quantize_dynamic(\n",
    "    llama, qconfig_dict, dtype=torch.qint8\n",
    ")\n",
    "\n",
    "\n",
    "# Get Size difference\n",
    "def get_param_size(model):\n",
    "    param_size = 0\n",
    "    for param in model.parameters():\n",
    "        param_size += param.nelement() * param.element_size()\n",
    "    return param_size\n",
    "\n",
    "\n",
    "def get_buffer_size(model):\n",
    "    buffer_size = 0\n",
    "    for buffer in model.buffers():\n",
    "        buffer_size += buffer.nelement() * buffer.element_size()\n",
    "    return buffer_size\n",
    "\n",
    "\n",
    "def get_param_and_buffer_size(model):\n",
    "    param_size = get_param_size(model)\n",
    "    buffer_size = get_buffer_size(model)\n",
    "    return param_size, buffer_size\n",
    "\n",
    "\n",
    "def get_size_difference(models: list) -> str:\n",
    "    keeping_track = []\n",
    "    for idx, model in enumerate(models):\n",
    "        param_size, buffer_size = get_param_and_buffer_size(model)\n",
    "        size_all_mb = (param_size + buffer_size) / 1024**2\n",
    "        keeping_track.append(\n",
    "            f\"{type(model).__name__} size: {size_all_mb:.3f}MB\"\n",
    "        )\n",
    "    return keeping_track\n",
    "\n",
    "\n",
    "list_of_sizes = get_size_difference([llama, dynamic_quantized_llama])\n",
    "for size in list_of_sizes:\n",
    "    print(size)"
   ]
  },
  {
   "cell_type": "markdown",
   "metadata": {},
   "source": [
    "# LoRA\n",
    "\n",
    "If you have this:\n",
    "\n",
    "<p>def forward(self, x):<br>\n",
    "    x = self.linear_1(x)<br>\n",
    "    x = F.relu(x)<br>\n",
    "    x = self.linear_2(x)<br>\n",
    "    return x<br></p>\n",
    "\n",
    "change it to this:\n",
    "\n",
    "<p>def forward(self, x):<br>\n",
    "    x = self.linear_1(x) + self.lora_1(x)<br>\n",
    "    x = F.relu(x)<br>\n",
    "    x = self.linear_2(x) + self.lora_2(x)<br>\n",
    "    return logits<br></p>"
   ]
  },
  {
   "cell_type": "code",
   "execution_count": 43,
   "metadata": {},
   "outputs": [],
   "source": [
    "class LoRALayer(nn.Module):\n",
    "    def __init__(self, in_dim, out_dim, rank, alpha):\n",
    "        super().__init__()\n",
    "        standard_deviation = 1 / torch.sqrt(torch.tensor(rank).float())\n",
    "        self.A = nn.Parameter(\n",
    "            torch.randn(in_dim, rank) * standard_deviation\n",
    "        )\n",
    "        self.B = nn.Parameter(torch.zeros(rank, out_dim))\n",
    "        self.alpha = alpha\n",
    "\n",
    "    def forward(self, x):\n",
    "        x = self.alpha * (x @ self.A @ self.B)\n",
    "        return x\n",
    "\n",
    "\n",
    "class LinearWithLoRA(nn.Module):\n",
    "    def __init__(self, linear, rank, alpha):\n",
    "        super().__init__()\n",
    "        self.linear = linear\n",
    "        self.lora = LoRALayer(\n",
    "            linear.in_features, linear.out_features, rank, alpha\n",
    "        )\n",
    "\n",
    "    def forward(self, x):\n",
    "        return self.linear(x) + self.lora(x)"
   ]
  },
  {
   "cell_type": "code",
   "execution_count": 44,
   "metadata": {},
   "outputs": [],
   "source": [
    "from functools import partial\n",
    "\n",
    "\n",
    "# Utils\n",
    "class LoRAParametrization(nn.Module):\n",
    "    def __init__(\n",
    "        self,\n",
    "        fan_in,\n",
    "        fan_out,\n",
    "        fan_in_fan_out=False,\n",
    "        rank=0,\n",
    "        lora_dropout_p=0.0,\n",
    "        lora_alpha=1,\n",
    "    ):\n",
    "        super().__init__()\n",
    "        self.swap = (\n",
    "            (lambda x: (x[1], x[0])) if fan_in_fan_out else (lambda x: x)\n",
    "        )\n",
    "        self.lora_A = nn.Parameter(torch.zeros(self.swap((rank, fan_in))))\n",
    "        self.lora_B = nn.Parameter(torch.zeros(self.swap((fan_out, rank))))\n",
    "        self.lora_alpha, self.rank = lora_alpha, rank\n",
    "        self.scaling = lora_alpha / rank\n",
    "        self.lora_dropout = (\n",
    "            nn.Dropout(p=lora_dropout_p)\n",
    "            if lora_dropout_p > 0\n",
    "            else lambda x: x\n",
    "        )\n",
    "        self.dropout_fn = (\n",
    "            self._dropout if lora_dropout_p > 0 else lambda x: x\n",
    "        )\n",
    "        self.register_buffer(\n",
    "            \"lora_dropout_mask\",\n",
    "            torch.ones(self.swap((1, fan_in)), dtype=self.lora_A.dtype),\n",
    "        )\n",
    "        self.forward_fn = self.lora_forward\n",
    "\n",
    "    def forward(self, X):\n",
    "        return self.forward_fn(X)\n",
    "\n",
    "    def lora_forward(self, X):\n",
    "        return (\n",
    "            X\n",
    "            + torch.matmul(\n",
    "                *self.swap((self.lora_B, self.dropout_fn(self.lora_A)))\n",
    "            ).view(X.shape)\n",
    "            * self.scaling\n",
    "        )\n",
    "\n",
    "    @classmethod\n",
    "    def lora_from_layer(\n",
    "        cls, layer, rank=0, lora_dropout_p=0.0, lora_alpha=1\n",
    "    ):\n",
    "        fan_out, fan_in = layer.weight.shape\n",
    "        return cls(\n",
    "            fan_in,\n",
    "            fan_out,\n",
    "            fan_in_fan_out=False,\n",
    "            rank=rank,\n",
    "            lora_dropout_p=lora_dropout_p,\n",
    "            lora_alpha=lora_alpha,\n",
    "        )\n",
    "\n",
    "\n",
    "lora_config = {\n",
    "    nn.Linear: {\n",
    "        \"weight\": partial(LoRAParametrization.lora_from_layer, rank=16),\n",
    "    },\n",
    "}\n",
    "\n",
    "\n",
    "def apply_lora(layer, register=True, merge=False, lora_config=lora_config):\n",
    "    if register:\n",
    "        if type(layer) in lora_config:\n",
    "            for attr_name, parametrization in lora_config[\n",
    "                type(layer)\n",
    "            ].items():\n",
    "                torch.nn.utils.parametrize.register_parametrization(\n",
    "                    layer, attr_name, parametrization(layer)\n",
    "                )\n",
    "    else:\n",
    "        if hasattr(layer, \"parametrizations\"):\n",
    "            for attr_name in layer.parametrizations.keys():\n",
    "                torch.nn.utils.parametrize.remove_parametrizations(\n",
    "                    layer, attr_name, leave_parametrized=merge\n",
    "                )\n",
    "\n",
    "\n",
    "def add_lora(model, lora_config=lora_config):\n",
    "    model.apply(partial(apply_lora, lora_config=lora_config))\n",
    "\n",
    "\n",
    "def remove_lora(model):\n",
    "    \"\"\"remove lora parametrization to all layers in a model. This will remove all parametrization\"\"\"\n",
    "    model.apply(partial(apply_lora, register=False, merge=False))\n",
    "\n",
    "\n",
    "def merge_lora(model):\n",
    "    model.apply(partial(apply_lora, register=False, merge=True))\n",
    "\n",
    "\n",
    "def name_is_lora(name):\n",
    "    return (\n",
    "        len(name.split(\".\")) >= 4\n",
    "        and (name.split(\".\")[-4]) == \"parametrizations\"\n",
    "        and name.split(\".\")[-1] in [\"lora_A\", \"lora_B\"]\n",
    "    )\n",
    "\n",
    "\n",
    "def get_params_by_name(model, print_shapes=False, name_filter=None):\n",
    "    for n, p in model.named_parameters():\n",
    "        if name_filter is None or name_filter(n):\n",
    "            if print_shapes:\n",
    "                print(n, p.shape)\n",
    "            yield p\n",
    "\n",
    "\n",
    "def get_lora_params(model, print_shapes=False):\n",
    "    return get_params_by_name(\n",
    "        model, print_shapes=print_shapes, name_filter=name_is_lora\n",
    "    )"
   ]
  },
  {
   "cell_type": "code",
   "execution_count": 45,
   "metadata": {},
   "outputs": [],
   "source": [
    "# # Show how the blocks change, but we'll use our already-trained model\n",
    "# class LlamaBlock(nn.Module):\n",
    "#     def __init__(self, config):\n",
    "#         super().__init__()\n",
    "#         self.config = config\n",
    "\n",
    "#         self.rms = RMSNormalization(\n",
    "#             (config[\"d_model\"], config[\"d_model\"])\n",
    "#         ).to(device)\n",
    "\n",
    "#         self.attention = RoPEMaskedMultiheadAttention(config).to(device)\n",
    "#         self.feedforward = nn.Sequential(\n",
    "#             LinearWithLoRA(config[\"d_model\"], config[\"d_model\"]),  # NEW\n",
    "#             SwiGLU(config[\"d_model\"]),\n",
    "#         ).to(device)\n",
    "\n",
    "#     def forward(self, x):\n",
    "#         x = self.rms(x)\n",
    "#         x = x + self.attention(x)\n",
    "\n",
    "#         x = self.rms(x)\n",
    "#         x = x + self.feedforward(x)\n",
    "#         return x\n",
    "\n",
    "\n",
    "# class SimpleLlama(nn.Module):\n",
    "#     def __init__(self, config):\n",
    "#         super().__init__()\n",
    "#         self.config = config\n",
    "\n",
    "#         self.embedding = nn.Embedding(\n",
    "#             config[\"vocab_size\"], config[\"d_model\"]\n",
    "#         )\n",
    "#         self.llama_blocks = nn.Sequential(\n",
    "#             OrderedDict(\n",
    "#                 [\n",
    "#                     (f\"llama_{i}\", LlamaBlock(config))\n",
    "#                     for i in range(config[\"n_layers\"])\n",
    "#                 ]\n",
    "#             )\n",
    "#         )\n",
    "\n",
    "#         self.ffn = nn.Sequential(\n",
    "#             LinearWithLoRA(config[\"d_model\"], config[\"d_model\"]),  # NEW\n",
    "#             SwiGLU(config[\"d_model\"]),\n",
    "#             LinearWithLoRA(config[\"d_model\"], config[\"vocab_size\"]),  # NEW\n",
    "#         )\n",
    "\n",
    "#         print(\n",
    "#             f\"model params: {sum([m.numel() for m in self.parameters()])}\"\n",
    "#         )\n",
    "\n",
    "#     def forward(self, idx, targets=None):\n",
    "#         x = self.embedding(idx)\n",
    "#         x = self.llama_blocks(x)\n",
    "#         logits = self.ffn(x)\n",
    "\n",
    "#         if targets is None:\n",
    "#             return logits\n",
    "\n",
    "#         else:\n",
    "#             loss = F.cross_entropy(\n",
    "#                 logits.view(-1, self.config[\"vocab_size\"]),\n",
    "#                 targets.view(-1),\n",
    "#                 ignore_index=tokenizer.pad_token_id,\n",
    "#                 # reduction=\"sum\",\n",
    "#             )\n",
    "#             return logits, loss"
   ]
  },
  {
   "cell_type": "code",
   "execution_count": 46,
   "metadata": {},
   "outputs": [],
   "source": [
    "# New Dataset for Lora\n",
    "dataset = load_dataset(\n",
    "    \"text\",\n",
    "    data_files={\n",
    "        \"train\": [\"../../data/Lima-train.csv\"],\n",
    "        \"val\": [\"../../data/Lima-test.csv\"],\n",
    "    },\n",
    "    streaming=True,\n",
    ")\n",
    "\n",
    "encoded_dataset = dataset.map(\n",
    "    lambda examples: tokenizer(\n",
    "        examples[\"text\"],\n",
    "        padding=True,\n",
    "        max_length=128,\n",
    "        truncation=True,\n",
    "        return_tensors=\"pt\",\n",
    "    ),\n",
    "    batched=True,\n",
    ")\n",
    "train_data = iter(encoded_dataset[\"train\"].shuffle())\n",
    "val_data = iter(encoded_dataset[\"val\"].shuffle())\n",
    "train_data = cycle(train_data)\n",
    "val_data = cycle(val_data)"
   ]
  },
  {
   "cell_type": "code",
   "execution_count": 47,
   "metadata": {},
   "outputs": [],
   "source": [
    "# Step 1: Add LoRA to trained model\n",
    "llama.to(\"cpu\")\n",
    "add_lora(llama)\n",
    "llama.to(device)\n",
    "\n",
    "# Step 2: Get the LoRA params instead of the whole model's\n",
    "parameters = [{\"params\": list(get_lora_params(llama))}]\n",
    "# Step 3: initialize optimizer with LoRA Params\n",
    "lora_optimizer = torch.optim.AdamW(parameters, lr=1e-3)"
   ]
  },
  {
   "cell_type": "code",
   "execution_count": 48,
   "metadata": {},
   "outputs": [
    {
     "name": "stdout",
     "output_type": "stream",
     "text": [
      "Epoch 0 | train loss 17.275 | val loss 9.661 | Time 10.624 | ETA: 0:03:32.480006\n",
      "lr:  [1.0001209025544738e-05]\n",
      "Epoch 50 | train loss 11.144 | val loss 9.665 | Time 31.942 | ETA: 0:10:06.900870\n",
      "lr:  [1.3137956571267626e-05]\n",
      "Epoch 100 | train loss 10.289 | val loss 9.664 | Time 30.849 | ETA: 0:09:15.275485\n",
      "lr:  [2.223015032030447e-05]\n",
      "Epoch 150 | train loss 12.743 | val loss 9.557 | Time 33.403 | ETA: 0:09:27.852064\n",
      "lr:  [3.705391028729307e-05]\n",
      "Epoch 200 | train loss 9.914 | val loss 9.698 | Time 403.524 | ETA: 1:47:36.389252\n",
      "lr:  [5.7244226304607204e-05]\n",
      "Epoch 250 | train loss 18.847 | val loss 9.578 | Time 57.802 | ETA: 0:14:27.028899\n",
      "lr:  [8.230394578408373e-05]\n",
      "Epoch 300 | train loss 12.438 | val loss 9.756 | Time 56.696 | ETA: 0:13:13.745574\n",
      "lr:  [0.00011161601526369715]\n",
      "Epoch 350 | train loss 12.109 | val loss 9.705 | Time 442.270 | ETA: 1:35:49.505131\n",
      "lr:  [0.00014445867431167806]\n",
      "Epoch 400 | train loss 9.746 | val loss 9.715 | Time 400.669 | ETA: 1:20:08.028188\n",
      "lr:  [0.00018002322766372895]\n",
      "Epoch 450 | train loss 10.320 | val loss 9.633 | Time 59.129 | ETA: 0:10:50.413985\n",
      "lr:  [0.00021743395798433685]\n",
      "Epoch 500 | train loss 9.878 | val loss 9.701 | Time 55.247 | ETA: 0:09:12.465940\n",
      "lr:  [0.00025576968893391316]\n",
      "Epoch 550 | train loss 10.142 | val loss 9.747 | Time 53.628 | ETA: 0:08:02.653650\n",
      "lr:  [0.0002940864675874819]\n",
      "Epoch 600 | train loss 10.245 | val loss 9.635 | Time 60.831 | ETA: 0:08:06.648962\n",
      "lr:  [0.0003314408076884945]\n",
      "Epoch 650 | train loss 12.095 | val loss 9.707 | Time 254.000 | ETA: 0:29:37.997919\n",
      "lr:  [0.000366912921411718]\n",
      "Epoch 700 | train loss 15.365 | val loss 9.631 | Time 60.169 | ETA: 0:06:01.011658\n",
      "lr:  [0.0003996293675920899]\n",
      "Epoch 750 | train loss 11.811 | val loss 9.663 | Time 57.111 | ETA: 0:04:45.553159\n",
      "lr:  [0.0004287845587449898]\n",
      "Epoch 800 | train loss 13.179 | val loss 9.671 | Time 155.169 | ETA: 0:10:20.675063\n",
      "lr:  [0.0004536605973037015]\n",
      "Epoch 850 | train loss 9.714 | val loss 9.660 | Time 54.265 | ETA: 0:02:42.794997\n",
      "lr:  [0.0004736449526400705]\n",
      "Epoch 900 | train loss 13.034 | val loss 9.561 | Time 42.896 | ETA: 0:01:25.792218\n",
      "lr:  [0.0004882455436014427]\n",
      "Epoch 950 | train loss 20.385 | val loss 9.693 | Time 378.719 | ETA: 0:06:18.718616\n",
      "lr:  [0.0004971028551817645]\n",
      "training loss 20.385 | validation loss: 9.693\n"
     ]
    },
    {
     "ename": "RuntimeError",
     "evalue": "Serialization of parametrized modules is only supported through state_dict(). See:\nhttps://pytorch.org/tutorials/beginner/saving_loading_models.html#saving-loading-a-general-checkpoint-for-inference-and-or-resuming-training",
     "output_type": "error",
     "traceback": [
      "\u001b[1;31m---------------------------------------------------------------------------\u001b[0m",
      "\u001b[1;31mRuntimeError\u001b[0m                              Traceback (most recent call last)",
      "Cell \u001b[1;32mIn[48], line 16\u001b[0m\n\u001b[0;32m     13\u001b[0m state_dict \u001b[38;5;241m=\u001b[39m llama\u001b[38;5;241m.\u001b[39mstate_dict()\n\u001b[0;32m     14\u001b[0m lora_state_dict \u001b[38;5;241m=\u001b[39m {k: v \u001b[38;5;28;01mfor\u001b[39;00m k, v \u001b[38;5;129;01min\u001b[39;00m state_dict\u001b[38;5;241m.\u001b[39mitems() \u001b[38;5;28;01mif\u001b[39;00m name_is_lora(k)}\n\u001b[1;32m---> 16\u001b[0m \u001b[43mtorch\u001b[49m\u001b[38;5;241;43m.\u001b[39;49m\u001b[43msave\u001b[49m\u001b[43m(\u001b[49m\u001b[43mllama\u001b[49m\u001b[43m,\u001b[49m\u001b[43m \u001b[49m\u001b[38;5;124;43m\"\u001b[39;49m\u001b[38;5;124;43m./llama2/llama.pth\u001b[39;49m\u001b[38;5;124;43m\"\u001b[39;49m\u001b[43m)\u001b[49m\n\u001b[0;32m     17\u001b[0m torch\u001b[38;5;241m.\u001b[39msave(lora_state_dict, \u001b[38;5;124m\"\u001b[39m\u001b[38;5;124m./llama2/lora.pth\u001b[39m\u001b[38;5;124m\"\u001b[39m)\n",
      "File \u001b[1;32mc:\\Users\\chris\\anaconda3\\envs\\llmbook\\Lib\\site-packages\\torch\\serialization.py:619\u001b[0m, in \u001b[0;36msave\u001b[1;34m(obj, f, pickle_module, pickle_protocol, _use_new_zipfile_serialization, _disable_byteorder_record)\u001b[0m\n\u001b[0;32m    617\u001b[0m \u001b[38;5;28;01mif\u001b[39;00m _use_new_zipfile_serialization:\n\u001b[0;32m    618\u001b[0m     \u001b[38;5;28;01mwith\u001b[39;00m _open_zipfile_writer(f) \u001b[38;5;28;01mas\u001b[39;00m opened_zipfile:\n\u001b[1;32m--> 619\u001b[0m         \u001b[43m_save\u001b[49m\u001b[43m(\u001b[49m\u001b[43mobj\u001b[49m\u001b[43m,\u001b[49m\u001b[43m \u001b[49m\u001b[43mopened_zipfile\u001b[49m\u001b[43m,\u001b[49m\u001b[43m \u001b[49m\u001b[43mpickle_module\u001b[49m\u001b[43m,\u001b[49m\u001b[43m \u001b[49m\u001b[43mpickle_protocol\u001b[49m\u001b[43m,\u001b[49m\u001b[43m \u001b[49m\u001b[43m_disable_byteorder_record\u001b[49m\u001b[43m)\u001b[49m\n\u001b[0;32m    620\u001b[0m         \u001b[38;5;28;01mreturn\u001b[39;00m\n\u001b[0;32m    621\u001b[0m \u001b[38;5;28;01melse\u001b[39;00m:\n",
      "File \u001b[1;32mc:\\Users\\chris\\anaconda3\\envs\\llmbook\\Lib\\site-packages\\torch\\serialization.py:831\u001b[0m, in \u001b[0;36m_save\u001b[1;34m(obj, zip_file, pickle_module, pickle_protocol, _disable_byteorder_record)\u001b[0m\n\u001b[0;32m    829\u001b[0m pickler \u001b[38;5;241m=\u001b[39m pickle_module\u001b[38;5;241m.\u001b[39mPickler(data_buf, protocol\u001b[38;5;241m=\u001b[39mpickle_protocol)\n\u001b[0;32m    830\u001b[0m pickler\u001b[38;5;241m.\u001b[39mpersistent_id \u001b[38;5;241m=\u001b[39m persistent_id\n\u001b[1;32m--> 831\u001b[0m \u001b[43mpickler\u001b[49m\u001b[38;5;241;43m.\u001b[39;49m\u001b[43mdump\u001b[49m\u001b[43m(\u001b[49m\u001b[43mobj\u001b[49m\u001b[43m)\u001b[49m\n\u001b[0;32m    832\u001b[0m data_value \u001b[38;5;241m=\u001b[39m data_buf\u001b[38;5;241m.\u001b[39mgetvalue()\n\u001b[0;32m    833\u001b[0m zip_file\u001b[38;5;241m.\u001b[39mwrite_record(\u001b[38;5;124m'\u001b[39m\u001b[38;5;124mdata.pkl\u001b[39m\u001b[38;5;124m'\u001b[39m, data_value, \u001b[38;5;28mlen\u001b[39m(data_value))\n",
      "File \u001b[1;32mc:\\Users\\chris\\anaconda3\\envs\\llmbook\\Lib\\site-packages\\torch\\nn\\utils\\parametrize.py:306\u001b[0m, in \u001b[0;36m_inject_new_class.<locals>.getstate\u001b[1;34m(self)\u001b[0m\n\u001b[0;32m    305\u001b[0m \u001b[38;5;28;01mdef\u001b[39;00m \u001b[38;5;21mgetstate\u001b[39m(\u001b[38;5;28mself\u001b[39m):\n\u001b[1;32m--> 306\u001b[0m     \u001b[38;5;28;01mraise\u001b[39;00m \u001b[38;5;167;01mRuntimeError\u001b[39;00m(\n\u001b[0;32m    307\u001b[0m         \u001b[38;5;124m\"\u001b[39m\u001b[38;5;124mSerialization of parametrized modules is only \u001b[39m\u001b[38;5;124m\"\u001b[39m\n\u001b[0;32m    308\u001b[0m         \u001b[38;5;124m\"\u001b[39m\u001b[38;5;124msupported through state_dict(). See:\u001b[39m\u001b[38;5;130;01m\\n\u001b[39;00m\u001b[38;5;124m\"\u001b[39m\n\u001b[0;32m    309\u001b[0m         \u001b[38;5;124m\"\u001b[39m\u001b[38;5;124mhttps://pytorch.org/tutorials/beginner/saving_loading_models.html\u001b[39m\u001b[38;5;124m\"\u001b[39m\n\u001b[0;32m    310\u001b[0m         \u001b[38;5;124m\"\u001b[39m\u001b[38;5;124m#saving-loading-a-general-checkpoint-for-inference-and-or-resuming-training\u001b[39m\u001b[38;5;124m\"\u001b[39m\n\u001b[0;32m    311\u001b[0m     )\n",
      "\u001b[1;31mRuntimeError\u001b[0m: Serialization of parametrized modules is only supported through state_dict(). See:\nhttps://pytorch.org/tutorials/beginner/saving_loading_models.html#saving-loading-a-general-checkpoint-for-inference-and-or-resuming-training"
     ]
    },
    {
     "data": {
      "image/png": "[encoded data removed]",
      "text/plain": [
       "<Figure size 640x480 with 1 Axes>"
      ]
     },
     "metadata": {},
     "output_type": "display_data"
    }
   ],
   "source": [
    "# Step 4: Train\n",
    "train(\n",
    "    llama,\n",
    "    lora_optimizer,\n",
    "    scheduler,\n",
    "    data=train_data,\n",
    "    config=MASTER_CONFIG,\n",
    "    lora=True,\n",
    "    print_logs=True,\n",
    ")\n",
    "\n",
    "# Step 5: export the params\n",
    "state_dict = llama.state_dict()\n",
    "lora_state_dict = {k: v for k, v in state_dict.items() if name_is_lora(k)}"
   ]
  },
  {
   "cell_type": "code",
   "execution_count": 50,
   "metadata": {},
   "outputs": [],
   "source": [
    "torch.save(llama.state_dict(), \"./llama2/llama.pth\")\n",
    "torch.save(lora_state_dict, \"./llama2/lora.pth\")"
   ]
  },
  {
   "cell_type": "code",
   "execution_count": 51,
   "metadata": {},
   "outputs": [
    {
     "data": {
      "text/plain": [
       "['<s>. She Tom me big named to shOK them She littleily colors but like advent the they with the the sc is itered that door muchels',\n",
       " '<s>. each had,.. not But thatend red big. friend Tom. boyomrap the che or jug play the said started then for do',\n",
       " \"<s>.. the a shoutute. girl.w Storyed I place.!'ie his. to red They Possible get he big big Thet\",\n",
       " '<s>. brokenily proud a Theyew: kind behind around much andb Her was would and a were help. her big. and see the see Story',\n",
       " '<s> noise paleled the his the. up, to Theyof his his flowers L. were have,ings if, flowers very something and clean. that']"
      ]
     },
     "execution_count": 51,
     "metadata": {},
     "output_type": "execute_result"
    }
   ],
   "source": [
    "# Loading and Inferencing with LoRA\n",
    "add_lora(llama)\n",
    "\n",
    "_ = llama.load_state_dict(lora_state_dict, strict=False)\n",
    "\n",
    "merge_lora(llama)\n",
    "\n",
    "generate(llama, lora=True)\n",
    "\n",
    "# remove_lora(llama)"
   ]
  },
  {
   "cell_type": "code",
   "execution_count": null,
   "metadata": {},
   "outputs": [],
   "source": [
    "# Create a Gradio app that looks like this:\n",
    "\n",
    "# # Space will need your token to request hardware: set it as a Secret !\n",
    "# HF_TOKEN = os.environ.get(\"HF_TOKEN\")\n",
    "\n",
    "# # Space own repo_id\n",
    "# TRAINING_SPACE_ID = \"your_username/your_repo\"\n",
    "\n",
    "# from huggingface_hub import HfApi, SpaceHardware\n",
    "# api = HfApi(token=HF_TOKEN)\n",
    "\n",
    "# # On Space startup, check if a task is scheduled. If yes, finetune the model. If not,\n",
    "# # display an interface to request a new task.\n",
    "# task = get_task()\n",
    "# if task is None:\n",
    "#     # Start Gradio app\n",
    "#     def gradio_fn(task):\n",
    "#         # On user request, add task and request hardware\n",
    "#         add_task(task)\n",
    "#         api.request_space_hardware(repo_id=TRAINING_SPACE_ID, hardware=SpaceHardware.CPU_BASIC)\n",
    "\n",
    "#     gr.Interface(fn=gradio_fn, ...).launch()\n",
    "# else:\n",
    "#     runtime = api.get_space_runtime(repo_id=TRAINING_SPACE_ID)\n",
    "#     # Check if Space is loaded with a GPU.\n",
    "#     if runtime.hardware == SpaceHardware.CPU_BASIC:\n",
    "#         # If yes, finetune base model on dataset !\n",
    "#         chat_with_user(task)\n",
    "\n",
    "#         # Then, mark the task as \"DONE\"\n",
    "#         mark_as_done(task)\n",
    "\n",
    "#         # DO NOT FORGET: set back CPU hardware\n",
    "#         api.request_space_hardware(repo_id=TRAINING_SPACE_ID, hardware=SpaceHardware.CPU_BASIC)\n",
    "#     else:\n",
    "#         api.request_space_hardware(repo_id=TRAINING_SPACE_ID, hardware=SpaceHardware.CPU_BASIC)"
   ]
  },
  {
   "cell_type": "code",
   "execution_count": null,
   "metadata": {},
   "outputs": [],
   "source": [
    "%pip install huggingface_hub -q\n",
    "\n",
    "from huggingface_hub import notebook_login, HfApi\n",
    "\n",
    "notebook_login()"
   ]
  },
  {
   "cell_type": "code",
   "execution_count": null,
   "metadata": {},
   "outputs": [],
   "source": [
    "api = HfApi()\n",
    "api.create_repo(\n",
    "    repo_id=\"your_username/your_repo\", repo_type=\"space\", space_sdk=\"gradio\"\n",
    ")"
   ]
  },
  {
   "cell_type": "code",
   "execution_count": null,
   "metadata": {},
   "outputs": [],
   "source": [
    "stuff_to_save = [\n",
    "    \"llama.pth\",\n",
    "    \"lora.pth\",\n",
    "    \"special_tokens_map.json\",\n",
    "    \"tokenizer_config.json\",\n",
    "    \"tokenizer.json\",\n",
    "    \"tokenizer.model\",\n",
    "    \"gradio_app.py\",\n",
    "]\n",
    "for thing in stuff_to_save:\n",
    "    api.upload_file(\n",
    "        path_or_fileobj=f\"./llama2/{thing}\",\n",
    "        path_in_repo=thing,\n",
    "        repo_id=\"your_username/your_repo\",\n",
    "        repo_type=\"space\",\n",
    "    )"
   ]
  }
 ],
 "metadata": {
  "kernelspec": {
   "display_name": "llmbook",
   "language": "python",
   "name": "python3"
  },
  "language_info": {
   "codemirror_mode": {
    "name": "ipython",
    "version": 3
   },
   "file_extension": ".py",
   "mimetype": "text/x-python",
   "name": "python",
   "nbconvert_exporter": "python",
   "pygments_lexer": "ipython3",
   "version": "3.11.5"
  }
 },
 "nbformat": 4,
 "nbformat_minor": 2
}
