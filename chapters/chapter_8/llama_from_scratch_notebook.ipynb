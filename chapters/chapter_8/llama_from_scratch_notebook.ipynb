{
 "cells": [
  {
   "cell_type": "code",
   "execution_count": 1,
   "metadata": {},
   "outputs": [
    {
     "name": "stdout",
     "output_type": "stream",
     "text": [
      "2.1.0+cu121\n",
      "cuda:0 (8, 6)\n"
     ]
    }
   ],
   "source": [
    "import torch\n",
    "from torch import nn\n",
    "from torch.nn import functional as F\n",
    "import numpy as np\n",
    "from numba import jit\n",
    "from matplotlib import pyplot as plt\n",
    "import time\n",
    "from datetime import timedelta\n",
    "import pandas as pd\n",
    "from collections import OrderedDict\n",
    "from transformers import AutoTokenizer\n",
    "from sentencepiece import SentencePieceProcessor\n",
    "from datasets import load_dataset\n",
    "\n",
    "device = \"cuda:0\" if torch.cuda.is_available() else \"cpu\"\n",
    "device_cap = torch.cuda.get_device_capability()\n",
    "device_type = \"cuda\" if \"cuda\" in device else \"cpu\"\n",
    "torch.cuda.set_device(device)\n",
    "torch.manual_seed(8855)\n",
    "print(torch.__version__)\n",
    "print(device, device_cap)"
   ]
  },
  {
   "cell_type": "markdown",
   "metadata": {},
   "source": [
    "### Llama 2 from Scratch"
   ]
  },
  {
   "cell_type": "markdown",
   "metadata": {},
   "source": []
  },
  {
   "cell_type": "code",
   "execution_count": 2,
   "metadata": {},
   "outputs": [],
   "source": [
    "# Using Huggingface\n",
    "tokenizer = AutoTokenizer.from_pretrained(\"./llama2/\")\n",
    "tokenizer.add_special_tokens({\"pad_token\": \"<PAD>\"})\n",
    "# tokenizer.pad_token = tokenizer.eos_token #Optional\n",
    "\n",
    "vocab = tokenizer.vocab"
   ]
  },
  {
   "cell_type": "code",
   "execution_count": 3,
   "metadata": {},
   "outputs": [
    {
     "name": "stdout",
     "output_type": "stream",
     "text": [
      "Vocab Size: 32001\n"
     ]
    },
    {
     "data": {
      "text/plain": [
       "'<s> hello I am a specifically designed long sentence to make sure this is working not only adequately, but good enough for our batch functions'"
      ]
     },
     "execution_count": 3,
     "metadata": {},
     "output_type": "execute_result"
    }
   ],
   "source": [
    "def encode(example):\n",
    "    return tokenizer.encode(example, return_tensors=\"pt\")\n",
    "\n",
    "\n",
    "def decode(example):\n",
    "    return tokenizer.batch_decode(\n",
    "        example,\n",
    "        skip_special_tokens=False,\n",
    "        clean_up_tokenization_spaces=True,\n",
    "    )[0]\n",
    "\n",
    "\n",
    "print(f\"Vocab Size: {len(vocab)}\")\n",
    "decode(\n",
    "    encode(\n",
    "        \"hello I am a specifically designed long sentence to make sure this is working not only adequately, but good enough for our batch functions\"\n",
    "    )\n",
    ")"
   ]
  },
  {
   "cell_type": "code",
   "execution_count": 4,
   "metadata": {},
   "outputs": [],
   "source": [
    "MASTER_CONFIG = {\n",
    "    \"vocab_size\": len(vocab),\n",
    "    \"batch_size\": 16,\n",
    "    \"context_window\": 32,\n",
    "    \"d_model\": 288,\n",
    "    \"hidden_dim\": 768,\n",
    "    \"epochs\": 1000,\n",
    "    \"log_interval\": 50,\n",
    "    \"n_heads\": 6,\n",
    "    \"n_layers\": 6,\n",
    "}\n",
    "GLOBAL_KEEP_TRACK = []"
   ]
  },
  {
   "cell_type": "code",
   "execution_count": 5,
   "metadata": {},
   "outputs": [],
   "source": [
    "# Local Data only\n",
    "dataset = load_dataset(\n",
    "    \"text\",\n",
    "    data_files={\n",
    "        \"train\": [\"../../data/TinyStoriesv1andv2-train.txt\"],\n",
    "        \"val\": [\"../../data/TinyStoriesv1andv2-valid.txt\"],\n",
    "    },\n",
    "    streaming=True,\n",
    ")\n",
    "\n",
    "# Stream Data\n",
    "# dataset = load_dataset('IMJONEZZ/CombinedTinyStories') # optional: streaming=True but to_iterable is faster\n",
    "# dataset = dataset.to_iterable_dataset()\n",
    "\n",
    "# Minimal preprocessing\n",
    "clean_dataset = dataset.filter(lambda example: len(example[\"text\"]) > 2)"
   ]
  },
  {
   "cell_type": "code",
   "execution_count": 6,
   "metadata": {},
   "outputs": [
    {
     "name": "stdout",
     "output_type": "stream",
     "text": [
      "Actual text: Tim looked under his bed and found a soft toy. He pushed the toy into the box. Next, he searched in his closet and found a ball. He pushed the ball into the box too. Tim was happy to see his box filling up.\n",
      "Input Ids: <s> Write a short story. Possible Story: Tim looked under his bed and found a soft toy. He pushed the toy into the box. Next, he searched in his closet and found a ball. He pushed the ball into the box too. Tim was happy to see his box filling up.<PAD><PAD><PAD><PAD><PAD><PAD><PAD><PAD><PAD><PAD><PAD><PAD><PAD><PAD><PAD><PAD><PAD><PAD><PAD><PAD><PAD><PAD><PAD><PAD><PAD><PAD><PAD><PAD><PAD><PAD><PAD><PAD><PAD><PAD><PAD><PAD><PAD><PAD><PAD><PAD><PAD><PAD><PAD><PAD><PAD><PAD><PAD><PAD><PAD><PAD><PAD><PAD><PAD><PAD><PAD><PAD><PAD><PAD><PAD><PAD><PAD><PAD><PAD><PAD><PAD><PAD><PAD><PAD><PAD><PAD><PAD><PAD><PAD><PAD><PAD><PAD><PAD><PAD><PAD><PAD><PAD><PAD><PAD><PAD><PAD><PAD><PAD><PAD><PAD><PAD><PAD><PAD><PAD><PAD><PAD><PAD><PAD><PAD><PAD><PAD><PAD><PAD><PAD><PAD><PAD><PAD><PAD>\n",
      "Length of text: 169\n",
      "{'text': 'Tim looked under his bed and found a soft toy. He pushed the toy into the box. Next, he searched in his closet and found a ball. He pushed the ball into the box too. Tim was happy to see his box filling up.', 'input_ids': tensor([    1, 14350,   263,  3273,  5828, 29889, 20049, 13740, 29901,  7870,\n",
      "         5148,  1090,   670,  6592,   322,  1476,   263,  4964,   304, 29891,\n",
      "        29889,   940, 18760,   278,   304, 29891,   964,   278,  3800, 29889,\n",
      "         8084, 29892,   540, 17371,   297,   670,  4694,   300,   322,  1476,\n",
      "          263,  8287, 29889,   940, 18760,   278,  8287,   964,   278,  3800,\n",
      "         2086, 29889,  7870,   471,  9796,   304,  1074,   670,  3800, 27523,\n",
      "          701, 29889, 32000, 32000, 32000, 32000, 32000, 32000, 32000, 32000,\n",
      "        32000, 32000, 32000, 32000, 32000, 32000, 32000, 32000, 32000, 32000,\n",
      "        32000, 32000, 32000, 32000, 32000, 32000, 32000, 32000, 32000, 32000,\n",
      "        32000, 32000, 32000, 32000, 32000, 32000, 32000, 32000, 32000, 32000,\n",
      "        32000, 32000, 32000, 32000, 32000, 32000, 32000, 32000, 32000, 32000,\n",
      "        32000, 32000, 32000, 32000, 32000, 32000, 32000, 32000, 32000, 32000,\n",
      "        32000, 32000, 32000, 32000, 32000, 32000, 32000, 32000, 32000, 32000,\n",
      "        32000, 32000, 32000, 32000, 32000, 32000, 32000, 32000, 32000, 32000,\n",
      "        32000, 32000, 32000, 32000, 32000, 32000, 32000, 32000, 32000, 32000,\n",
      "        32000, 32000, 32000, 32000, 32000, 32000, 32000, 32000, 32000, 32000,\n",
      "        32000, 32000, 32000, 32000, 32000, 32000, 32000, 32000, 32000]), 'attention_mask': tensor([1, 1, 1, 1, 1, 1, 1, 1, 1, 1, 1, 1, 1, 1, 1, 1, 1, 1, 1, 1, 1, 1, 1, 1,\n",
      "        1, 1, 1, 1, 1, 1, 1, 1, 1, 1, 1, 1, 1, 1, 1, 1, 1, 1, 1, 1, 1, 1, 1, 1,\n",
      "        1, 1, 1, 1, 1, 1, 1, 1, 1, 1, 1, 1, 1, 1, 0, 0, 0, 0, 0, 0, 0, 0, 0, 0,\n",
      "        0, 0, 0, 0, 0, 0, 0, 0, 0, 0, 0, 0, 0, 0, 0, 0, 0, 0, 0, 0, 0, 0, 0, 0,\n",
      "        0, 0, 0, 0, 0, 0, 0, 0, 0, 0, 0, 0, 0, 0, 0, 0, 0, 0, 0, 0, 0, 0, 0, 0,\n",
      "        0, 0, 0, 0, 0, 0, 0, 0, 0, 0, 0, 0, 0, 0, 0, 0, 0, 0, 0, 0, 0, 0, 0, 0,\n",
      "        0, 0, 0, 0, 0, 0, 0, 0, 0, 0, 0, 0, 0, 0, 0, 0, 0, 0, 0, 0, 0, 0, 0, 0,\n",
      "        0])}\n"
     ]
    }
   ],
   "source": [
    "prompt = \"Write a short story. Possible Story: \"\n",
    "tokenized_prompt = tokenizer(prompt, return_tensors=\"pt\").input_ids\n",
    "\n",
    "encoded_dataset = clean_dataset.map(\n",
    "    lambda examples: tokenizer(\n",
    "        [prompt + x for x in examples['text']],\n",
    "        padding=True,\n",
    "        return_tensors=\"pt\",\n",
    "    ),\n",
    "    batched=True,\n",
    ")\n",
    "train_data = iter(encoded_dataset[\"train\"].shuffle())\n",
    "val_data = iter(encoded_dataset[\"val\"].shuffle())\n",
    "\n",
    "test = next(train_data)\n",
    "print(f\"Actual text: {test['text']}\")\n",
    "print(f\"Input Ids: {tokenizer.decode(test['input_ids'])}\")\n",
    "print(f\"Length of text: {len(test['input_ids'])}\")\n",
    "print(test)"
   ]
  },
  {
   "cell_type": "markdown",
   "metadata": {},
   "source": [
    "### Needed functions"
   ]
  },
  {
   "cell_type": "code",
   "execution_count": 7,
   "metadata": {},
   "outputs": [],
   "source": [
    "# @torch.compile #For non-Windows users\n",
    "def get_batches(\n",
    "    data,\n",
    "    batch_size,\n",
    "    context_window,\n",
    "    config=MASTER_CONFIG,\n",
    "    debug=False,\n",
    "):\n",
    "    x = []\n",
    "    y = []\n",
    "    for _ in range(batch_size): #Adjust this lower if you're running out of memory\n",
    "        batch_data = next(data)\n",
    "\n",
    "        # pick random starting points\n",
    "        ix = torch.randint(\n",
    "            0, len(batch_data[\"input_ids\"]) - context_window - 1, (2,)\n",
    "        )\n",
    "        batch_x = torch.stack(\n",
    "            [batch_data[\"input_ids\"][i : i + context_window] for i in ix]\n",
    "        ).long()\n",
    "        batch_y = torch.stack(\n",
    "            [\n",
    "                batch_data[\"input_ids\"][i + 1 : i + context_window + 1]\n",
    "                for i in ix\n",
    "            ]\n",
    "        ).long()\n",
    "        x.append(batch_x)\n",
    "        y.append(batch_y)\n",
    "    x = torch.cat((x), 0).to(device)\n",
    "    y = torch.cat((y), 0).to(device)\n",
    "    if debug:\n",
    "        print(f\"ix: {ix}\\nx: {x}\\ny: {y}\")\n",
    "    return x, y\n",
    "\n",
    "def get_lora_batches(\n",
    "    data,\n",
    "    batch_size,\n",
    "):\n",
    "    x = []\n",
    "    y = []\n",
    "    for _ in range(batch_size):\n",
    "        x_data = next(data)['input_ids'].long()\n",
    "        y_data = next(data)['input_ids'].long()\n",
    "        \n",
    "        x.append(x_data)\n",
    "        y.append(y_data)\n",
    "    x = torch.cat((x), 0).to(device)\n",
    "    y = torch.cat((y), 0).to(device)\n",
    "    return x, y\n",
    "        "
   ]
  },
  {
   "cell_type": "code",
   "execution_count": 52,
   "metadata": {},
   "outputs": [],
   "source": [
    "@torch.no_grad()\n",
    "def get_loss(model, lora=False, config=MASTER_CONFIG):\n",
    "    out = {}\n",
    "    model.eval()\n",
    "    for name, split in zip([\"train\", \"val\"], [train_data, val_data]):\n",
    "        losses = []\n",
    "        for _ in range(10):\n",
    "            if lora==True:\n",
    "                get_lora_batches(\n",
    "                    split,\n",
    "                    config['batch_size']\n",
    "                )\n",
    "            else:\n",
    "                xb, yb = get_batches(\n",
    "                    split,\n",
    "                    config[\"batch_size\"],\n",
    "                    config[\"context_window\"],\n",
    "                )\n",
    "            _, loss = model(xb, yb)\n",
    "            losses.append(loss.item())\n",
    "        out[name] = np.mean(losses)\n",
    "    model.train()\n",
    "    return out\n",
    "\n",
    "\n",
    "@torch.inference_mode()\n",
    "def generate(\n",
    "    model,\n",
    "    config=MASTER_CONFIG,\n",
    "    temperature=1.0,\n",
    "    top_k=None,\n",
    "    max_new_tokens=30,\n",
    "):\n",
    "    idx_list = [tokenized_prompt] * 5\n",
    "    idx = torch.cat((idx_list),0).long().to(device)\n",
    "    #idx = torch.ones(5, 1).long().to(device) #Alternative without prompt\n",
    "    for _ in range(max_new_tokens):\n",
    "        # call the model\n",
    "        logits = model(idx[:, -config[\"context_window\"] :])\n",
    "        last_time_step_logits = logits[\n",
    "            :, -1, :\n",
    "        ]  # all the batches (1), last time step, all the logits\n",
    "\n",
    "        last_time_step_logits = last_time_step_logits / temperature\n",
    "        if top_k is not None:\n",
    "            v, _ = torch.topk(\n",
    "                last_time_step_logits,\n",
    "                min(top_k, last_time_step_logits.size(-1)),\n",
    "            )\n",
    "            last_time_step_logits[\n",
    "                last_time_step_logits < v[:, [-1]]\n",
    "            ] = -float(\"Inf\")\n",
    "        p = F.softmax(\n",
    "            last_time_step_logits, dim=-1\n",
    "        )  # softmax to get probabilities\n",
    "        idx_next = torch.multinomial(\n",
    "            p, num_samples=1\n",
    "        )  # sample from the distribution to get the next token\n",
    "        idx = torch.cat([idx, idx_next], dim=-1)  # append to the sequence\n",
    "    return [tokenizer.decode(x) for x in idx.tolist()]"
   ]
  },
  {
   "cell_type": "markdown",
   "metadata": {},
   "source": [
    "### Gross neural network that doesn't work"
   ]
  },
  {
   "cell_type": "code",
   "execution_count": 9,
   "metadata": {},
   "outputs": [
    {
     "name": "stdout",
     "output_type": "stream",
     "text": [
      "model params: 18547809\n"
     ]
    }
   ],
   "source": [
    "class SimpleFeedForwardNN(nn.Module):\n",
    "    def __init__(self, config=MASTER_CONFIG):\n",
    "        super().__init__()\n",
    "        self.config = config\n",
    "\n",
    "        self.embedding = nn.Embedding(\n",
    "            config[\"vocab_size\"], config[\"d_model\"]\n",
    "        )\n",
    "        self.linear = nn.Sequential(\n",
    "            nn.Linear(config[\"d_model\"], config[\"d_model\"]),\n",
    "            nn.ReLU(),\n",
    "            nn.Linear(config[\"d_model\"], config[\"vocab_size\"]),\n",
    "        )\n",
    "\n",
    "        print(\n",
    "            f\"model params: {sum([m.numel() for m in self.parameters()])}\"\n",
    "        )\n",
    "\n",
    "    def forward(self, idx, targets=None):\n",
    "        x = self.embedding(idx)\n",
    "        logits = self.linear(x)\n",
    "\n",
    "        if targets is not None:\n",
    "            loss = F.cross_entropy(\n",
    "                logits.view(-1, self.config[\"vocab_size\"]),\n",
    "                targets.view(-1),\n",
    "                ignore_index=tokenizer.pad_token_id,\n",
    "                #reduction=\"sum\",\n",
    "            )\n",
    "            return logits, loss\n",
    "\n",
    "        else:\n",
    "            return logits\n",
    "\n",
    "\n",
    "model = SimpleFeedForwardNN(MASTER_CONFIG).to(device)\n",
    "# opt_model = torch.compile(model) #Again, non-Windows folks should be compiling functions and models\n",
    "# xs, ys = get_batches(\n",
    "#     train_data,\n",
    "#     MASTER_CONFIG[\"batch_size\"],\n",
    "#     MASTER_CONFIG[\"context_window\"],\n",
    "# )\n",
    "\n",
    "# logits, loss = model(xs, ys)"
   ]
  },
  {
   "cell_type": "markdown",
   "metadata": {},
   "source": [
    "### Training Loop"
   ]
  },
  {
   "cell_type": "code",
   "execution_count": 51,
   "metadata": {},
   "outputs": [],
   "source": [
    "def train(\n",
    "    model,\n",
    "    optimizer,\n",
    "    scheduler=None,\n",
    "    data=None,\n",
    "    config=MASTER_CONFIG,\n",
    "    lora=False,\n",
    "    print_logs=False,\n",
    "):\n",
    "    losses = []\n",
    "    start_time = time.time()\n",
    "    for epoch in range(config[\"epochs\"]):\n",
    "        try:\n",
    "            optimizer.zero_grad()\n",
    "\n",
    "            if lora:\n",
    "                get_lora_batches(\n",
    "                    data, config['batch_size']\n",
    "                )\n",
    "            else:\n",
    "                xs, ys = get_batches(\n",
    "                    data, config[\"batch_size\"], config[\"context_window\"]\n",
    "                )\n",
    "            \n",
    "            logits, loss = model(xs, targets=ys)\n",
    "            loss.backward()\n",
    "            optimizer.step()\n",
    "\n",
    "            if scheduler:\n",
    "                scheduler.step()\n",
    "\n",
    "            if epoch % config[\"log_interval\"] == 0:\n",
    "                batch_time = time.time() - start_time\n",
    "                x = get_loss(model, lora=lora)\n",
    "                losses += [x]\n",
    "                if print_logs:\n",
    "                    print(\n",
    "                        f\"Epoch {epoch} | train loss {x['train']:.3f} | val loss {x['val']:.3f} | Time {batch_time:.3f} | ETA: {timedelta(seconds=(batch_time * (config['epochs'] - epoch)/config['log_interval']))}\"\n",
    "                    )\n",
    "                start_time = time.time()\n",
    "\n",
    "                if scheduler:\n",
    "                    print(\"lr: \", scheduler.get_last_lr())\n",
    "        except StopIteration:\n",
    "            print(f\"Reached end of dataset on step {epoch}\")\n",
    "            break\n",
    "\n",
    "    GLOBAL_KEEP_TRACK.append(\n",
    "        f\"{type(model).__name__} {sum([m.numel() for m in model.parameters()])} Params | Train: {losses[-1]['train']:.3f} | Val: {losses[-1]['val']:.3f}\"\n",
    "    )\n",
    "    print(\n",
    "        f\"training loss {losses[-1]['train']:.3f} | validation loss: {losses[-1]['val']:.3f}\"\n",
    "    )\n",
    "    return pd.DataFrame(losses).plot()"
   ]
  },
  {
   "cell_type": "code",
   "execution_count": 11,
   "metadata": {},
   "outputs": [
    {
     "name": "stdout",
     "output_type": "stream",
     "text": [
      "Epoch 0 | train loss 10.349 | val loss 10.343 | Time 0.119 | ETA: 0:00:02.387133\n",
      "Epoch 50 | train loss 5.943 | val loss 5.878 | Time 0.345 | ETA: 0:00:06.562778\n",
      "Epoch 100 | train loss 5.359 | val loss 5.425 | Time 0.338 | ETA: 0:00:06.079628\n",
      "Epoch 150 | train loss 5.231 | val loss 5.254 | Time 0.340 | ETA: 0:00:05.779990\n",
      "Epoch 200 | train loss 5.182 | val loss 4.894 | Time 0.341 | ETA: 0:00:05.450333\n",
      "Epoch 250 | train loss 4.655 | val loss 4.743 | Time 0.341 | ETA: 0:00:05.120398\n",
      "Epoch 300 | train loss 4.656 | val loss 4.464 | Time 0.408 | ETA: 0:00:05.708231\n",
      "Epoch 350 | train loss 4.543 | val loss 4.443 | Time 0.399 | ETA: 0:00:05.190210\n",
      "Epoch 400 | train loss 4.441 | val loss 4.255 | Time 0.400 | ETA: 0:00:04.801251\n",
      "Epoch 450 | train loss 4.548 | val loss 4.287 | Time 0.407 | ETA: 0:00:04.475461\n",
      "Epoch 500 | train loss 4.520 | val loss 4.506 | Time 0.399 | ETA: 0:00:03.992252\n",
      "Epoch 550 | train loss 4.515 | val loss 4.374 | Time 0.398 | ETA: 0:00:03.578708\n",
      "Epoch 600 | train loss 4.179 | val loss 4.205 | Time 0.405 | ETA: 0:00:03.237770\n",
      "Epoch 650 | train loss 4.729 | val loss 4.237 | Time 0.403 | ETA: 0:00:02.821143\n",
      "Epoch 700 | train loss 4.260 | val loss 4.273 | Time 0.406 | ETA: 0:00:02.435540\n",
      "Epoch 750 | train loss 4.403 | val loss 4.237 | Time 0.405 | ETA: 0:00:02.022872\n",
      "Epoch 800 | train loss 3.957 | val loss 4.522 | Time 0.390 | ETA: 0:00:01.561172\n",
      "Epoch 850 | train loss 4.019 | val loss 4.304 | Time 0.396 | ETA: 0:00:01.188197\n",
      "Epoch 900 | train loss 4.405 | val loss 4.136 | Time 0.400 | ETA: 0:00:00.799310\n",
      "Epoch 950 | train loss 3.939 | val loss 4.423 | Time 0.409 | ETA: 0:00:00.409029\n",
      "training loss 3.939 | validation loss: 4.423\n"
     ]
    },
    {
     "data": {
      "text/plain": [
       "<Axes: >"
      ]
     },
     "execution_count": 11,
     "metadata": {},
     "output_type": "execute_result"
    },
    {
     "data": {
      "image/png": "[encoded data removed]",
      "text/plain": [
       "<Figure size 640x480 with 1 Axes>"
      ]
     },
     "metadata": {},
     "output_type": "display_data"
    }
   ],
   "source": [
    "optimizer = torch.optim.AdamW(\n",
    "    model.parameters(),\n",
    ")\n",
    "train(model, optimizer, data=train_data, print_logs=True)"
   ]
  },
  {
   "cell_type": "code",
   "execution_count": 12,
   "metadata": {},
   "outputs": [
    {
     "data": {
      "text/plain": [
       "[\"<s> Write a short story. Possible Story:  But together thisaroo name Lily said exciteded and smiled. She started to eating is '2 time, he did not quickly like to\",\n",
       " '<s> Write a short story. Possible Story:  Lila outside her back in her to waved good as a short story. Today for his bath were before flew into one started to conhe her',\n",
       " '<s> Write a short story. Possible Story:  We want to take a walk to speed to cry. She found a smallts that he was a magic a lot and Sue liked Lily was really',\n",
       " \"<s> Write a short story. Possible Story:  jog into the way home. Jack'll play in a sack. I want to exploreing in a book, and bought to hungry to\",\n",
       " '<s> Write a short story. Possible Story: icy, you on. The ép said, it go home. Sam noddedled, theised saw a big?\" Henry by her pocket!\" Jack']"
      ]
     },
     "execution_count": 12,
     "metadata": {},
     "output_type": "execute_result"
    }
   ],
   "source": [
    "generate(model, config=MASTER_CONFIG)"
   ]
  },
  {
   "cell_type": "code",
   "execution_count": 13,
   "metadata": {},
   "outputs": [
    {
     "name": "stdout",
     "output_type": "stream",
     "text": [
      "SimpleFeedForwardNN 18547809 Params | Train: 3.939 | Val: 4.423\n"
     ]
    }
   ],
   "source": [
    "for i in GLOBAL_KEEP_TRACK:\n",
    "    print(i)"
   ]
  },
  {
   "cell_type": "markdown",
   "metadata": {},
   "source": [
    "### RMS Normalization\n",
    "\n",
    "This is as opposed to the original Batch Normalization used in the original transformers paper.\n",
    "Basically it works by taking 1/sqrt(N) * frobenius_norm"
   ]
  },
  {
   "cell_type": "code",
   "execution_count": 14,
   "metadata": {},
   "outputs": [
    {
     "name": "stdout",
     "output_type": "stream",
     "text": [
      "torch.Size([5, 11, 13])\n"
     ]
    }
   ],
   "source": [
    "class RMSNormalization(nn.Module):\n",
    "    def __init__(self, layer_shape, eps=1e-5, bias=False):\n",
    "        super(RMSNormalization, self).__init__()\n",
    "        self.eps = eps\n",
    "        self.register_parameter(\n",
    "            \"scale\", nn.Parameter(torch.ones(layer_shape))\n",
    "        )\n",
    "\n",
    "    def forward(self, x):\n",
    "        \"\"\"\n",
    "        assumes shape (batch, seq_len, d_model)\n",
    "        \"\"\"\n",
    "        ff_rms = torch.linalg.norm(x, dim=(1, 2)) * x[0].numel() ** -0.5\n",
    "        raw = x / ff_rms.unsqueeze(-1).unsqueeze(-1)\n",
    "        return self.scale[: x.shape[1], :].unsqueeze(0) * raw\n",
    "\n",
    "\n",
    "test_batch = torch.randn((5, 11, 13))\n",
    "m = RMSNormalization((11, 13))\n",
    "g = m(test_batch)\n",
    "print(g.shape)"
   ]
  },
  {
   "cell_type": "code",
   "execution_count": 15,
   "metadata": {},
   "outputs": [
    {
     "name": "stdout",
     "output_type": "stream",
     "text": [
      "model params: 18557025\n",
      "Epoch 0 | train loss 10.338 | val loss 10.327 | Time 0.021 | ETA: 0:00:00.421805\n",
      "Epoch 50 | train loss 5.862 | val loss 5.753 | Time 0.413 | ETA: 0:00:07.845897\n",
      "Epoch 100 | train loss 5.020 | val loss 5.376 | Time 0.412 | ETA: 0:00:07.407047\n",
      "Epoch 150 | train loss 5.219 | val loss 4.911 | Time 0.424 | ETA: 0:00:07.200040\n",
      "Epoch 200 | train loss 4.929 | val loss 4.918 | Time 0.419 | ETA: 0:00:06.696888\n",
      "Epoch 250 | train loss 4.651 | val loss 4.631 | Time 0.406 | ETA: 0:00:06.089569\n",
      "Epoch 300 | train loss 4.821 | val loss 4.623 | Time 0.354 | ETA: 0:00:04.958171\n",
      "Epoch 350 | train loss 4.586 | val loss 4.305 | Time 0.352 | ETA: 0:00:04.576003\n",
      "Epoch 400 | train loss 4.313 | val loss 4.449 | Time 0.353 | ETA: 0:00:04.236013\n",
      "Epoch 450 | train loss 4.577 | val loss 4.454 | Time 0.353 | ETA: 0:00:03.882981\n",
      "Epoch 500 | train loss 4.386 | val loss 4.662 | Time 0.356 | ETA: 0:00:03.559978\n",
      "Epoch 550 | train loss 4.268 | val loss 4.489 | Time 0.408 | ETA: 0:00:03.672004\n",
      "Epoch 600 | train loss 4.300 | val loss 4.312 | Time 0.409 | ETA: 0:00:03.272013\n",
      "Epoch 650 | train loss 4.197 | val loss 4.327 | Time 0.514 | ETA: 0:00:03.597985\n",
      "Epoch 700 | train loss 4.104 | val loss 4.288 | Time 0.415 | ETA: 0:00:02.489994\n",
      "Epoch 750 | train loss 3.975 | val loss 4.129 | Time 0.423 | ETA: 0:00:02.115006\n",
      "Epoch 800 | train loss 4.230 | val loss 4.095 | Time 0.414 | ETA: 0:00:01.656003\n",
      "Epoch 850 | train loss 3.773 | val loss 4.103 | Time 0.414 | ETA: 0:00:01.242003\n",
      "Epoch 900 | train loss 3.840 | val loss 4.079 | Time 0.421 | ETA: 0:00:00.842004\n",
      "Epoch 950 | train loss 4.106 | val loss 4.207 | Time 0.416 | ETA: 0:00:00.416000\n",
      "training loss 4.106 | validation loss: 4.207\n"
     ]
    },
    {
     "data": {
      "text/plain": [
       "<Axes: >"
      ]
     },
     "execution_count": 15,
     "metadata": {},
     "output_type": "execute_result"
    },
    {
     "data": {
      "image/png": "[encoded data removed]",
      "text/plain": [
       "<Figure size 640x480 with 1 Axes>"
      ]
     },
     "metadata": {},
     "output_type": "display_data"
    }
   ],
   "source": [
    "class SimpleFeedForwardNN_RMS(nn.Module):\n",
    "    def __init__(self, config):\n",
    "        super().__init__()\n",
    "        self.config = config\n",
    "\n",
    "        self.embedding = nn.Embedding(\n",
    "            config[\"vocab_size\"], config[\"d_model\"]\n",
    "        )\n",
    "        self.rms = RMSNormalization(\n",
    "            (config[\"context_window\"], config[\"d_model\"])\n",
    "        )\n",
    "        self.linear = nn.Sequential(\n",
    "            nn.Linear(config[\"d_model\"], config[\"d_model\"]),\n",
    "            nn.ReLU(),\n",
    "            nn.Linear(config[\"d_model\"], config[\"vocab_size\"]),\n",
    "        )\n",
    "\n",
    "        print(\n",
    "            f\"model params: {sum([m.numel() for m in self.parameters()])}\"\n",
    "        )\n",
    "\n",
    "    def forward(self, idx, targets=None):\n",
    "        x = self.embedding(idx)\n",
    "        x = self.rms(x)  # rms pre-normalization\n",
    "        logits = self.linear(x)\n",
    "\n",
    "        if targets is not None:\n",
    "            loss = F.cross_entropy(\n",
    "                logits.view(-1, self.config[\"vocab_size\"]),\n",
    "                targets.view(-1),\n",
    "                ignore_index=tokenizer.pad_token_id,\n",
    "                #reduction=\"sum\",\n",
    "            )\n",
    "            return logits, loss\n",
    "\n",
    "        else:\n",
    "            return logits\n",
    "\n",
    "\n",
    "model = SimpleFeedForwardNN_RMS(MASTER_CONFIG).to(device)\n",
    "optimizer = torch.optim.AdamW(model.parameters())\n",
    "train(model, optimizer, data=train_data, print_logs=True)"
   ]
  },
  {
   "cell_type": "code",
   "execution_count": 16,
   "metadata": {},
   "outputs": [
    {
     "data": {
      "text/plain": [
       "['<s> Write a short story. Possible Story:  made herakes.  small beautiful all said, he was wrong for them of friends because she was clean the dinner. \"Its ch. Possible',\n",
       " '<s> Write a short story. Possible Story:  boy went in a distant aunque day?\" asked her t together on it that day on and faster. He saw a short story. He started toåk',\n",
       " '<s> Write a short story. Possible Story:  showed a girl was angry and felt bad. It could girl named Max the tree from the stones to play, a bush better. Possible Story:!',\n",
       " '<s> Write a short story. Possible Story: icy special special his to hop.\" After a nap, Max was even shirt asked. . Possible Story: <|> of a big tree',\n",
       " '<s> Write a short story. Possible Story: 3 everything. It was niceo about his d far away from around the proud of himself she said and needed he could know what said, and make']"
      ]
     },
     "execution_count": 16,
     "metadata": {},
     "output_type": "execute_result"
    }
   ],
   "source": [
    "generate(model, config=MASTER_CONFIG)"
   ]
  },
  {
   "cell_type": "code",
   "execution_count": 17,
   "metadata": {},
   "outputs": [
    {
     "name": "stdout",
     "output_type": "stream",
     "text": [
      "SimpleFeedForwardNN 18547809 Params | Train: 3.939 | Val: 4.423\n",
      "SimpleFeedForwardNN_RMS 18557025 Params | Train: 4.106 | Val: 4.207\n"
     ]
    }
   ],
   "source": [
    "for i in GLOBAL_KEEP_TRACK:\n",
    "    print(i)"
   ]
  },
  {
   "cell_type": "markdown",
   "metadata": {},
   "source": [
    "### RoPE scaling\n",
    "\n",
    "Rotary Embeddings changes the positional encoding from being based on sine and cosine to being based on the rotation of the embeddings, with a different rotation at each position"
   ]
  },
  {
   "cell_type": "code",
   "execution_count": 18,
   "metadata": {},
   "outputs": [
    {
     "name": "stderr",
     "output_type": "stream",
     "text": [
      "C:\\Users\\chris\\AppData\\Local\\Temp\\ipykernel_4396\\388148385.py:1: NumbaDeprecationWarning: \u001b[1mThe keyword argument 'nopython=False' was supplied. From Numba 0.59.0 the default is being changed to True and use of 'nopython=False' will raise a warning as the argument will have no effect. See https://numba.readthedocs.io/en/stable/reference/deprecation.html#deprecation-of-object-mode-fall-back-behaviour-when-using-jit for details.\u001b[0m\n",
      "  @jit(\n"
     ]
    }
   ],
   "source": [
    "@jit(\n",
    "    nopython=False\n",
    ")  # Careful running @jit and @njit in a jupyter notebook, nopython compilation might fail.\n",
    "def get_rotary_matrix(context_window, embedding_dim):\n",
    "    R = torch.zeros(\n",
    "        (context_window, embedding_dim, embedding_dim), requires_grad=False\n",
    "    )\n",
    "    for position in range(context_window):\n",
    "        for i in range(embedding_dim // 2):\n",
    "            theta = 10000.0 ** (-2.0 * (i - 1) / embedding_dim)\n",
    "            m_theta = position * theta\n",
    "            R[position, 2 * i, 2 * i] = np.cos(m_theta)\n",
    "            R[position, 2 * i, 2 * i + 1] = -np.sin(m_theta)\n",
    "            R[position, 2 * i + 1, 2 * i] = np.sin(m_theta)\n",
    "            R[position, 2 * i + 1, 2 * i + 1] = np.cos(m_theta)\n",
    "    return R"
   ]
  },
  {
   "cell_type": "code",
   "execution_count": 19,
   "metadata": {},
   "outputs": [
    {
     "name": "stderr",
     "output_type": "stream",
     "text": [
      "C:\\Users\\chris\\AppData\\Local\\Temp\\ipykernel_4396\\388148385.py:1: NumbaWarning: \u001b[1m\n",
      "Compilation is falling back to object mode WITH looplifting enabled because Function \"get_rotary_matrix\" failed type inference due to: \u001b[1m\u001b[1mUnknown attribute 'zeros' of type Module(<module 'torch' from 'c:\\\\Users\\\\chris\\\\anaconda3\\\\envs\\\\llmbook\\\\Lib\\\\site-packages\\\\torch\\\\__init__.py'>)\n",
      "\u001b[1m\n",
      "File \"..\\..\\..\\..\\AppData\\Local\\Temp\\ipykernel_4396\\388148385.py\", line 5:\u001b[0m\n",
      "\u001b[1m<source missing, REPL/exec in use?>\u001b[0m\n",
      "\u001b[0m\n",
      "\u001b[0m\u001b[1mDuring: typing of get attribute at C:\\Users\\chris\\AppData\\Local\\Temp\\ipykernel_4396\\388148385.py (5)\u001b[0m\n",
      "\u001b[1m\n",
      "File \"..\\..\\..\\..\\AppData\\Local\\Temp\\ipykernel_4396\\388148385.py\", line 5:\u001b[0m\n",
      "\u001b[1m<source missing, REPL/exec in use?>\u001b[0m\n",
      "\u001b[0m\n",
      "  @jit(\n",
      "C:\\Users\\chris\\AppData\\Local\\Temp\\ipykernel_4396\\388148385.py:1: NumbaWarning: \u001b[1m\n",
      "Compilation is falling back to object mode WITHOUT looplifting enabled because Function \"get_rotary_matrix\" failed type inference due to: \u001b[1m\u001b[1mCannot determine Numba type of <class 'numba.core.dispatcher.LiftedLoop'>\u001b[0m\n",
      "\u001b[1m\n",
      "File \"..\\..\\..\\..\\AppData\\Local\\Temp\\ipykernel_4396\\388148385.py\", line 8:\u001b[0m\n",
      "\u001b[1m<source missing, REPL/exec in use?>\u001b[0m\n",
      "\u001b[0m\u001b[0m\n",
      "  @jit(\n",
      "c:\\Users\\chris\\anaconda3\\envs\\llmbook\\Lib\\site-packages\\numba\\core\\object_mode_passes.py:151: NumbaWarning: \u001b[1mFunction \"get_rotary_matrix\" was compiled in object mode without forceobj=True, but has lifted loops.\n",
      "\u001b[1m\n",
      "File \"..\\..\\..\\..\\AppData\\Local\\Temp\\ipykernel_4396\\388148385.py\", line 1:\u001b[0m\n",
      "\u001b[1m<source missing, REPL/exec in use?>\u001b[0m\n",
      "\u001b[0m\n",
      "  warnings.warn(errors.NumbaWarning(warn_msg,\n",
      "c:\\Users\\chris\\anaconda3\\envs\\llmbook\\Lib\\site-packages\\numba\\core\\object_mode_passes.py:161: NumbaDeprecationWarning: \u001b[1m\n",
      "Fall-back from the nopython compilation path to the object mode compilation path has been detected. This is deprecated behaviour that will be removed in Numba 0.59.0.\n",
      "\n",
      "For more information visit https://numba.readthedocs.io/en/stable/reference/deprecation.html#deprecation-of-object-mode-fall-back-behaviour-when-using-jit\n",
      "\u001b[1m\n",
      "File \"..\\..\\..\\..\\AppData\\Local\\Temp\\ipykernel_4396\\388148385.py\", line 1:\u001b[0m\n",
      "\u001b[1m<source missing, REPL/exec in use?>\u001b[0m\n",
      "\u001b[0m\n",
      "  warnings.warn(errors.NumbaDeprecationWarning(msg,\n",
      "C:\\Users\\chris\\AppData\\Local\\Temp\\ipykernel_4396\\388148385.py:1: NumbaWarning: \u001b[1m\n",
      "Compilation is falling back to object mode WITHOUT looplifting enabled because Function \"get_rotary_matrix\" failed type inference due to: \u001b[1m\u001b[1mnon-precise type pyobject\u001b[0m\n",
      "\u001b[0m\u001b[1mDuring: typing of argument at C:\\Users\\chris\\AppData\\Local\\Temp\\ipykernel_4396\\388148385.py (8)\u001b[0m\n",
      "\u001b[1m\n",
      "File \"..\\..\\..\\..\\AppData\\Local\\Temp\\ipykernel_4396\\388148385.py\", line 8:\u001b[0m\n",
      "\u001b[1m<source missing, REPL/exec in use?>\u001b[0m\n",
      "\u001b[0m\n",
      "  @jit(\n",
      "c:\\Users\\chris\\anaconda3\\envs\\llmbook\\Lib\\site-packages\\numba\\core\\object_mode_passes.py:151: NumbaWarning: \u001b[1mFunction \"get_rotary_matrix\" was compiled in object mode without forceobj=True.\n",
      "\u001b[1m\n",
      "File \"..\\..\\..\\..\\AppData\\Local\\Temp\\ipykernel_4396\\388148385.py\", line 8:\u001b[0m\n",
      "\u001b[1m<source missing, REPL/exec in use?>\u001b[0m\n",
      "\u001b[0m\n",
      "  warnings.warn(errors.NumbaWarning(warn_msg,\n",
      "c:\\Users\\chris\\anaconda3\\envs\\llmbook\\Lib\\site-packages\\numba\\core\\object_mode_passes.py:161: NumbaDeprecationWarning: \u001b[1m\n",
      "Fall-back from the nopython compilation path to the object mode compilation path has been detected. This is deprecated behaviour that will be removed in Numba 0.59.0.\n",
      "\n",
      "For more information visit https://numba.readthedocs.io/en/stable/reference/deprecation.html#deprecation-of-object-mode-fall-back-behaviour-when-using-jit\n",
      "\u001b[1m\n",
      "File \"..\\..\\..\\..\\AppData\\Local\\Temp\\ipykernel_4396\\388148385.py\", line 8:\u001b[0m\n",
      "\u001b[1m<source missing, REPL/exec in use?>\u001b[0m\n",
      "\u001b[0m\n",
      "  warnings.warn(errors.NumbaDeprecationWarning(msg,\n"
     ]
    },
    {
     "data": {
      "image/png": "[encoded data removed]",
      "text/plain": [
       "<Figure size 900x1200 with 9 Axes>"
      ]
     },
     "metadata": {},
     "output_type": "display_data"
    }
   ],
   "source": [
    "from IPython.display import clear_output\n",
    "\n",
    "K = 3\n",
    "config = {\n",
    "    \"batch_size\": 10,\n",
    "    \"d_model\": 32,\n",
    "    \"n_heads\": 8,\n",
    "    \"context_window\": K**2,\n",
    "}\n",
    "batch = torch.randn(1, config[\"context_window\"], config[\"d_model\"])\n",
    "R = get_rotary_matrix(config[\"context_window\"], config[\"d_model\"])\n",
    "# clear_output()\n",
    "fig, ax = plt.subplots(K, K, figsize=(K * 3, K * 4))\n",
    "\n",
    "for i in range(K):\n",
    "    for j in range(K):\n",
    "        ax[i, j].imshow(R[i * K + j, :, :].detach().numpy())\n",
    "        ax[i, j].set_title(f\"rotation at {i * K + j}\")"
   ]
  },
  {
   "cell_type": "code",
   "execution_count": 20,
   "metadata": {},
   "outputs": [
    {
     "name": "stderr",
     "output_type": "stream",
     "text": [
      "C:\\Users\\chris\\AppData\\Local\\Temp\\ipykernel_4396\\2521293711.py:27: NumbaDeprecationWarning: \u001b[1mThe keyword argument 'nopython=False' was supplied. From Numba 0.59.0 the default is being changed to True and use of 'nopython=False' will raise a warning as the argument will have no effect. See https://numba.readthedocs.io/en/stable/reference/deprecation.html#deprecation-of-object-mode-fall-back-behaviour-when-using-jit for details.\u001b[0m\n",
      "  @jit(nopython=False)\n"
     ]
    }
   ],
   "source": [
    "config = {\n",
    "    \"batch_size\": 10,\n",
    "    \"d_model\": 512,\n",
    "    \"n_heads\": 8,\n",
    "    \"context_window\": 16,\n",
    "}\n",
    "\n",
    "\n",
    "class RoPEMaskedAttentionHead(nn.Module):\n",
    "    def __init__(self, config):\n",
    "        super().__init__()\n",
    "        self.config = config\n",
    "        self.w_q = nn.Linear(\n",
    "            config[\"d_model\"], config[\"d_model\"], bias=False\n",
    "        )\n",
    "        self.w_k = nn.Linear(\n",
    "            config[\"d_model\"], config[\"d_model\"], bias=False\n",
    "        )\n",
    "        self.w_v = nn.Linear(\n",
    "            config[\"d_model\"], config[\"d_model\"], bias=False\n",
    "        )\n",
    "\n",
    "        self.R = get_rotary_matrix(\n",
    "            config[\"context_window\"], config[\"d_model\"]\n",
    "        ).to(device)\n",
    "\n",
    "    @jit(nopython=False)\n",
    "    def get_rotary_matrix(context_window, embedding_dim):\n",
    "        R = torch.zeros(\n",
    "            (context_window, embedding_dim, embedding_dim),\n",
    "            requires_grad=False,\n",
    "        )\n",
    "        for position in range(context_window):\n",
    "            for i in range(embedding_dim // 2):\n",
    "                theta = 10000.0 ** (-2.0 * (i - 1) / embedding_dim)\n",
    "                m_theta = position * theta\n",
    "                R[position, 2 * i, 2 * i] = np.cos(m_theta)\n",
    "                R[position, 2 * i, 2 * i + 1] = -np.sin(m_theta)\n",
    "                R[position, 2 * i + 1, 2 * i] = np.sin(m_theta)\n",
    "                R[position, 2 * i + 1, 2 * i + 1] = np.cos(m_theta)\n",
    "        return R\n",
    "\n",
    "    def forward(self, x, return_attn_weights=False):\n",
    "        b, m, d = x.shape\n",
    "\n",
    "        q = self.w_q(x).to(device)\n",
    "        k = self.w_k(x).to(device)\n",
    "        v = self.w_v(x).to(device)\n",
    "\n",
    "        q_rotated = (\n",
    "            (torch.bmm(q.transpose(0, 1), self.R[:m]))\n",
    "            .transpose(0, 1)\n",
    "            .to(device)\n",
    "        )\n",
    "        k_rotated = (\n",
    "            (torch.bmm(k.transpose(0, 1), self.R[:m]))\n",
    "            .transpose(0, 1)\n",
    "            .to(device)\n",
    "        )\n",
    "\n",
    "        activations = F.scaled_dot_product_attention(\n",
    "            q_rotated, k_rotated, v, dropout_p=0.1, is_causal=True\n",
    "        )\n",
    "\n",
    "        if return_attn_weights:\n",
    "            attn_mask = torch.tril(torch.ones((m, m)), diagonal=0).to(\n",
    "                device\n",
    "            )\n",
    "            attn_weights = (\n",
    "                torch.bmm(q_rotated, k_rotated.transpose(1, 2)) / np.sqrt(d)\n",
    "                + attn_mask\n",
    "            )\n",
    "            attn_weights = F.softmax(attn_weights, dim=-1)\n",
    "            return activations, attn_weights\n",
    "        return activations\n",
    "\n",
    "\n",
    "layer = RoPEMaskedAttentionHead(config)\n",
    "batch = torch.randn(\n",
    "    (config[\"batch_size\"], config[\"context_window\"], config[\"d_model\"])\n",
    ")\n",
    "output, attn_weights = layer(batch, return_attn_weights=True)"
   ]
  },
  {
   "cell_type": "code",
   "execution_count": 21,
   "metadata": {},
   "outputs": [
    {
     "data": {
      "text/plain": [
       "torch.Size([16, 32, 288])"
      ]
     },
     "execution_count": 21,
     "metadata": {},
     "output_type": "execute_result"
    }
   ],
   "source": [
    "class RoPEMaskedMultiheadAttention(nn.Module):\n",
    "    def __init__(self, config):\n",
    "        super().__init__()\n",
    "        self.config = config\n",
    "        self.heads = nn.ModuleList(\n",
    "            [\n",
    "                RoPEMaskedAttentionHead(config).to(device)\n",
    "                for _ in range(config[\"n_heads\"])\n",
    "            ]\n",
    "        )\n",
    "        self.linear = nn.Linear(\n",
    "            config[\"n_heads\"] * config[\"d_model\"], config[\"d_model\"]\n",
    "        ).to(device)\n",
    "        self.dropout = nn.Dropout(0.1)\n",
    "\n",
    "    def forward(self, x):\n",
    "        x = x.to(device)\n",
    "        heads = [h(x) for h in self.heads]\n",
    "        x = torch.cat(heads, dim=-1)\n",
    "        x = self.linear(x)\n",
    "        x = self.dropout(x)\n",
    "        return x\n",
    "\n",
    "\n",
    "layer = RoPEMaskedMultiheadAttention(MASTER_CONFIG)\n",
    "batch = torch.ones(\n",
    "    (\n",
    "        MASTER_CONFIG[\"batch_size\"],\n",
    "        MASTER_CONFIG[\"context_window\"],\n",
    "        MASTER_CONFIG[\"d_model\"],\n",
    "    )\n",
    ")\n",
    "output = layer(batch)\n",
    "output.shape"
   ]
  },
  {
   "cell_type": "code",
   "execution_count": 22,
   "metadata": {},
   "outputs": [
    {
     "name": "stdout",
     "output_type": "stream",
     "text": [
      "model params: 20547969\n",
      "Epoch 0 | train loss 10.421 | val loss 10.434 | Time 0.011 | ETA: 0:00:00.220017\n",
      "Epoch 50 | train loss 5.943 | val loss 6.100 | Time 0.682 | ETA: 0:00:12.957999\n",
      "Epoch 100 | train loss 5.061 | val loss 5.113 | Time 0.765 | ETA: 0:00:13.776705\n",
      "Epoch 150 | train loss 4.645 | val loss 4.985 | Time 0.656 | ETA: 0:00:11.154690\n",
      "Epoch 200 | train loss 4.526 | val loss 5.175 | Time 0.664 | ETA: 0:00:10.624008\n",
      "Epoch 250 | train loss 4.248 | val loss 4.501 | Time 0.662 | ETA: 0:00:09.930031\n",
      "Epoch 300 | train loss 4.055 | val loss 4.559 | Time 0.693 | ETA: 0:00:09.701994\n",
      "Epoch 350 | train loss 4.126 | val loss 4.523 | Time 0.659 | ETA: 0:00:08.560651\n",
      "Epoch 400 | train loss 4.575 | val loss 4.217 | Time 0.655 | ETA: 0:00:07.860000\n",
      "Epoch 450 | train loss 4.184 | val loss 4.353 | Time 0.666 | ETA: 0:00:07.326022\n",
      "Epoch 500 | train loss 4.209 | val loss 4.066 | Time 0.698 | ETA: 0:00:06.980004\n",
      "Epoch 550 | train loss 3.904 | val loss 4.041 | Time 0.615 | ETA: 0:00:05.534998\n",
      "Epoch 600 | train loss 3.971 | val loss 4.129 | Time 0.600 | ETA: 0:00:04.800009\n",
      "Epoch 650 | train loss 3.822 | val loss 4.142 | Time 0.600 | ETA: 0:00:04.199998\n",
      "Epoch 700 | train loss 4.346 | val loss 4.224 | Time 0.596 | ETA: 0:00:03.576014\n",
      "Epoch 750 | train loss 4.267 | val loss 4.218 | Time 0.601 | ETA: 0:00:03.005008\n",
      "Epoch 800 | train loss 4.335 | val loss 4.301 | Time 0.660 | ETA: 0:00:02.639997\n",
      "Epoch 850 | train loss 4.275 | val loss 4.171 | Time 0.668 | ETA: 0:00:02.004004\n",
      "Epoch 900 | train loss 4.315 | val loss 4.066 | Time 0.649 | ETA: 0:00:01.297995\n",
      "Epoch 950 | train loss 4.164 | val loss 3.999 | Time 0.663 | ETA: 0:00:00.663000\n",
      "training loss 4.164 | validation loss: 3.999\n"
     ]
    },
    {
     "data": {
      "text/plain": [
       "<Axes: >"
      ]
     },
     "execution_count": 22,
     "metadata": {},
     "output_type": "execute_result"
    },
    {
     "data": {
      "image/png": "[encoded data removed]",
      "text/plain": [
       "<Figure size 640x480 with 1 Axes>"
      ]
     },
     "metadata": {},
     "output_type": "display_data"
    }
   ],
   "source": [
    "class SimpleFeedForwardNN_RMS_Rope(nn.Module):\n",
    "    def __init__(self, config):\n",
    "        super().__init__()\n",
    "        self.config = config\n",
    "\n",
    "        self.embedding = nn.Embedding(\n",
    "            config[\"vocab_size\"], config[\"d_model\"]\n",
    "        )\n",
    "        self.rms = RMSNormalization(\n",
    "            (config[\"context_window\"], config[\"d_model\"])\n",
    "        ).to(device)\n",
    "        self.rope_attention = RoPEMaskedMultiheadAttention(config).to(\n",
    "            device\n",
    "        )\n",
    "\n",
    "        self.linear = nn.Sequential(\n",
    "            nn.Linear(config[\"d_model\"], config[\"d_model\"]), nn.ReLU()\n",
    "        )\n",
    "\n",
    "        self.last_linear = nn.Linear(\n",
    "            config[\"d_model\"], config[\"vocab_size\"]\n",
    "        )\n",
    "\n",
    "        print(\n",
    "            f\"model params: {sum([m.numel() for m in self.parameters()])}\"\n",
    "        )\n",
    "\n",
    "    def forward(self, idx, targets=None):\n",
    "        x = self.embedding(idx)\n",
    "\n",
    "        x = self.rms(x)\n",
    "        x = x + self.rope_attention(x)\n",
    "\n",
    "        x = self.rms(x)\n",
    "        x = x + self.linear(x)\n",
    "\n",
    "        logits = self.last_linear(x)\n",
    "\n",
    "        if targets is not None:\n",
    "            loss = F.cross_entropy(\n",
    "                logits.view(-1, self.config[\"vocab_size\"]),\n",
    "                targets.view(-1),\n",
    "                ignore_index=tokenizer.pad_token_id,\n",
    "                #reduction=\"sum\",\n",
    "            )\n",
    "            return logits, loss\n",
    "\n",
    "        else:\n",
    "            return logits\n",
    "\n",
    "\n",
    "model = SimpleFeedForwardNN_RMS_Rope(MASTER_CONFIG).to(device)\n",
    "optimizer = torch.optim.AdamW(model.parameters())\n",
    "train(model, optimizer, data=train_data, print_logs=True)"
   ]
  },
  {
   "cell_type": "code",
   "execution_count": 23,
   "metadata": {},
   "outputs": [
    {
     "data": {
      "text/plain": [
       "['<s> Write a short story. Possible Story: ashed an old a middle of fun each cover when he picked very proud. They all looked it in theirool the teeth. David. And: inv',\n",
       " '<s> Write a short story. Possible Story: . It stepped down down then they when she snake you sure that anyone special.\" Tommy flew. And she looked up for himself and said,',\n",
       " '<s> Write a short story. Possible Story:  One morning and Sam. I want to play with the ordinary back and dog> fun passed boy in delight, \"This is a bag, who was',\n",
       " '<s> Write a short story. Possible Story:  Susie because Leo haveily in to take things, old woman bored felt acom.\" Bob and Ben wanted to a await him toy.',\n",
       " \"<s> Write a short story. Possible Story:  One mom perfed listen. When the rest of the doll. Tim thought he was so excited, and picks. Timmy laughed and let'\"]"
      ]
     },
     "execution_count": 23,
     "metadata": {},
     "output_type": "execute_result"
    }
   ],
   "source": [
    "generate(model, config=MASTER_CONFIG)"
   ]
  },
  {
   "cell_type": "code",
   "execution_count": 24,
   "metadata": {},
   "outputs": [
    {
     "name": "stdout",
     "output_type": "stream",
     "text": [
      "SimpleFeedForwardNN 18547809 Params | Train: 3.939 | Val: 4.423\n",
      "SimpleFeedForwardNN_RMS 18557025 Params | Train: 4.106 | Val: 4.207\n",
      "SimpleFeedForwardNN_RMS_Rope 20547969 Params | Train: 4.164 | Val: 3.999\n"
     ]
    }
   ],
   "source": [
    "for i in GLOBAL_KEEP_TRACK:\n",
    "    print(i)"
   ]
  },
  {
   "cell_type": "markdown",
   "metadata": {},
   "source": [
    "### SwiGLU\n",
    "\n",
    "Replace ReLU activation function. Defined as SwiGLU(x) = Swishβ(xW + b)⊗︀(xV + c)"
   ]
  },
  {
   "cell_type": "code",
   "execution_count": 25,
   "metadata": {},
   "outputs": [],
   "source": [
    "class SwiGLU(nn.Module):\n",
    "    def __init__(self, size):\n",
    "        super().__init__()\n",
    "        self.config = config\n",
    "        self.linear_gate = nn.Linear(size, size)\n",
    "        self.linear = nn.Linear(size, size)\n",
    "        self.beta = torch.randn(1, requires_grad=True)\n",
    "\n",
    "        self.beta = nn.Parameter(torch.ones(1))\n",
    "        self.register_parameter(\"beta\", self.beta)\n",
    "\n",
    "    def forward(self, x):\n",
    "        swish_gate = self.linear_gate(x) * torch.sigmoid(\n",
    "            self.beta * self.linear_gate(x)\n",
    "        )\n",
    "        out = swish_gate * self.linear(x)\n",
    "        return out"
   ]
  },
  {
   "cell_type": "code",
   "execution_count": 26,
   "metadata": {},
   "outputs": [
    {
     "name": "stdout",
     "output_type": "stream",
     "text": [
      "model params: 20714434\n",
      "Epoch 0 | train loss 10.431 | val loss 10.455 | Time 0.017 | ETA: 0:00:00.339985\n",
      "Epoch 50 | train loss 5.435 | val loss 6.310 | Time 0.708 | ETA: 0:00:13.452031\n",
      "Epoch 100 | train loss 5.060 | val loss 5.482 | Time 0.678 | ETA: 0:00:12.203995\n",
      "Epoch 150 | train loss 5.024 | val loss 5.675 | Time 0.669 | ETA: 0:00:11.373011\n",
      "Epoch 200 | train loss 4.834 | val loss 5.354 | Time 0.673 | ETA: 0:00:10.767998\n",
      "Epoch 250 | train loss 4.519 | val loss 4.676 | Time 0.714 | ETA: 0:00:10.710000\n",
      "Epoch 300 | train loss 4.515 | val loss 4.435 | Time 0.674 | ETA: 0:00:09.436017\n",
      "Epoch 350 | train loss 4.068 | val loss 4.518 | Time 0.681 | ETA: 0:00:08.853003\n",
      "Epoch 400 | train loss 4.315 | val loss 4.606 | Time 0.686 | ETA: 0:00:08.231996\n",
      "Epoch 450 | train loss 4.459 | val loss 4.549 | Time 0.672 | ETA: 0:00:07.391999\n",
      "Epoch 500 | train loss 4.120 | val loss nan | Time 0.672 | ETA: 0:00:06.719987\n",
      "Epoch 550 | train loss 4.106 | val loss 4.192 | Time 0.687 | ETA: 0:00:06.183020\n",
      "Epoch 600 | train loss 3.789 | val loss 4.345 | Time 0.685 | ETA: 0:00:05.479994\n",
      "Epoch 650 | train loss 4.001 | val loss 4.133 | Time 0.685 | ETA: 0:00:04.794993\n",
      "Epoch 700 | train loss 3.828 | val loss 4.080 | Time 0.686 | ETA: 0:00:04.116012\n",
      "Epoch 750 | train loss 4.229 | val loss 3.938 | Time 0.713 | ETA: 0:00:03.565004\n",
      "Epoch 800 | train loss 4.427 | val loss 4.112 | Time 0.616 | ETA: 0:00:02.464001\n",
      "Epoch 850 | train loss 4.405 | val loss 4.035 | Time 0.619 | ETA: 0:00:01.857001\n",
      "Epoch 900 | train loss 4.122 | val loss 4.089 | Time 0.618 | ETA: 0:00:01.236003\n",
      "Epoch 950 | train loss 4.158 | val loss 4.195 | Time 0.618 | ETA: 0:00:00.617515\n",
      "training loss 4.158 | validation loss: 4.195\n"
     ]
    },
    {
     "data": {
      "text/plain": [
       "<Axes: >"
      ]
     },
     "execution_count": 26,
     "metadata": {},
     "output_type": "execute_result"
    },
    {
     "data": {
      "image/png": "[encoded data removed]",
      "text/plain": [
       "<Figure size 640x480 with 1 Axes>"
      ]
     },
     "metadata": {},
     "output_type": "display_data"
    }
   ],
   "source": [
    "class SimpleFeedForwardNN_RMS_RoPE_SwiGLU(nn.Module):\n",
    "    def __init__(self, config):\n",
    "        super().__init__()\n",
    "        self.config = config\n",
    "\n",
    "        self.embedding = nn.Embedding(\n",
    "            config[\"vocab_size\"], config[\"d_model\"]\n",
    "        )\n",
    "        self.rms = RMSNormalization(\n",
    "            (config[\"context_window\"], config[\"d_model\"])\n",
    "        )\n",
    "        self.rope_attention = RoPEMaskedMultiheadAttention(config)\n",
    "\n",
    "        self.linear = nn.Sequential(\n",
    "            nn.Linear(config[\"d_model\"], config[\"d_model\"]),\n",
    "            SwiGLU(config[\"d_model\"]),\n",
    "        )\n",
    "\n",
    "        self.last_linear = nn.Linear(\n",
    "            config[\"d_model\"], config[\"vocab_size\"]\n",
    "        )\n",
    "\n",
    "        print(\n",
    "            f\"model params: {sum([m.numel() for m in self.parameters()])}\"\n",
    "        )\n",
    "\n",
    "    def forward(self, idx, targets=None):\n",
    "        x = self.embedding(idx)\n",
    "\n",
    "        x = self.rms(x)\n",
    "        x = x + self.rope_attention(x)\n",
    "\n",
    "        x = self.rms(x)\n",
    "        x = x + self.linear(x)\n",
    "\n",
    "        logits = self.last_linear(x)\n",
    "\n",
    "        if targets is not None:\n",
    "            loss = F.cross_entropy(\n",
    "                logits.view(-1, self.config[\"vocab_size\"]),\n",
    "                targets.view(-1),\n",
    "                ignore_index=tokenizer.pad_token_id,\n",
    "                #reduction=\"sum\",\n",
    "            )\n",
    "            return logits, loss\n",
    "\n",
    "        else:\n",
    "            return logits\n",
    "\n",
    "\n",
    "model = SimpleFeedForwardNN_RMS_RoPE_SwiGLU(MASTER_CONFIG).to(device)\n",
    "optimizer = torch.optim.AdamW(model.parameters())\n",
    "train(model, optimizer, data=train_data, print_logs=True)"
   ]
  },
  {
   "cell_type": "code",
   "execution_count": 27,
   "metadata": {},
   "outputs": [
    {
     "data": {
      "text/plain": [
       "['<s> Write a short story. Possible Story:  st She takes from the smiled and said, \"Oh.\" Help. You have to have a kind boxes his family, mouth happily  She',\n",
       " '<s> Write a short story. Possible Story:  Do you each otherash with applesW little and you give process are friends. They they had a very brave and warm. They wish, but',\n",
       " '<s> Write a short story. Possible Story: 3 a type said, \".\"  She sp terrorunny. She incre longer is tight and aL habess saw theay. But we',\n",
       " '<s> Write a short story. Possible Story:  has old mind. He feels sticks and soup.\"l to play with the boats. As they near the mouse. They says, \"Let\\'',\n",
       " '<s> Write a short story. Possible Story: ite said they colorful Camera and chocolateay. She pulled. They hugged and said, \" sky. Sheпис him before I']"
      ]
     },
     "execution_count": 27,
     "metadata": {},
     "output_type": "execute_result"
    }
   ],
   "source": [
    "generate(model, config=MASTER_CONFIG)"
   ]
  },
  {
   "cell_type": "code",
   "execution_count": 28,
   "metadata": {},
   "outputs": [
    {
     "name": "stdout",
     "output_type": "stream",
     "text": [
      "SimpleFeedForwardNN 18547809 Params | Train: 3.939 | Val: 4.423\n",
      "SimpleFeedForwardNN_RMS 18557025 Params | Train: 4.106 | Val: 4.207\n",
      "SimpleFeedForwardNN_RMS_Rope 20547969 Params | Train: 4.164 | Val: 3.999\n",
      "SimpleFeedForwardNN_RMS_RoPE_SwiGLU 20714434 Params | Train: 4.158 | Val: 4.195\n"
     ]
    }
   ],
   "source": [
    "for i in GLOBAL_KEEP_TRACK:\n",
    "    print(i)"
   ]
  },
  {
   "cell_type": "code",
   "execution_count": 29,
   "metadata": {},
   "outputs": [
    {
     "data": {
      "text/plain": [
       "6"
      ]
     },
     "execution_count": 29,
     "metadata": {},
     "output_type": "execute_result"
    }
   ],
   "source": [
    "del model\n",
    "with torch.no_grad():\n",
    "    torch.cuda.empty_cache()\n",
    "import gc\n",
    "\n",
    "gc.collect()"
   ]
  },
  {
   "cell_type": "markdown",
   "metadata": {},
   "source": [
    "### Llama\n",
    "\n",
    "So what makes Llama 2 different from regular simple feed forward networks? Blocks of RMSNorm and Residual Rope Attention. Let's make those blocks and create our model"
   ]
  },
  {
   "cell_type": "code",
   "execution_count": 30,
   "metadata": {},
   "outputs": [],
   "source": [
    "class LlamaBlock(nn.Module):\n",
    "    def __init__(self, config):\n",
    "        super().__init__()\n",
    "        self.config = config\n",
    "\n",
    "        self.rms = RMSNormalization(\n",
    "            (config[\"context_window\"], config[\"d_model\"])\n",
    "        ).to(device)\n",
    "\n",
    "        self.attention = RoPEMaskedMultiheadAttention(config).to(device)\n",
    "        self.feedforward = nn.Sequential(\n",
    "            nn.Linear(config[\"d_model\"], config[\"hidden_dim\"]),\n",
    "            SwiGLU(config[\"hidden_dim\"]),\n",
    "            nn.Linear(config[\"hidden_dim\"], config[\"d_model\"]),\n",
    "        ).to(device)\n",
    "\n",
    "    def forward(self, x):\n",
    "        x = self.rms(x)\n",
    "        x = x + self.attention(x)\n",
    "\n",
    "        x = self.rms(x)\n",
    "        x = x + self.feedforward(x)\n",
    "        return x"
   ]
  },
  {
   "cell_type": "code",
   "execution_count": 31,
   "metadata": {},
   "outputs": [],
   "source": [
    "class SimpleLlama(nn.Module):\n",
    "    def __init__(self, config):\n",
    "        super().__init__()\n",
    "        self.config = config\n",
    "\n",
    "        self.embedding = nn.Embedding(\n",
    "            config[\"vocab_size\"], config[\"d_model\"]\n",
    "        )\n",
    "        self.llama_blocks = nn.Sequential(\n",
    "            OrderedDict(\n",
    "                [\n",
    "                    (f\"llama_{i}\", LlamaBlock(config))\n",
    "                    for i in range(config[\"n_layers\"])\n",
    "                ]\n",
    "            )\n",
    "        )\n",
    "\n",
    "        self.ffn = nn.Sequential(\n",
    "            nn.Linear(config[\"d_model\"], config[\"d_model\"]*2),\n",
    "            SwiGLU(config[\"d_model\"]*2),\n",
    "            nn.Linear(config[\"d_model\"]*2, config[\"vocab_size\"]),\n",
    "        )\n",
    "\n",
    "        print(\n",
    "            f\"model params: {sum([m.numel() for m in self.parameters()])}\"\n",
    "        )\n",
    "\n",
    "    def forward(self, idx, targets=None):\n",
    "        x = self.embedding(idx)\n",
    "        x = self.llama_blocks(x)\n",
    "        logits = self.ffn(x)\n",
    "\n",
    "        if targets is None:\n",
    "            return logits\n",
    "\n",
    "        else:\n",
    "            loss = F.cross_entropy(\n",
    "                logits.view(-1, self.config[\"vocab_size\"]),\n",
    "                targets.view(-1),\n",
    "                ignore_index=tokenizer.pad_token_id,\n",
    "                #reduction=\"sum\",\n",
    "            )\n",
    "            return logits, loss"
   ]
  },
  {
   "cell_type": "code",
   "execution_count": 32,
   "metadata": {},
   "outputs": [
    {
     "name": "stdout",
     "output_type": "stream",
     "text": [
      "model params: 50260648\n",
      "Epoch 0 | train loss 10.352 | val loss 10.349 | Time 0.186 | ETA: 0:00:03.713803\n",
      "Epoch 50 | train loss 6.531 | val loss 6.685 | Time 2.489 | ETA: 0:00:47.291006\n",
      "Epoch 100 | train loss 8.257 | val loss 10.641 | Time 2.543 | ETA: 0:00:45.774004\n",
      "Epoch 150 | train loss 123.148 | val loss 177.573 | Time 2.518 | ETA: 0:00:42.805998\n",
      "Epoch 200 | train loss 6.830 | val loss 7.282 | Time 2.520 | ETA: 0:00:40.320015\n",
      "Epoch 250 | train loss 6.388 | val loss 6.741 | Time 2.534 | ETA: 0:00:38.009999\n",
      "Epoch 300 | train loss 6.323 | val loss 6.603 | Time 2.547 | ETA: 0:00:35.658006\n",
      "Epoch 350 | train loss 6.376 | val loss 6.575 | Time 2.521 | ETA: 0:00:32.773002\n",
      "Epoch 400 | train loss 6.271 | val loss 6.401 | Time 2.540 | ETA: 0:00:30.481444\n",
      "Epoch 450 | train loss 6.173 | val loss 6.354 | Time 2.563 | ETA: 0:00:28.192989\n",
      "Epoch 500 | train loss 6.236 | val loss 6.321 | Time 2.538 | ETA: 0:00:25.379999\n",
      "Epoch 550 | train loss 6.156 | val loss 6.300 | Time 2.570 | ETA: 0:00:23.130186\n",
      "Epoch 600 | train loss 6.203 | val loss 6.259 | Time 2.569 | ETA: 0:00:20.552004\n",
      "Epoch 650 | train loss 6.655 | val loss 6.673 | Time 2.547 | ETA: 0:00:17.828991\n",
      "Epoch 700 | train loss 6.162 | val loss 6.163 | Time 2.607 | ETA: 0:00:15.642008\n",
      "Epoch 750 | train loss 6.171 | val loss 6.202 | Time 2.547 | ETA: 0:00:12.734995\n",
      "Epoch 800 | train loss 6.673 | val loss 6.239 | Time 2.572 | ETA: 0:00:10.287995\n",
      "Epoch 850 | train loss 6.054 | val loss 6.190 | Time 2.557 | ETA: 0:00:07.671003\n",
      "Epoch 900 | train loss 5.926 | val loss 6.509 | Time 2.646 | ETA: 0:00:05.292001\n",
      "Epoch 950 | train loss 6.224 | val loss 6.166 | Time 2.540 | ETA: 0:00:02.540001\n",
      "training loss 6.224 | validation loss: 6.166\n"
     ]
    },
    {
     "data": {
      "text/plain": [
       "<Axes: >"
      ]
     },
     "execution_count": 32,
     "metadata": {},
     "output_type": "execute_result"
    },
    {
     "data": {
      "image/png": "[encoded data removed]",
      "text/plain": [
       "<Figure size 640x480 with 1 Axes>"
      ]
     },
     "metadata": {},
     "output_type": "display_data"
    }
   ],
   "source": [
    "MASTER_CONFIG[\"epochs\"] = 1000\n",
    "\n",
    "llama = SimpleLlama(MASTER_CONFIG).to(device)\n",
    "optimizer = torch.optim.AdamW(llama.parameters())\n",
    "train(\n",
    "    llama, optimizer, data=train_data, config=MASTER_CONFIG, print_logs=True\n",
    ")"
   ]
  },
  {
   "cell_type": "code",
   "execution_count": 61,
   "metadata": {},
   "outputs": [
    {
     "data": {
      "text/plain": [
       "['<s> Write a short story. Possible Story: .\" that. he of.\" of and. her. you she.! was he he and they the the to the the.\". the with., that and\\'. happy He,.\"... not and He a,. to,',\n",
       " '<s> Write a short story. Possible Story:  the! the her happy.. in in the,, the was,.\" to.,. a a it to they. with in have the. a,, and the He. a her.. a and.. with said was and',\n",
       " '<s> Write a short story. Possible Story: . the her. of to and.\\' it,, to.\"ed be he she and.. the .\".  they a a it, to. said.. and is in and that..... the,. it',\n",
       " \"<s> Write a short story. Possible Story:  with the . her Sheed that she not a.. to a' a the she and a in and. a to he in and. to. for was. the.. it. happy said., in her of a in and\",\n",
       " '<s> Write a short story. Possible Story:  it., the\\'.. he and.\" and of and. to said. to. to,. to it a and She... her.. They is.. the He and a to and to she the.,. with']"
      ]
     },
     "execution_count": 61,
     "metadata": {},
     "output_type": "execute_result"
    }
   ],
   "source": [
    "generate(llama, config=MASTER_CONFIG, temperature=1.0, top_k=25, max_new_tokens=50)"
   ]
  },
  {
   "cell_type": "code",
   "execution_count": 34,
   "metadata": {},
   "outputs": [
    {
     "name": "stdout",
     "output_type": "stream",
     "text": [
      "SimpleFeedForwardNN 18547809 Params | Train: 3.939 | Val: 4.423\n",
      "SimpleFeedForwardNN_RMS 18557025 Params | Train: 4.106 | Val: 4.207\n",
      "SimpleFeedForwardNN_RMS_Rope 20547969 Params | Train: 4.164 | Val: 3.999\n",
      "SimpleFeedForwardNN_RMS_RoPE_SwiGLU 20714434 Params | Train: 4.158 | Val: 4.195\n",
      "SimpleLlama 50260648 Params | Train: 6.224 | Val: 6.166\n"
     ]
    }
   ],
   "source": [
    "for i in GLOBAL_KEEP_TRACK:\n",
    "    print(i)"
   ]
  },
  {
   "cell_type": "code",
   "execution_count": 35,
   "metadata": {},
   "outputs": [
    {
     "name": "stdout",
     "output_type": "stream",
     "text": [
      "model params: 212209674\n"
     ]
    }
   ],
   "source": [
    "MASTER_CONFIG[\"epochs\"] = 1000\n",
    "MASTER_CONFIG[\"batch_size\"] = 16\n",
    "MASTER_CONFIG[\"d_model\"] = 768\n",
    "MASTER_CONFIG[\"n_layers\"] = 8\n",
    "MASTER_CONFIG['context_window'] = 64\n",
    "\n",
    "llama = SimpleLlama(MASTER_CONFIG).to(device)\n",
    "\n",
    "llama_optimizer = torch.optim.AdamW(\n",
    "    llama.parameters(),\n",
    "    betas=(0.9, 0.95),\n",
    "    weight_decay=1e-1,\n",
    "    eps=1e-9,\n",
    "    lr=5e-4,\n",
    ")\n",
    "scheduler = torch.optim.lr_scheduler.CosineAnnealingLR(\n",
    "    llama_optimizer, 1000, eta_min=1e-5\n",
    ")\n",
    "train_data = iter(encoded_dataset[\"train\"].shuffle())"
   ]
  },
  {
   "cell_type": "code",
   "execution_count": 36,
   "metadata": {},
   "outputs": [
    {
     "name": "stdout",
     "output_type": "stream",
     "text": [
      "Epoch 0 | train loss 10.343 | val loss 10.337 | Time 0.678 | ETA: 0:00:13.557453\n",
      "lr:  [0.0004999987909744553]\n",
      "Epoch 50 | train loss 10.276 | val loss 10.392 | Time 14.329 | ETA: 0:04:32.248151\n",
      "lr:  [0.0004968620434287298]\n",
      "Epoch 100 | train loss 10.161 | val loss 10.123 | Time 14.389 | ETA: 0:04:19.003956\n",
      "lr:  [0.00048776984967968684]\n",
      "Epoch 150 | train loss 6.592 | val loss 6.663 | Time 14.426 | ETA: 0:04:05.245155\n",
      "lr:  [0.0004729460897126908]\n",
      "Epoch 200 | train loss 6.451 | val loss 6.427 | Time 14.454 | ETA: 0:03:51.257084\n",
      "lr:  [0.0004527557736953662]\n",
      "Epoch 250 | train loss 6.198 | val loss 6.318 | Time 14.506 | ETA: 0:03:37.593005\n",
      "lr:  [0.0004276960542158767]\n",
      "Epoch 300 | train loss 6.344 | val loss 6.695 | Time 14.542 | ETA: 0:03:23.590661\n",
      "lr:  [0.00039838398473624826]\n",
      "Epoch 350 | train loss 6.222 | val loss 6.250 | Time 14.518 | ETA: 0:03:08.732911\n",
      "lr:  [0.00036554132568825045]\n",
      "Epoch 400 | train loss 6.266 | val loss 6.247 | Time 14.534 | ETA: 0:02:54.407464\n",
      "lr:  [0.0003299767723361813]\n",
      "Epoch 450 | train loss 6.141 | val loss 6.145 | Time 14.645 | ETA: 0:02:41.097683\n",
      "lr:  [0.00029256604201555376]\n",
      "Epoch 500 | train loss 6.150 | val loss 6.281 | Time 14.623 | ETA: 0:02:26.226106\n",
      "lr:  [0.0002542303110659579]\n",
      "Epoch 550 | train loss 6.171 | val loss 6.344 | Time 14.712 | ETA: 0:02:12.406518\n",
      "lr:  [0.00021591353241236954]\n",
      "Epoch 600 | train loss 6.164 | val loss 6.184 | Time 14.557 | ETA: 0:01:56.459454\n",
      "lr:  [0.0001785591923113374]\n",
      "Epoch 650 | train loss 6.233 | val loss 6.208 | Time 14.568 | ETA: 0:01:41.975653\n",
      "lr:  [0.0001430870785880959]\n",
      "Epoch 700 | train loss 6.149 | val loss 6.274 | Time 14.600 | ETA: 0:01:27.601416\n",
      "lr:  [0.00011037063240770733]\n",
      "Epoch 750 | train loss 6.025 | val loss 6.318 | Time 14.558 | ETA: 0:01:12.789848\n",
      "lr:  [8.121544125479255e-05]\n",
      "Epoch 800 | train loss 6.149 | val loss 6.326 | Time 14.553 | ETA: 0:00:58.210094\n",
      "lr:  [5.6339402696068356e-05]\n",
      "Epoch 850 | train loss 6.174 | val loss 6.243 | Time 14.569 | ETA: 0:00:43.705787\n",
      "lr:  [3.6355047359689e-05]\n",
      "Epoch 900 | train loss 6.228 | val loss 6.336 | Time 14.571 | ETA: 0:00:29.141042\n",
      "lr:  [2.1754456398309237e-05]\n",
      "Epoch 950 | train loss 6.123 | val loss 6.357 | Time 14.554 | ETA: 0:00:14.554306\n",
      "lr:  [1.2897144817981292e-05]\n",
      "training loss 6.123 | validation loss: 6.357\n"
     ]
    },
    {
     "data": {
      "text/plain": [
       "<Axes: >"
      ]
     },
     "execution_count": 36,
     "metadata": {},
     "output_type": "execute_result"
    },
    {
     "data": {
      "image/png": "[encoded data removed]",
      "text/plain": [
       "<Figure size 640x480 with 1 Axes>"
      ]
     },
     "metadata": {},
     "output_type": "display_data"
    }
   ],
   "source": [
    "train(\n",
    "    llama,\n",
    "    llama_optimizer,\n",
    "    scheduler=scheduler,\n",
    "    data=train_data,\n",
    "    config=MASTER_CONFIG,\n",
    "    print_logs=True,\n",
    ")"
   ]
  },
  {
   "cell_type": "code",
   "execution_count": 65,
   "metadata": {},
   "outputs": [
    {
     "data": {
      "text/plain": [
       "['<s> Write a short story. Possible Story:  to could felt was you mom!\" to \" to. and and for for to a. it was \" was! that \" happy noty L him in. to. to. on her. it he and sad.. amy it!\",',\n",
       " '<s> Write a short story. Possible Story: . to You M They I She play But She.. you to they the the for he in?\", happy he in it his. his we too was together on her are is of but mom and, L day,ared a a. \"',\n",
       " '<s> Write a short story. Possible Story: .\" my.. it the. the is  what the I and and was mom was you the But have she. a and the at to me will and it a that wanted.\" too her is.  it.! and you with',\n",
       " '<s> Write a short story. Possible Story:  for so her.\" Itly a.,.. he the.ug the in was from happy. with Tim up She her.\\' to She can fun.!\" not...ly felt  mom youily L a. of..',\n",
       " \"<s> Write a short story. Possible Story: ed sad' She of said he. and with But had They the with hised She happy the' back their together!  and,. and for. fun. to how he with wasy he it. himug. was. Ben a\"]"
      ]
     },
     "execution_count": 65,
     "metadata": {},
     "output_type": "execute_result"
    }
   ],
   "source": [
    "generate(llama, config=MASTER_CONFIG, temperature=1.0, top_k=100, max_new_tokens=50)"
   ]
  },
  {
   "cell_type": "code",
   "execution_count": 38,
   "metadata": {},
   "outputs": [
    {
     "name": "stdout",
     "output_type": "stream",
     "text": [
      "SimpleFeedForwardNN 18547809 Params | Train: 3.939 | Val: 4.423\n",
      "SimpleFeedForwardNN_RMS 18557025 Params | Train: 4.106 | Val: 4.207\n",
      "SimpleFeedForwardNN_RMS_Rope 20547969 Params | Train: 4.164 | Val: 3.999\n",
      "SimpleFeedForwardNN_RMS_RoPE_SwiGLU 20714434 Params | Train: 4.158 | Val: 4.195\n",
      "SimpleLlama 50260648 Params | Train: 6.224 | Val: 6.166\n",
      "SimpleLlama 212209674 Params | Train: 6.123 | Val: 6.357\n"
     ]
    }
   ],
   "source": [
    "for i in GLOBAL_KEEP_TRACK:\n",
    "    print(i)"
   ]
  },
  {
   "cell_type": "code",
   "execution_count": 39,
   "metadata": {},
   "outputs": [],
   "source": [
    "# LLAMA_CONFIG = {\n",
    "#     \"vocab_size\": 32000,\n",
    "#     \"batch_size\": 2,\n",
    "#     \"context_window\": 256,\n",
    "#     \"d_model\": 768,\n",
    "#     \"hidden_dim\": 1536,\n",
    "#     \"epochs\": 1,\n",
    "#     \"log_interval\": 1,\n",
    "#     \"n_heads\": 8,\n",
    "#     \"n_layers\": 8,\n",
    "# }\n",
    "\n",
    "# # Llama2 7b config:\n",
    "# # LLAMA_2_7b_CONFIG = {\n",
    "# #     \"hidden_act\": \"silu\",\n",
    "# #     \"hidden_dim\": 4096,\n",
    "# #     \"initializer_range\": 0.02,\n",
    "# #     \"swiglu_size\": 11008,\n",
    "# #     \"context_window\": 4096,\n",
    "# #     \"d_model\": 2048,\n",
    "# #     \"n_heads\": 32,\n",
    "# #     \"n_layers\": 32,\n",
    "# #     \"num_key_value_heads\": 32,\n",
    "# #     \"rms_norm_eps\": 1e-05,\n",
    "# #     \"torch_dtype\": \"float16\", # Ours is float32 right now\n",
    "# #     \"vocab_size\": 32000\n",
    "# # }\n",
    "\n",
    "# # # Llama2 70b config:\n",
    "# # LLAMA_2_70b_CONFIG = {\n",
    "# #     \"hidden_act\": \"silu\",\n",
    "# #     \"hidden_dim\": 8192,\n",
    "# #     \"initializer_range\": 0.02,\n",
    "# #     \"swiglu_size\": 28672,\n",
    "# #     \"context_window\": 4096,\n",
    "# #     \"d_model\": 2048,\n",
    "# #     \"n_heads\": 64,\n",
    "# #     \"n_layers\": 80,\n",
    "# #     \"num_key_value_heads\": 8,\n",
    "# #     \"rms_norm_eps\": 1e-05,\n",
    "# #     \"torch_dtype\": \"float16\", # Ours is float32 right now\n",
    "# #     \"vocab_size\": 32000\n",
    "# #     }"
   ]
  },
  {
   "cell_type": "code",
   "execution_count": 40,
   "metadata": {},
   "outputs": [],
   "source": [
    "# Training with epochs instead of steps\n",
    "# def train(\n",
    "#     model, optimizer, dataset, scheduler=None, config=LLAMA_CONFIG, print_logs=False\n",
    "# ):\n",
    "#     losses = []\n",
    "\n",
    "#     start_time = time.time()\n",
    "#     for epoch in range(config[\"epochs\"]):\n",
    "#         for step, example in enumerate(dataset):\n",
    "#             try:\n",
    "#             optimizer.zero_grad()\n",
    "\n",
    "#             xs, ys = _get_batch(example, 2, config['context_window'])\n",
    "#             _, loss = model(xs, targets=ys)\n",
    "#             loss.backward()\n",
    "#             optimizer.step()\n",
    "\n",
    "#             if scheduler:\n",
    "#                 scheduler.step()\n",
    "\n",
    "#             if i % config[\"log_interval\"] == 0:\n",
    "#                 batch_time = time.time() - start_time\n",
    "#                 x = get_loss(model)\n",
    "#                 losses += [x]\n",
    "#                 if print_logs:\n",
    "#                     print(\n",
    "#                         f\"Epoch {epoch} | Step {i} | train loss {x['train']:.3f} | val loss {x['val']:.3f} | Time {batch_time:.3f} | ETA in seconds: {batch_time * (config['epochs'] - i) :.3f}\"\n",
    "#                     )\n",
    "#                 start_time = time.time()\n",
    "\n",
    "#                 if scheduler:\n",
    "#                     print(\"lr: \", scheduler.get_last_lr())\n",
    "#               except StopIteration:\n",
    "#                   print(f\"Finished dataset at step {step}\")\n",
    "#                   break\n",
    "#     print(f\"training loss {losses[-1]['train']} | validation loss: {losses[-1]['val']}\")\n",
    "#     GLOBAL_KEEP_TRACK.append(f\"{type(model).__name__} {sum([m.numel() for m in model.parameters()])} Params | Train: {losses[-1]['train']} | Val: {losses[-1]['val']}\")\n",
    "#     return pd.DataFrame(losses).plot()"
   ]
  },
  {
   "cell_type": "code",
   "execution_count": 41,
   "metadata": {},
   "outputs": [],
   "source": [
    "# llama = Llama(LLAMA_CONFIG).to(device)\n",
    "\n",
    "# llama_optimizer = torch.optim.Adam(\n",
    "#     llama.parameters(),\n",
    "#     betas=(0.9, 0.95),\n",
    "#     weight_decay=0.1,\n",
    "#     eps=1e-9,\n",
    "#     lr=1e-3,\n",
    "# )\n",
    "# scheduler = torch.optim.lr_scheduler.CosineAnnealingLR(\n",
    "#     llama_optimizer, 1000, eta_min=1e-5\n",
    "# )"
   ]
  },
  {
   "cell_type": "markdown",
   "metadata": {},
   "source": [
    "# Quantization"
   ]
  },
  {
   "cell_type": "code",
   "execution_count": 42,
   "metadata": {},
   "outputs": [
    {
     "name": "stdout",
     "output_type": "stream",
     "text": [
      "SimpleLlama size: 809.516MB\n",
      "SimpleLlama size: 1.500MB\n"
     ]
    }
   ],
   "source": [
    "llama.to(\"cpu\")\n",
    "qconfig_dict = {\n",
    "    torch.nn.Embedding: torch.quantization.float_qparams_weight_only_qconfig,\n",
    "    torch.nn.Linear: torch.quantization.default_dynamic_qconfig,\n",
    "}\n",
    "# Post Training Dynamic Quantization\n",
    "dynamic_quantized_llama = torch.quantization.quantize_dynamic(\n",
    "    llama, qconfig_dict, dtype=torch.qint8\n",
    ")\n",
    "\n",
    "\n",
    "# Get Size difference\n",
    "def get_param_size(model):\n",
    "    param_size = 0\n",
    "    for param in model.parameters():\n",
    "        param_size += param.nelement() * param.element_size()\n",
    "    return param_size\n",
    "\n",
    "\n",
    "def get_buffer_size(model):\n",
    "    buffer_size = 0\n",
    "    for buffer in model.buffers():\n",
    "        buffer_size += buffer.nelement() * buffer.element_size()\n",
    "    return buffer_size\n",
    "\n",
    "\n",
    "def get_param_and_buffer_size(model):\n",
    "    param_size = get_param_size(model)\n",
    "    buffer_size = get_buffer_size(model)\n",
    "    return param_size, buffer_size\n",
    "\n",
    "\n",
    "def get_size_difference(models: list) -> str:\n",
    "    keeping_track = []\n",
    "    for idx, model in enumerate(models):\n",
    "        param_size, buffer_size = get_param_and_buffer_size(model)\n",
    "        size_all_mb = (param_size + buffer_size) / 1024**2\n",
    "        keeping_track.append(\n",
    "            f\"{type(model).__name__} size: {size_all_mb:.3f}MB\"\n",
    "        )\n",
    "    return keeping_track\n",
    "\n",
    "\n",
    "list_of_sizes = get_size_difference([llama, dynamic_quantized_llama])\n",
    "for size in list_of_sizes:\n",
    "    print(size)"
   ]
  },
  {
   "cell_type": "markdown",
   "metadata": {},
   "source": [
    "# LoRA\n",
    "\n",
    "If you have this:\n",
    "\n",
    "<p>def forward(self, x):<br>\n",
    "    x = self.linear_1(x)<br>\n",
    "    x = F.relu(x)<br>\n",
    "    x = self.linear_2(x)<br>\n",
    "    return x<br></p>\n",
    "\n",
    "change it to this:\n",
    "\n",
    "<p>def forward(self, x):<br>\n",
    "    x = self.linear_1(x) + self.lora_1(x)<br>\n",
    "    x = F.relu(x)<br>\n",
    "    x = self.linear_2(x) + self.lora_2(x)<br>\n",
    "    return logits<br></p>"
   ]
  },
  {
   "cell_type": "code",
   "execution_count": 43,
   "metadata": {},
   "outputs": [],
   "source": [
    "class LoRALayer(nn.Module):\n",
    "    def __init__(self, in_dim, out_dim, rank, alpha):\n",
    "        super().__init__()\n",
    "        standard_deviation = 1 / torch.sqrt(torch.tensor(rank).float())\n",
    "        self.A = nn.Parameter(\n",
    "            torch.randn(in_dim, rank) * standard_deviation\n",
    "        )\n",
    "        self.B = nn.Parameter(torch.zeros(rank, out_dim))\n",
    "        self.alpha = alpha\n",
    "\n",
    "    def forward(self, x):\n",
    "        x = self.alpha * (x @ self.A @ self.B)\n",
    "        return x\n",
    "\n",
    "\n",
    "class LinearWithLoRA(nn.Module):\n",
    "    def __init__(self, linear, rank, alpha):\n",
    "        super().__init__()\n",
    "        self.linear = linear\n",
    "        self.lora = LoRALayer(\n",
    "            linear.in_features, linear.out_features, rank, alpha\n",
    "        )\n",
    "\n",
    "    def forward(self, x):\n",
    "        return self.linear(x) + self.lora(x)"
   ]
  },
  {
   "cell_type": "code",
   "execution_count": 44,
   "metadata": {},
   "outputs": [],
   "source": [
    "from functools import partial\n",
    "\n",
    "\n",
    "# Utils\n",
    "class LoRAParametrization(nn.Module):\n",
    "    def __init__(\n",
    "        self,\n",
    "        fan_in,\n",
    "        fan_out,\n",
    "        fan_in_fan_out=False,\n",
    "        rank=0,\n",
    "        lora_dropout_p=0.0,\n",
    "        lora_alpha=1,\n",
    "    ):\n",
    "        super().__init__()\n",
    "        self.swap = (\n",
    "            (lambda x: (x[1], x[0])) if fan_in_fan_out else (lambda x: x)\n",
    "        )\n",
    "        self.lora_A = nn.Parameter(torch.zeros(self.swap((rank, fan_in))))\n",
    "        self.lora_B = nn.Parameter(torch.zeros(self.swap((fan_out, rank))))\n",
    "        self.lora_alpha, self.rank = lora_alpha, rank\n",
    "        self.scaling = lora_alpha / rank\n",
    "        self.lora_dropout = (\n",
    "            nn.Dropout(p=lora_dropout_p)\n",
    "            if lora_dropout_p > 0\n",
    "            else lambda x: x\n",
    "        )\n",
    "        self.dropout_fn = (\n",
    "            self._dropout if lora_dropout_p > 0 else lambda x: x\n",
    "        )\n",
    "        self.register_buffer(\n",
    "            \"lora_dropout_mask\",\n",
    "            torch.ones(self.swap((1, fan_in)), dtype=self.lora_A.dtype),\n",
    "        )\n",
    "        self.forward_fn = self.lora_forward\n",
    "\n",
    "    def forward(self, X):\n",
    "        return self.forward_fn(X)\n",
    "\n",
    "    def lora_forward(self, X):\n",
    "        return (\n",
    "            X\n",
    "            + torch.matmul(\n",
    "                *self.swap((self.lora_B, self.dropout_fn(self.lora_A)))\n",
    "            ).view(X.shape)\n",
    "            * self.scaling\n",
    "        )\n",
    "\n",
    "    @classmethod\n",
    "    def lora_from_layer(\n",
    "        cls, layer, rank=0, lora_dropout_p=0.0, lora_alpha=1\n",
    "    ):\n",
    "        fan_out, fan_in = layer.weight.shape\n",
    "        return cls(\n",
    "            fan_in,\n",
    "            fan_out,\n",
    "            fan_in_fan_out=False,\n",
    "            rank=rank,\n",
    "            lora_dropout_p=lora_dropout_p,\n",
    "            lora_alpha=lora_alpha,\n",
    "        )\n",
    "\n",
    "\n",
    "lora_config = {\n",
    "    nn.Linear: {\n",
    "        \"weight\": partial(LoRAParametrization.lora_from_layer, rank=16),\n",
    "    },\n",
    "}\n",
    "\n",
    "\n",
    "def apply_lora(layer, register=True, merge=False, lora_config=lora_config):\n",
    "    if register:\n",
    "        if type(layer) in lora_config:\n",
    "            for attr_name, parametrization in lora_config[\n",
    "                type(layer)\n",
    "            ].items():\n",
    "                torch.nn.utils.parametrize.register_parametrization(\n",
    "                    layer, attr_name, parametrization(layer)\n",
    "                )\n",
    "    else:\n",
    "        if hasattr(layer, \"parametrizations\"):\n",
    "            for attr_name in layer.parametrizations.keys():\n",
    "                torch.nn.utils.parametrize.remove_parametrizations(\n",
    "                    layer, attr_name, leave_parametrized=merge\n",
    "                )\n",
    "\n",
    "\n",
    "def add_lora(model, lora_config=lora_config):\n",
    "    model.apply(partial(apply_lora, lora_config=lora_config))\n",
    "\n",
    "\n",
    "def merge_lora(model):\n",
    "    model.apply(partial(apply_lora, register=False, merge=True))\n",
    "\n",
    "\n",
    "def name_is_lora(name):\n",
    "    return (\n",
    "        len(name.split(\".\")) >= 4\n",
    "        and (name.split(\".\")[-4]) == \"parametrizations\"\n",
    "        and name.split(\".\")[-1] in [\"lora_A\", \"lora_B\"]\n",
    "    )\n",
    "\n",
    "\n",
    "def get_params_by_name(model, print_shapes=False, name_filter=None):\n",
    "    for n, p in model.named_parameters():\n",
    "        if name_filter is None or name_filter(n):\n",
    "            if print_shapes:\n",
    "                print(n, p.shape)\n",
    "            yield p\n",
    "\n",
    "\n",
    "def get_lora_params(model, print_shapes=False):\n",
    "    return get_params_by_name(\n",
    "        model, print_shapes=print_shapes, name_filter=name_is_lora\n",
    "    )"
   ]
  },
  {
   "cell_type": "code",
   "execution_count": 45,
   "metadata": {},
   "outputs": [],
   "source": [
    "# Show how the blocks change, but we'll use our already-trained model\n",
    "class LlamaBlock(nn.Module):\n",
    "    def __init__(self, config):\n",
    "        super().__init__()\n",
    "        self.config = config\n",
    "\n",
    "        self.rms = RMSNormalization(\n",
    "            (config[\"context_window\"], config[\"d_model\"])\n",
    "        ).to(device)\n",
    "\n",
    "        self.attention = RoPEMaskedMultiheadAttention(config).to(device)\n",
    "        self.feedforward = nn.Sequential(\n",
    "            LinearWithLoRA(config[\"d_model\"], config[\"d_model\"]),  # NEW\n",
    "            SwiGLU(config[\"d_model\"]),\n",
    "        ).to(device)\n",
    "\n",
    "    def forward(self, x):\n",
    "        x = self.rms(x)\n",
    "        x = x + self.attention(x)\n",
    "\n",
    "        x = self.rms(x)\n",
    "        x = x + self.feedforward(x)\n",
    "        return x\n",
    "\n",
    "\n",
    "class SimpleLlama(nn.Module):\n",
    "    def __init__(self, config):\n",
    "        super().__init__()\n",
    "        self.config = config\n",
    "\n",
    "        self.embedding = nn.Embedding(\n",
    "            config[\"vocab_size\"], config[\"d_model\"]\n",
    "        )\n",
    "        self.llama_blocks = nn.Sequential(\n",
    "            OrderedDict(\n",
    "                [\n",
    "                    (f\"llama_{i}\", LlamaBlock(config))\n",
    "                    for i in range(config[\"n_layers\"])\n",
    "                ]\n",
    "            )\n",
    "        )\n",
    "\n",
    "        self.ffn = nn.Sequential(\n",
    "            LinearWithLoRA(config[\"d_model\"], config[\"d_model\"]),  # NEW\n",
    "            SwiGLU(config[\"d_model\"]),\n",
    "            LinearWithLoRA(config[\"d_model\"], config[\"vocab_size\"]),  # NEW\n",
    "        )\n",
    "\n",
    "        print(\n",
    "            f\"model params: {sum([m.numel() for m in self.parameters()])}\"\n",
    "        )\n",
    "\n",
    "    def forward(self, idx, targets=None):\n",
    "        x = self.embedding(idx)\n",
    "        x = self.llama_blocks(x)\n",
    "        logits = self.ffn(x)\n",
    "\n",
    "        if targets is None:\n",
    "            return logits\n",
    "\n",
    "        else:\n",
    "            loss = F.cross_entropy(\n",
    "                logits.view(-1, self.config[\"vocab_size\"]),\n",
    "                targets.view(-1),\n",
    "                ignore_index=tokenizer.pad_token_id,\n",
    "                #reduction=\"sum\",\n",
    "            )\n",
    "            return logits, loss"
   ]
  },
  {
   "cell_type": "code",
   "execution_count": 46,
   "metadata": {},
   "outputs": [
    {
     "name": "stdout",
     "output_type": "stream",
     "text": [
      "{'text': '\"[\\'Can brain cells move? By movement I mean long distance migration (preferably within the brain only).\\'', 'input_ids': tensor([    1,   376,  1839,  6028, 17294,  9101,  4337, 29973,  2648, 10298,\n",
      "          306,  2099,  1472,  5418, 20332,   313,  1457,   571,  2197,  2629,\n",
      "          278, 17294,   871,   467, 29915, 32000, 32000, 32000, 32000, 32000,\n",
      "        32000, 32000, 32000, 32000, 32000, 32000, 32000, 32000, 32000, 32000,\n",
      "        32000, 32000, 32000, 32000, 32000, 32000, 32000, 32000, 32000, 32000,\n",
      "        32000, 32000, 32000, 32000, 32000, 32000, 32000, 32000, 32000, 32000,\n",
      "        32000, 32000, 32000, 32000, 32000, 32000, 32000, 32000, 32000, 32000,\n",
      "        32000, 32000, 32000, 32000, 32000, 32000, 32000, 32000, 32000, 32000,\n",
      "        32000, 32000, 32000, 32000, 32000, 32000, 32000, 32000, 32000, 32000,\n",
      "        32000, 32000, 32000, 32000, 32000, 32000, 32000, 32000, 32000, 32000,\n",
      "        32000, 32000, 32000, 32000, 32000, 32000, 32000, 32000, 32000, 32000,\n",
      "        32000, 32000, 32000, 32000, 32000, 32000, 32000, 32000, 32000, 32000,\n",
      "        32000, 32000, 32000, 32000, 32000, 32000, 32000, 32000, 32000, 32000,\n",
      "        32000, 32000, 32000, 32000, 32000, 32000, 32000, 32000, 32000, 32000,\n",
      "        32000, 32000, 32000, 32000, 32000, 32000, 32000, 32000, 32000, 32000,\n",
      "        32000, 32000, 32000, 32000, 32000, 32000, 32000, 32000, 32000, 32000,\n",
      "        32000, 32000, 32000, 32000, 32000, 32000, 32000, 32000, 32000, 32000,\n",
      "        32000, 32000, 32000, 32000, 32000, 32000, 32000, 32000, 32000, 32000,\n",
      "        32000, 32000, 32000, 32000, 32000, 32000, 32000, 32000, 32000, 32000,\n",
      "        32000, 32000, 32000, 32000, 32000, 32000, 32000, 32000, 32000, 32000,\n",
      "        32000, 32000, 32000, 32000, 32000, 32000, 32000, 32000, 32000, 32000,\n",
      "        32000, 32000, 32000, 32000, 32000, 32000, 32000, 32000, 32000, 32000,\n",
      "        32000, 32000, 32000, 32000, 32000, 32000, 32000, 32000, 32000, 32000,\n",
      "        32000, 32000, 32000, 32000, 32000, 32000, 32000, 32000, 32000, 32000,\n",
      "        32000, 32000, 32000, 32000, 32000, 32000, 32000, 32000, 32000, 32000,\n",
      "        32000, 32000, 32000, 32000, 32000, 32000]), 'attention_mask': tensor([1, 1, 1, 1, 1, 1, 1, 1, 1, 1, 1, 1, 1, 1, 1, 1, 1, 1, 1, 1, 1, 1, 1, 1,\n",
      "        1, 0, 0, 0, 0, 0, 0, 0, 0, 0, 0, 0, 0, 0, 0, 0, 0, 0, 0, 0, 0, 0, 0, 0,\n",
      "        0, 0, 0, 0, 0, 0, 0, 0, 0, 0, 0, 0, 0, 0, 0, 0, 0, 0, 0, 0, 0, 0, 0, 0,\n",
      "        0, 0, 0, 0, 0, 0, 0, 0, 0, 0, 0, 0, 0, 0, 0, 0, 0, 0, 0, 0, 0, 0, 0, 0,\n",
      "        0, 0, 0, 0, 0, 0, 0, 0, 0, 0, 0, 0, 0, 0, 0, 0, 0, 0, 0, 0, 0, 0, 0, 0,\n",
      "        0, 0, 0, 0, 0, 0, 0, 0, 0, 0, 0, 0, 0, 0, 0, 0, 0, 0, 0, 0, 0, 0, 0, 0,\n",
      "        0, 0, 0, 0, 0, 0, 0, 0, 0, 0, 0, 0, 0, 0, 0, 0, 0, 0, 0, 0, 0, 0, 0, 0,\n",
      "        0, 0, 0, 0, 0, 0, 0, 0, 0, 0, 0, 0, 0, 0, 0, 0, 0, 0, 0, 0, 0, 0, 0, 0,\n",
      "        0, 0, 0, 0, 0, 0, 0, 0, 0, 0, 0, 0, 0, 0, 0, 0, 0, 0, 0, 0, 0, 0, 0, 0,\n",
      "        0, 0, 0, 0, 0, 0, 0, 0, 0, 0, 0, 0, 0, 0, 0, 0, 0, 0, 0, 0, 0, 0, 0, 0,\n",
      "        0, 0, 0, 0, 0, 0, 0, 0, 0, 0, 0, 0, 0, 0, 0, 0])}\n",
      "{'text': ' \\'The question is relatively broad and one should take into account that the brain not only consists of neurons, but also glial cells (supportive cells) and pre-mitotic neuronal stem cells. Furthermore, as critical fellow-scientists have indicated, developmental stage is very important, as the developing embryonic brain is very different from the adult brain.\\\\nHowever, after sifting through various publications, the answer to the question is actually remarkably simple: Yes, brain cells migrate.\\\\nIn  the adult brain glial cells migrate in the brain (Klämbt, 2009). Glial cells are involved in a myriad of functions, but a notable example of migrating glial cells are the oligodendrocytes that migrate relative long distances to find their target axons onto which they wrap themselves to form the insulating myelin sheath (Tsai and Miller, 2002).\\\\nNeuronal stem cells migrate over long distances in response to injury (Imitola et al., 2004) and they migrate from specific stem-cell locations (e.g., hippocampus and subventricular zone) to other regions (Clarke, 2003).\\\\nPost-mitotic, but non-differentiated neurons have been shown to migrate in the adult brain in fish (Scott et al., 2012), and in mammals and non-human primates as well (Sawada et al., 2011).\\\\nNot surprisingly, glial cells, stem cells and neurons also migrate during embryonic development. Most notably, post-mitotic neurons destined to fulfill peripheral functions have to migrate over relatively long distances from the neural crest to their target locations (Neuroscience, 2nd ed, Neuronal Migration).\\']\",stackexchange', 'input_ids': tensor([    1, 29871,   525,  1576,  1139,   338, 13774,  7300,   322,   697,\n",
      "          881,  2125,   964,  3633,   393,   278, 17294,   451,   871, 11624,\n",
      "          310, 26808,   787, 29892,   541,   884,  5857,   284,  9101,   313,\n",
      "         5924,   573,  9101, 29897,   322,   758, 29899,  2415, 13574, 26808,\n",
      "         7177, 20805,  9101, 29889, 16478, 29892,   408, 12187, 10404, 29899,\n",
      "        29879, 15566,  2879,   505, 18694, 29892,  5849,   284,  7408,   338,\n",
      "         1407,  4100, 29892,   408,   278, 14338,  7232,   719,  8927, 17294,\n",
      "          338,  1407,  1422,   515,   278, 16157, 17294,  7790, 29876, 17245,\n",
      "        29892,  1156,   269, 24377,  1549,  5164, 25964, 29892,   278,  1234,\n",
      "          304,   278,  1139,   338,  2869,  8509,  2197,  2560, 29901,  3869,\n",
      "        29892, 17294,  9101,  9725,   403,  7790, 29876,   797, 29871,   278,\n",
      "        16157, 17294,  5857,   284,  9101,  9725,   403,   297,   278, 17294,\n",
      "          313, 29968,  9231, 29885,  3116, 29892, 29871, 29906, 29900, 29900,\n",
      "        29929,   467, 19805,   284,  9101,   526,  9701,   297,   263,   590,\n",
      "          374,   328,   310,  3168, 29892,   541,   263, 18697,  1342,   310,\n",
      "         9725,  1218,  5857,   284,  9101,   526,   278,   288,  3473,   397,\n",
      "          355,   307,  1270,  2167,   393,  9725,   403,  6198,  1472, 24610,\n",
      "          304,  1284,  1009,  3646,  4853,   787, 11480,   607,   896, 12244,\n",
      "         6053,   304,   883,   278,  1663, 18099,   590, 24446,  1183,   493,\n",
      "          313, 29911, 29879,  1794,   322, 16498, 29892, 29871, 29906, 29900,\n",
      "        29900, 29906,   467, 29905, 29876, 29940,  5411,  7177, 20805,  9101,\n",
      "         9725,   403,   975,  1472, 24610,   297,  2933,   304, 24092,   313,\n",
      "         1888,   277,  2963,   634,   394,  1696, 29871, 29906, 29900, 29900,\n",
      "        29946, 29897,   322,   896,  9725,   403,   515,  2702, 20805, 29899,\n",
      "         3729, 14354,   313, 29872, 29889, 29887,  1696,  7251,   407,   542,\n",
      "         1160,   375,   322,  1014,   794,  2200]), 'attention_mask': tensor([1, 1, 1, 1, 1, 1, 1, 1, 1, 1, 1, 1, 1, 1, 1, 1, 1, 1, 1, 1, 1, 1, 1, 1,\n",
      "        1, 1, 1, 1, 1, 1, 1, 1, 1, 1, 1, 1, 1, 1, 1, 1, 1, 1, 1, 1, 1, 1, 1, 1,\n",
      "        1, 1, 1, 1, 1, 1, 1, 1, 1, 1, 1, 1, 1, 1, 1, 1, 1, 1, 1, 1, 1, 1, 1, 1,\n",
      "        1, 1, 1, 1, 1, 1, 1, 1, 1, 1, 1, 1, 1, 1, 1, 1, 1, 1, 1, 1, 1, 1, 1, 1,\n",
      "        1, 1, 1, 1, 1, 1, 1, 1, 1, 1, 1, 1, 1, 1, 1, 1, 1, 1, 1, 1, 1, 1, 1, 1,\n",
      "        1, 1, 1, 1, 1, 1, 1, 1, 1, 1, 1, 1, 1, 1, 1, 1, 1, 1, 1, 1, 1, 1, 1, 1,\n",
      "        1, 1, 1, 1, 1, 1, 1, 1, 1, 1, 1, 1, 1, 1, 1, 1, 1, 1, 1, 1, 1, 1, 1, 1,\n",
      "        1, 1, 1, 1, 1, 1, 1, 1, 1, 1, 1, 1, 1, 1, 1, 1, 1, 1, 1, 1, 1, 1, 1, 1,\n",
      "        1, 1, 1, 1, 1, 1, 1, 1, 1, 1, 1, 1, 1, 1, 1, 1, 1, 1, 1, 1, 1, 1, 1, 1,\n",
      "        1, 1, 1, 1, 1, 1, 1, 1, 1, 1, 1, 1, 1, 1, 1, 1, 1, 1, 1, 1, 1, 1, 1, 1,\n",
      "        1, 1, 1, 1, 1, 1, 1, 1, 1, 1, 1, 1, 1, 1, 1, 1])}\n"
     ]
    }
   ],
   "source": [
    "# New Dataset for Lora\n",
    "dataset = load_dataset(\n",
    "    \"text\",\n",
    "    data_files={\n",
    "        \"train\": [\"../../data/Lima-train.csv\"],\n",
    "        \"val\": [\"../../data/Lima-test.csv\"],\n",
    "    },\n",
    "    streaming=True,\n",
    ")\n",
    "\n",
    "encoded_dataset = dataset.map(\n",
    "    lambda examples: tokenizer(\n",
    "        examples[\"text\"],\n",
    "        padding=\"max_length\",\n",
    "        max_length=256,\n",
    "        truncation=True,\n",
    "        return_tensors=\"pt\",\n",
    "    ),\n",
    "    batched=True,\n",
    ")\n",
    "train_data = iter(encoded_dataset[\"train\"])\n",
    "val_data = iter(encoded_dataset[\"val\"])\n",
    "print(next(train_data))\n",
    "print(next(train_data))"
   ]
  },
  {
   "cell_type": "code",
   "execution_count": 47,
   "metadata": {},
   "outputs": [],
   "source": [
    "# Step 1: Add LoRA to trained model\n",
    "llama.to(\"cpu\")\n",
    "add_lora(llama)\n",
    "llama.to(device)\n",
    "\n",
    "# Step 2: Get the LoRA params instead of the whole model's\n",
    "parameters = [{\"params\": list(get_lora_params(llama))}]\n",
    "# Step 3: initialize optimizer with LoRA Params\n",
    "lora_optimizer = torch.optim.AdamW(parameters, lr=1e-3)"
   ]
  },
  {
   "cell_type": "code",
   "execution_count": 66,
   "metadata": {},
   "outputs": [
    {
     "ename": "IndexError",
     "evalue": "Dimension out of range (expected to be in range of [-2, 1], but got 2)",
     "output_type": "error",
     "traceback": [
      "\u001b[1;31m---------------------------------------------------------------------------\u001b[0m",
      "\u001b[1;31mIndexError\u001b[0m                                Traceback (most recent call last)",
      "Cell \u001b[1;32mIn[66], line 5\u001b[0m\n\u001b[0;32m      3\u001b[0m     train_data \u001b[38;5;241m=\u001b[39m \u001b[38;5;28miter\u001b[39m(encoded_dataset[\u001b[38;5;124m\"\u001b[39m\u001b[38;5;124mtrain\u001b[39m\u001b[38;5;124m\"\u001b[39m])\n\u001b[0;32m      4\u001b[0m     val_data \u001b[38;5;241m=\u001b[39m \u001b[38;5;28miter\u001b[39m(encoded_dataset[\u001b[38;5;124m\"\u001b[39m\u001b[38;5;124mval\u001b[39m\u001b[38;5;124m\"\u001b[39m])\n\u001b[1;32m----> 5\u001b[0m     \u001b[43mtrain\u001b[49m\u001b[43m(\u001b[49m\n\u001b[0;32m      6\u001b[0m \u001b[43m        \u001b[49m\u001b[43mllama\u001b[49m\u001b[43m,\u001b[49m\n\u001b[0;32m      7\u001b[0m \u001b[43m        \u001b[49m\u001b[43mlora_optimizer\u001b[49m\u001b[43m,\u001b[49m\n\u001b[0;32m      8\u001b[0m \u001b[43m        \u001b[49m\u001b[43mscheduler\u001b[49m\u001b[43m,\u001b[49m\n\u001b[0;32m      9\u001b[0m \u001b[43m        \u001b[49m\u001b[43mdata\u001b[49m\u001b[38;5;241;43m=\u001b[39;49m\u001b[43mtrain_data\u001b[49m\u001b[43m,\u001b[49m\n\u001b[0;32m     10\u001b[0m \u001b[43m        \u001b[49m\u001b[43mconfig\u001b[49m\u001b[38;5;241;43m=\u001b[39;49m\u001b[43mMASTER_CONFIG\u001b[49m\u001b[43m,\u001b[49m\n\u001b[0;32m     11\u001b[0m \u001b[43m        \u001b[49m\u001b[43mlora\u001b[49m\u001b[38;5;241;43m=\u001b[39;49m\u001b[38;5;28;43;01mTrue\u001b[39;49;00m\u001b[43m,\u001b[49m\n\u001b[0;32m     12\u001b[0m \u001b[43m        \u001b[49m\u001b[43mprint_logs\u001b[49m\u001b[38;5;241;43m=\u001b[39;49m\u001b[38;5;28;43;01mTrue\u001b[39;49;00m\u001b[43m,\u001b[49m\n\u001b[0;32m     13\u001b[0m \u001b[43m    \u001b[49m\u001b[43m)\u001b[49m\n\u001b[0;32m     15\u001b[0m \u001b[38;5;66;03m# Step 5: export the params\u001b[39;00m\n\u001b[0;32m     16\u001b[0m state_dict \u001b[38;5;241m=\u001b[39m llama\u001b[38;5;241m.\u001b[39mstate_dict()\n",
      "Cell \u001b[1;32mIn[51], line 24\u001b[0m, in \u001b[0;36mtrain\u001b[1;34m(model, optimizer, scheduler, data, config, lora, print_logs)\u001b[0m\n\u001b[0;32m     19\u001b[0m \u001b[38;5;28;01melse\u001b[39;00m:\n\u001b[0;32m     20\u001b[0m     xs, ys \u001b[38;5;241m=\u001b[39m get_batches(\n\u001b[0;32m     21\u001b[0m         data, config[\u001b[38;5;124m\"\u001b[39m\u001b[38;5;124mbatch_size\u001b[39m\u001b[38;5;124m\"\u001b[39m], config[\u001b[38;5;124m\"\u001b[39m\u001b[38;5;124mcontext_window\u001b[39m\u001b[38;5;124m\"\u001b[39m]\n\u001b[0;32m     22\u001b[0m     )\n\u001b[1;32m---> 24\u001b[0m logits, loss \u001b[38;5;241m=\u001b[39m \u001b[43mmodel\u001b[49m\u001b[43m(\u001b[49m\u001b[43mxs\u001b[49m\u001b[43m,\u001b[49m\u001b[43m \u001b[49m\u001b[43mtargets\u001b[49m\u001b[38;5;241;43m=\u001b[39;49m\u001b[43mys\u001b[49m\u001b[43m)\u001b[49m\n\u001b[0;32m     25\u001b[0m loss\u001b[38;5;241m.\u001b[39mbackward()\n\u001b[0;32m     26\u001b[0m optimizer\u001b[38;5;241m.\u001b[39mstep()\n",
      "File \u001b[1;32mc:\\Users\\chris\\anaconda3\\envs\\llmbook\\Lib\\site-packages\\torch\\nn\\modules\\module.py:1518\u001b[0m, in \u001b[0;36mModule._wrapped_call_impl\u001b[1;34m(self, *args, **kwargs)\u001b[0m\n\u001b[0;32m   1516\u001b[0m     \u001b[38;5;28;01mreturn\u001b[39;00m \u001b[38;5;28mself\u001b[39m\u001b[38;5;241m.\u001b[39m_compiled_call_impl(\u001b[38;5;241m*\u001b[39margs, \u001b[38;5;241m*\u001b[39m\u001b[38;5;241m*\u001b[39mkwargs)  \u001b[38;5;66;03m# type: ignore[misc]\u001b[39;00m\n\u001b[0;32m   1517\u001b[0m \u001b[38;5;28;01melse\u001b[39;00m:\n\u001b[1;32m-> 1518\u001b[0m     \u001b[38;5;28;01mreturn\u001b[39;00m \u001b[38;5;28;43mself\u001b[39;49m\u001b[38;5;241;43m.\u001b[39;49m\u001b[43m_call_impl\u001b[49m\u001b[43m(\u001b[49m\u001b[38;5;241;43m*\u001b[39;49m\u001b[43margs\u001b[49m\u001b[43m,\u001b[49m\u001b[43m \u001b[49m\u001b[38;5;241;43m*\u001b[39;49m\u001b[38;5;241;43m*\u001b[39;49m\u001b[43mkwargs\u001b[49m\u001b[43m)\u001b[49m\n",
      "File \u001b[1;32mc:\\Users\\chris\\anaconda3\\envs\\llmbook\\Lib\\site-packages\\torch\\nn\\modules\\module.py:1527\u001b[0m, in \u001b[0;36mModule._call_impl\u001b[1;34m(self, *args, **kwargs)\u001b[0m\n\u001b[0;32m   1522\u001b[0m \u001b[38;5;66;03m# If we don't have any hooks, we want to skip the rest of the logic in\u001b[39;00m\n\u001b[0;32m   1523\u001b[0m \u001b[38;5;66;03m# this function, and just call forward.\u001b[39;00m\n\u001b[0;32m   1524\u001b[0m \u001b[38;5;28;01mif\u001b[39;00m \u001b[38;5;129;01mnot\u001b[39;00m (\u001b[38;5;28mself\u001b[39m\u001b[38;5;241m.\u001b[39m_backward_hooks \u001b[38;5;129;01mor\u001b[39;00m \u001b[38;5;28mself\u001b[39m\u001b[38;5;241m.\u001b[39m_backward_pre_hooks \u001b[38;5;129;01mor\u001b[39;00m \u001b[38;5;28mself\u001b[39m\u001b[38;5;241m.\u001b[39m_forward_hooks \u001b[38;5;129;01mor\u001b[39;00m \u001b[38;5;28mself\u001b[39m\u001b[38;5;241m.\u001b[39m_forward_pre_hooks\n\u001b[0;32m   1525\u001b[0m         \u001b[38;5;129;01mor\u001b[39;00m _global_backward_pre_hooks \u001b[38;5;129;01mor\u001b[39;00m _global_backward_hooks\n\u001b[0;32m   1526\u001b[0m         \u001b[38;5;129;01mor\u001b[39;00m _global_forward_hooks \u001b[38;5;129;01mor\u001b[39;00m _global_forward_pre_hooks):\n\u001b[1;32m-> 1527\u001b[0m     \u001b[38;5;28;01mreturn\u001b[39;00m \u001b[43mforward_call\u001b[49m\u001b[43m(\u001b[49m\u001b[38;5;241;43m*\u001b[39;49m\u001b[43margs\u001b[49m\u001b[43m,\u001b[49m\u001b[43m \u001b[49m\u001b[38;5;241;43m*\u001b[39;49m\u001b[38;5;241;43m*\u001b[39;49m\u001b[43mkwargs\u001b[49m\u001b[43m)\u001b[49m\n\u001b[0;32m   1529\u001b[0m \u001b[38;5;28;01mtry\u001b[39;00m:\n\u001b[0;32m   1530\u001b[0m     result \u001b[38;5;241m=\u001b[39m \u001b[38;5;28;01mNone\u001b[39;00m\n",
      "Cell \u001b[1;32mIn[31], line 30\u001b[0m, in \u001b[0;36mSimpleLlama.forward\u001b[1;34m(self, idx, targets)\u001b[0m\n\u001b[0;32m     28\u001b[0m \u001b[38;5;28;01mdef\u001b[39;00m \u001b[38;5;21mforward\u001b[39m(\u001b[38;5;28mself\u001b[39m, idx, targets\u001b[38;5;241m=\u001b[39m\u001b[38;5;28;01mNone\u001b[39;00m):\n\u001b[0;32m     29\u001b[0m     x \u001b[38;5;241m=\u001b[39m \u001b[38;5;28mself\u001b[39m\u001b[38;5;241m.\u001b[39membedding(idx)\n\u001b[1;32m---> 30\u001b[0m     x \u001b[38;5;241m=\u001b[39m \u001b[38;5;28;43mself\u001b[39;49m\u001b[38;5;241;43m.\u001b[39;49m\u001b[43mllama_blocks\u001b[49m\u001b[43m(\u001b[49m\u001b[43mx\u001b[49m\u001b[43m)\u001b[49m\n\u001b[0;32m     31\u001b[0m     logits \u001b[38;5;241m=\u001b[39m \u001b[38;5;28mself\u001b[39m\u001b[38;5;241m.\u001b[39mffn(x)\n\u001b[0;32m     33\u001b[0m     \u001b[38;5;28;01mif\u001b[39;00m targets \u001b[38;5;129;01mis\u001b[39;00m \u001b[38;5;28;01mNone\u001b[39;00m:\n",
      "File \u001b[1;32mc:\\Users\\chris\\anaconda3\\envs\\llmbook\\Lib\\site-packages\\torch\\nn\\modules\\module.py:1518\u001b[0m, in \u001b[0;36mModule._wrapped_call_impl\u001b[1;34m(self, *args, **kwargs)\u001b[0m\n\u001b[0;32m   1516\u001b[0m     \u001b[38;5;28;01mreturn\u001b[39;00m \u001b[38;5;28mself\u001b[39m\u001b[38;5;241m.\u001b[39m_compiled_call_impl(\u001b[38;5;241m*\u001b[39margs, \u001b[38;5;241m*\u001b[39m\u001b[38;5;241m*\u001b[39mkwargs)  \u001b[38;5;66;03m# type: ignore[misc]\u001b[39;00m\n\u001b[0;32m   1517\u001b[0m \u001b[38;5;28;01melse\u001b[39;00m:\n\u001b[1;32m-> 1518\u001b[0m     \u001b[38;5;28;01mreturn\u001b[39;00m \u001b[38;5;28;43mself\u001b[39;49m\u001b[38;5;241;43m.\u001b[39;49m\u001b[43m_call_impl\u001b[49m\u001b[43m(\u001b[49m\u001b[38;5;241;43m*\u001b[39;49m\u001b[43margs\u001b[49m\u001b[43m,\u001b[49m\u001b[43m \u001b[49m\u001b[38;5;241;43m*\u001b[39;49m\u001b[38;5;241;43m*\u001b[39;49m\u001b[43mkwargs\u001b[49m\u001b[43m)\u001b[49m\n",
      "File \u001b[1;32mc:\\Users\\chris\\anaconda3\\envs\\llmbook\\Lib\\site-packages\\torch\\nn\\modules\\module.py:1527\u001b[0m, in \u001b[0;36mModule._call_impl\u001b[1;34m(self, *args, **kwargs)\u001b[0m\n\u001b[0;32m   1522\u001b[0m \u001b[38;5;66;03m# If we don't have any hooks, we want to skip the rest of the logic in\u001b[39;00m\n\u001b[0;32m   1523\u001b[0m \u001b[38;5;66;03m# this function, and just call forward.\u001b[39;00m\n\u001b[0;32m   1524\u001b[0m \u001b[38;5;28;01mif\u001b[39;00m \u001b[38;5;129;01mnot\u001b[39;00m (\u001b[38;5;28mself\u001b[39m\u001b[38;5;241m.\u001b[39m_backward_hooks \u001b[38;5;129;01mor\u001b[39;00m \u001b[38;5;28mself\u001b[39m\u001b[38;5;241m.\u001b[39m_backward_pre_hooks \u001b[38;5;129;01mor\u001b[39;00m \u001b[38;5;28mself\u001b[39m\u001b[38;5;241m.\u001b[39m_forward_hooks \u001b[38;5;129;01mor\u001b[39;00m \u001b[38;5;28mself\u001b[39m\u001b[38;5;241m.\u001b[39m_forward_pre_hooks\n\u001b[0;32m   1525\u001b[0m         \u001b[38;5;129;01mor\u001b[39;00m _global_backward_pre_hooks \u001b[38;5;129;01mor\u001b[39;00m _global_backward_hooks\n\u001b[0;32m   1526\u001b[0m         \u001b[38;5;129;01mor\u001b[39;00m _global_forward_hooks \u001b[38;5;129;01mor\u001b[39;00m _global_forward_pre_hooks):\n\u001b[1;32m-> 1527\u001b[0m     \u001b[38;5;28;01mreturn\u001b[39;00m \u001b[43mforward_call\u001b[49m\u001b[43m(\u001b[49m\u001b[38;5;241;43m*\u001b[39;49m\u001b[43margs\u001b[49m\u001b[43m,\u001b[49m\u001b[43m \u001b[49m\u001b[38;5;241;43m*\u001b[39;49m\u001b[38;5;241;43m*\u001b[39;49m\u001b[43mkwargs\u001b[49m\u001b[43m)\u001b[49m\n\u001b[0;32m   1529\u001b[0m \u001b[38;5;28;01mtry\u001b[39;00m:\n\u001b[0;32m   1530\u001b[0m     result \u001b[38;5;241m=\u001b[39m \u001b[38;5;28;01mNone\u001b[39;00m\n",
      "File \u001b[1;32mc:\\Users\\chris\\anaconda3\\envs\\llmbook\\Lib\\site-packages\\torch\\nn\\modules\\container.py:215\u001b[0m, in \u001b[0;36mSequential.forward\u001b[1;34m(self, input)\u001b[0m\n\u001b[0;32m    213\u001b[0m \u001b[38;5;28;01mdef\u001b[39;00m \u001b[38;5;21mforward\u001b[39m(\u001b[38;5;28mself\u001b[39m, \u001b[38;5;28minput\u001b[39m):\n\u001b[0;32m    214\u001b[0m     \u001b[38;5;28;01mfor\u001b[39;00m module \u001b[38;5;129;01min\u001b[39;00m \u001b[38;5;28mself\u001b[39m:\n\u001b[1;32m--> 215\u001b[0m         \u001b[38;5;28minput\u001b[39m \u001b[38;5;241m=\u001b[39m \u001b[43mmodule\u001b[49m\u001b[43m(\u001b[49m\u001b[38;5;28;43minput\u001b[39;49m\u001b[43m)\u001b[49m\n\u001b[0;32m    216\u001b[0m     \u001b[38;5;28;01mreturn\u001b[39;00m \u001b[38;5;28minput\u001b[39m\n",
      "File \u001b[1;32mc:\\Users\\chris\\anaconda3\\envs\\llmbook\\Lib\\site-packages\\torch\\nn\\modules\\module.py:1518\u001b[0m, in \u001b[0;36mModule._wrapped_call_impl\u001b[1;34m(self, *args, **kwargs)\u001b[0m\n\u001b[0;32m   1516\u001b[0m     \u001b[38;5;28;01mreturn\u001b[39;00m \u001b[38;5;28mself\u001b[39m\u001b[38;5;241m.\u001b[39m_compiled_call_impl(\u001b[38;5;241m*\u001b[39margs, \u001b[38;5;241m*\u001b[39m\u001b[38;5;241m*\u001b[39mkwargs)  \u001b[38;5;66;03m# type: ignore[misc]\u001b[39;00m\n\u001b[0;32m   1517\u001b[0m \u001b[38;5;28;01melse\u001b[39;00m:\n\u001b[1;32m-> 1518\u001b[0m     \u001b[38;5;28;01mreturn\u001b[39;00m \u001b[38;5;28;43mself\u001b[39;49m\u001b[38;5;241;43m.\u001b[39;49m\u001b[43m_call_impl\u001b[49m\u001b[43m(\u001b[49m\u001b[38;5;241;43m*\u001b[39;49m\u001b[43margs\u001b[49m\u001b[43m,\u001b[49m\u001b[43m \u001b[49m\u001b[38;5;241;43m*\u001b[39;49m\u001b[38;5;241;43m*\u001b[39;49m\u001b[43mkwargs\u001b[49m\u001b[43m)\u001b[49m\n",
      "File \u001b[1;32mc:\\Users\\chris\\anaconda3\\envs\\llmbook\\Lib\\site-packages\\torch\\nn\\modules\\module.py:1527\u001b[0m, in \u001b[0;36mModule._call_impl\u001b[1;34m(self, *args, **kwargs)\u001b[0m\n\u001b[0;32m   1522\u001b[0m \u001b[38;5;66;03m# If we don't have any hooks, we want to skip the rest of the logic in\u001b[39;00m\n\u001b[0;32m   1523\u001b[0m \u001b[38;5;66;03m# this function, and just call forward.\u001b[39;00m\n\u001b[0;32m   1524\u001b[0m \u001b[38;5;28;01mif\u001b[39;00m \u001b[38;5;129;01mnot\u001b[39;00m (\u001b[38;5;28mself\u001b[39m\u001b[38;5;241m.\u001b[39m_backward_hooks \u001b[38;5;129;01mor\u001b[39;00m \u001b[38;5;28mself\u001b[39m\u001b[38;5;241m.\u001b[39m_backward_pre_hooks \u001b[38;5;129;01mor\u001b[39;00m \u001b[38;5;28mself\u001b[39m\u001b[38;5;241m.\u001b[39m_forward_hooks \u001b[38;5;129;01mor\u001b[39;00m \u001b[38;5;28mself\u001b[39m\u001b[38;5;241m.\u001b[39m_forward_pre_hooks\n\u001b[0;32m   1525\u001b[0m         \u001b[38;5;129;01mor\u001b[39;00m _global_backward_pre_hooks \u001b[38;5;129;01mor\u001b[39;00m _global_backward_hooks\n\u001b[0;32m   1526\u001b[0m         \u001b[38;5;129;01mor\u001b[39;00m _global_forward_hooks \u001b[38;5;129;01mor\u001b[39;00m _global_forward_pre_hooks):\n\u001b[1;32m-> 1527\u001b[0m     \u001b[38;5;28;01mreturn\u001b[39;00m \u001b[43mforward_call\u001b[49m\u001b[43m(\u001b[49m\u001b[38;5;241;43m*\u001b[39;49m\u001b[43margs\u001b[49m\u001b[43m,\u001b[49m\u001b[43m \u001b[49m\u001b[38;5;241;43m*\u001b[39;49m\u001b[38;5;241;43m*\u001b[39;49m\u001b[43mkwargs\u001b[49m\u001b[43m)\u001b[49m\n\u001b[0;32m   1529\u001b[0m \u001b[38;5;28;01mtry\u001b[39;00m:\n\u001b[0;32m   1530\u001b[0m     result \u001b[38;5;241m=\u001b[39m \u001b[38;5;28;01mNone\u001b[39;00m\n",
      "Cell \u001b[1;32mIn[30], line 18\u001b[0m, in \u001b[0;36mLlamaBlock.forward\u001b[1;34m(self, x)\u001b[0m\n\u001b[0;32m     17\u001b[0m \u001b[38;5;28;01mdef\u001b[39;00m \u001b[38;5;21mforward\u001b[39m(\u001b[38;5;28mself\u001b[39m, x):\n\u001b[1;32m---> 18\u001b[0m     x \u001b[38;5;241m=\u001b[39m \u001b[38;5;28;43mself\u001b[39;49m\u001b[38;5;241;43m.\u001b[39;49m\u001b[43mrms\u001b[49m\u001b[43m(\u001b[49m\u001b[43mx\u001b[49m\u001b[43m)\u001b[49m\n\u001b[0;32m     19\u001b[0m     x \u001b[38;5;241m=\u001b[39m x \u001b[38;5;241m+\u001b[39m \u001b[38;5;28mself\u001b[39m\u001b[38;5;241m.\u001b[39mattention(x)\n\u001b[0;32m     21\u001b[0m     x \u001b[38;5;241m=\u001b[39m \u001b[38;5;28mself\u001b[39m\u001b[38;5;241m.\u001b[39mrms(x)\n",
      "File \u001b[1;32mc:\\Users\\chris\\anaconda3\\envs\\llmbook\\Lib\\site-packages\\torch\\nn\\modules\\module.py:1518\u001b[0m, in \u001b[0;36mModule._wrapped_call_impl\u001b[1;34m(self, *args, **kwargs)\u001b[0m\n\u001b[0;32m   1516\u001b[0m     \u001b[38;5;28;01mreturn\u001b[39;00m \u001b[38;5;28mself\u001b[39m\u001b[38;5;241m.\u001b[39m_compiled_call_impl(\u001b[38;5;241m*\u001b[39margs, \u001b[38;5;241m*\u001b[39m\u001b[38;5;241m*\u001b[39mkwargs)  \u001b[38;5;66;03m# type: ignore[misc]\u001b[39;00m\n\u001b[0;32m   1517\u001b[0m \u001b[38;5;28;01melse\u001b[39;00m:\n\u001b[1;32m-> 1518\u001b[0m     \u001b[38;5;28;01mreturn\u001b[39;00m \u001b[38;5;28;43mself\u001b[39;49m\u001b[38;5;241;43m.\u001b[39;49m\u001b[43m_call_impl\u001b[49m\u001b[43m(\u001b[49m\u001b[38;5;241;43m*\u001b[39;49m\u001b[43margs\u001b[49m\u001b[43m,\u001b[49m\u001b[43m \u001b[49m\u001b[38;5;241;43m*\u001b[39;49m\u001b[38;5;241;43m*\u001b[39;49m\u001b[43mkwargs\u001b[49m\u001b[43m)\u001b[49m\n",
      "File \u001b[1;32mc:\\Users\\chris\\anaconda3\\envs\\llmbook\\Lib\\site-packages\\torch\\nn\\modules\\module.py:1527\u001b[0m, in \u001b[0;36mModule._call_impl\u001b[1;34m(self, *args, **kwargs)\u001b[0m\n\u001b[0;32m   1522\u001b[0m \u001b[38;5;66;03m# If we don't have any hooks, we want to skip the rest of the logic in\u001b[39;00m\n\u001b[0;32m   1523\u001b[0m \u001b[38;5;66;03m# this function, and just call forward.\u001b[39;00m\n\u001b[0;32m   1524\u001b[0m \u001b[38;5;28;01mif\u001b[39;00m \u001b[38;5;129;01mnot\u001b[39;00m (\u001b[38;5;28mself\u001b[39m\u001b[38;5;241m.\u001b[39m_backward_hooks \u001b[38;5;129;01mor\u001b[39;00m \u001b[38;5;28mself\u001b[39m\u001b[38;5;241m.\u001b[39m_backward_pre_hooks \u001b[38;5;129;01mor\u001b[39;00m \u001b[38;5;28mself\u001b[39m\u001b[38;5;241m.\u001b[39m_forward_hooks \u001b[38;5;129;01mor\u001b[39;00m \u001b[38;5;28mself\u001b[39m\u001b[38;5;241m.\u001b[39m_forward_pre_hooks\n\u001b[0;32m   1525\u001b[0m         \u001b[38;5;129;01mor\u001b[39;00m _global_backward_pre_hooks \u001b[38;5;129;01mor\u001b[39;00m _global_backward_hooks\n\u001b[0;32m   1526\u001b[0m         \u001b[38;5;129;01mor\u001b[39;00m _global_forward_hooks \u001b[38;5;129;01mor\u001b[39;00m _global_forward_pre_hooks):\n\u001b[1;32m-> 1527\u001b[0m     \u001b[38;5;28;01mreturn\u001b[39;00m \u001b[43mforward_call\u001b[49m\u001b[43m(\u001b[49m\u001b[38;5;241;43m*\u001b[39;49m\u001b[43margs\u001b[49m\u001b[43m,\u001b[49m\u001b[43m \u001b[49m\u001b[38;5;241;43m*\u001b[39;49m\u001b[38;5;241;43m*\u001b[39;49m\u001b[43mkwargs\u001b[49m\u001b[43m)\u001b[49m\n\u001b[0;32m   1529\u001b[0m \u001b[38;5;28;01mtry\u001b[39;00m:\n\u001b[0;32m   1530\u001b[0m     result \u001b[38;5;241m=\u001b[39m \u001b[38;5;28;01mNone\u001b[39;00m\n",
      "Cell \u001b[1;32mIn[14], line 13\u001b[0m, in \u001b[0;36mRMSNormalization.forward\u001b[1;34m(self, x)\u001b[0m\n\u001b[0;32m      9\u001b[0m \u001b[38;5;28;01mdef\u001b[39;00m \u001b[38;5;21mforward\u001b[39m(\u001b[38;5;28mself\u001b[39m, x):\n\u001b[0;32m     10\u001b[0m \u001b[38;5;250m    \u001b[39m\u001b[38;5;124;03m\"\"\"\u001b[39;00m\n\u001b[0;32m     11\u001b[0m \u001b[38;5;124;03m    assumes shape (batch, seq_len, d_model)\u001b[39;00m\n\u001b[0;32m     12\u001b[0m \u001b[38;5;124;03m    \"\"\"\u001b[39;00m\n\u001b[1;32m---> 13\u001b[0m     ff_rms \u001b[38;5;241m=\u001b[39m \u001b[43mtorch\u001b[49m\u001b[38;5;241;43m.\u001b[39;49m\u001b[43mlinalg\u001b[49m\u001b[38;5;241;43m.\u001b[39;49m\u001b[43mnorm\u001b[49m\u001b[43m(\u001b[49m\u001b[43mx\u001b[49m\u001b[43m,\u001b[49m\u001b[43m \u001b[49m\u001b[43mdim\u001b[49m\u001b[38;5;241;43m=\u001b[39;49m\u001b[43m(\u001b[49m\u001b[38;5;241;43m1\u001b[39;49m\u001b[43m,\u001b[49m\u001b[43m \u001b[49m\u001b[38;5;241;43m2\u001b[39;49m\u001b[43m)\u001b[49m\u001b[43m)\u001b[49m \u001b[38;5;241m*\u001b[39m x[\u001b[38;5;241m0\u001b[39m]\u001b[38;5;241m.\u001b[39mnumel() \u001b[38;5;241m*\u001b[39m\u001b[38;5;241m*\u001b[39m \u001b[38;5;241m-\u001b[39m\u001b[38;5;241m0.5\u001b[39m\n\u001b[0;32m     14\u001b[0m     raw \u001b[38;5;241m=\u001b[39m x \u001b[38;5;241m/\u001b[39m ff_rms\u001b[38;5;241m.\u001b[39munsqueeze(\u001b[38;5;241m-\u001b[39m\u001b[38;5;241m1\u001b[39m)\u001b[38;5;241m.\u001b[39munsqueeze(\u001b[38;5;241m-\u001b[39m\u001b[38;5;241m1\u001b[39m)\n\u001b[0;32m     15\u001b[0m     \u001b[38;5;28;01mreturn\u001b[39;00m \u001b[38;5;28mself\u001b[39m\u001b[38;5;241m.\u001b[39mscale[: x\u001b[38;5;241m.\u001b[39mshape[\u001b[38;5;241m1\u001b[39m], :]\u001b[38;5;241m.\u001b[39munsqueeze(\u001b[38;5;241m0\u001b[39m) \u001b[38;5;241m*\u001b[39m raw\n",
      "\u001b[1;31mIndexError\u001b[0m: Dimension out of range (expected to be in range of [-2, 1], but got 2)"
     ]
    }
   ],
   "source": [
    "# Step 4: Train\n",
    "for _ in range(3):\n",
    "    train_data = iter(encoded_dataset[\"train\"])\n",
    "    val_data = iter(encoded_dataset[\"val\"])\n",
    "    train(\n",
    "        llama,\n",
    "        lora_optimizer,\n",
    "        scheduler,\n",
    "        data=train_data,\n",
    "        config=MASTER_CONFIG,\n",
    "        lora=True,\n",
    "        print_logs=True,\n",
    "    )\n",
    "\n",
    "# Step 5: export the params\n",
    "state_dict = llama.state_dict()\n",
    "lora_state_dict = {k: v for k, v in state_dict.items() if name_is_lora(k)}"
   ]
  },
  {
   "cell_type": "code",
   "execution_count": null,
   "metadata": {},
   "outputs": [],
   "source": [
    "# Loading and Inferencing with LoRA\n",
    "add_lora(llama)\n",
    "\n",
    "_ = llama.load_state_dict(lora_state_dict, strict=False)\n",
    "\n",
    "merge_lora(llama)\n",
    "\n",
    "generate(llama)"
   ]
  },
  {
   "cell_type": "code",
   "execution_count": null,
   "metadata": {},
   "outputs": [],
   "source": []
  }
 ],
 "metadata": {
  "kernelspec": {
   "display_name": "llmbook",
   "language": "python",
   "name": "python3"
  },
  "language_info": {
   "codemirror_mode": {
    "name": "ipython",
    "version": 3
   },
   "file_extension": ".py",
   "mimetype": "text/x-python",
   "name": "python",
   "nbconvert_exporter": "python",
   "pygments_lexer": "ipython3",
   "version": "3.11.5"
  }
 },
 "nbformat": 4,
 "nbformat_minor": 2
}
