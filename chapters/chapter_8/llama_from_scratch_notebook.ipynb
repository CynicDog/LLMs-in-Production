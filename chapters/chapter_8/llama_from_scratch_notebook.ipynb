{
 "cells": [
  {
   "cell_type": "code",
   "execution_count": 1,
   "metadata": {},
   "outputs": [
    {
     "name": "stderr",
     "output_type": "stream",
     "text": [
      "c:\\Users\\chris\\anaconda3\\envs\\llmbook\\lib\\site-packages\\tqdm\\auto.py:21: TqdmWarning: IProgress not found. Please update jupyter and ipywidgets. See https://ipywidgets.readthedocs.io/en/stable/user_install.html\n",
      "  from .autonotebook import tqdm as notebook_tqdm\n"
     ]
    }
   ],
   "source": [
    "import torch\n",
    "from torch import nn\n",
    "from torch.nn import functional as F\n",
    "import numpy as np\n",
    "from matplotlib import pyplot as plt\n",
    "import time\n",
    "import pandas as pd\n",
    "from collections import OrderedDict\n",
    "from transformers import AutoTokenizer\n",
    "\n",
    "device = \"cuda\"\n",
    "torch.cuda.set_device(device)"
   ]
  },
  {
   "cell_type": "markdown",
   "metadata": {},
   "source": [
    "### Llama 2 from Scratch"
   ]
  },
  {
   "cell_type": "markdown",
   "metadata": {},
   "source": []
  },
  {
   "cell_type": "code",
   "execution_count": 2,
   "metadata": {},
   "outputs": [],
   "source": [
    "lines = open('../../data/tiny_shakespeare.txt', 'r', encoding='utf-8').read()"
   ]
  },
  {
   "cell_type": "code",
   "execution_count": 3,
   "metadata": {},
   "outputs": [],
   "source": [
    "tokenizer = AutoTokenizer.from_pretrained(\"./llama2/\")\n",
    "\n",
    "vocab = tokenizer.vocab"
   ]
  },
  {
   "cell_type": "code",
   "execution_count": 4,
   "metadata": {},
   "outputs": [
    {
     "name": "stdout",
     "output_type": "stream",
     "text": [
      "Vocab Size: 32000\n"
     ]
    },
    {
     "data": {
      "text/plain": [
       "'<s> hello I am a specifically designed long sentence to make sure this is working not only adequately, but good enough for our batch functions'"
      ]
     },
     "execution_count": 4,
     "metadata": {},
     "output_type": "execute_result"
    }
   ],
   "source": [
    "def encode(example):\n",
    "    return tokenizer.encode(example, max_length=256, truncation=True, return_tensors=\"pt\")\n",
    "\n",
    "def decode(example):\n",
    "    return tokenizer.batch_decode(example)[0]\n",
    "\n",
    "print(f\"Vocab Size: {len(vocab)}\")\n",
    "decode(encode(\"hello I am a specifically designed long sentence to make sure this is working not only adequately, but good enough for our batch functions\"))"
   ]
  },
  {
   "cell_type": "code",
   "execution_count": 49,
   "metadata": {},
   "outputs": [],
   "source": [
    "MASTER_CONFIG = {\n",
    "    \"vocab_size\": len(vocab),\n",
    "    \"batch_size\": 16,\n",
    "    \"context_window\": 32,\n",
    "    \"d_model\": 288,\n",
    "    \"hidden_dim\": 768,\n",
    "    \"epochs\": 1000,\n",
    "    \"log_interval\": 50,\n",
    "    \"n_heads\": 6,\n",
    "    \"n_layers\": 6,\n",
    "}"
   ]
  },
  {
   "cell_type": "code",
   "execution_count": 6,
   "metadata": {},
   "outputs": [
    {
     "data": {
      "text/plain": [
       "torch.Size([368634])"
      ]
     },
     "execution_count": 6,
     "metadata": {},
     "output_type": "execute_result"
    }
   ],
   "source": [
    "dataset = torch.tensor(tokenizer.encode(lines))\n",
    "dataset.shape"
   ]
  },
  {
   "cell_type": "markdown",
   "metadata": {},
   "source": [
    "### Needed functions"
   ]
  },
  {
   "cell_type": "code",
   "execution_count": 7,
   "metadata": {},
   "outputs": [
    {
     "data": {
      "text/plain": [
       "[(\"the determined respite of my wrongs:\\nThat high All-Seer that I dallied with\\nHath turn'd my feigned prayer on\",\n",
       "  \"determined respite of my wrongs:\\nThat high All-Seer that I dallied with\\nHath turn'd my feigned prayer on my\"),\n",
       " ('art.\\nNow must I hide his body in some hole,\\nUntil the duke take order for his burial:\\nAnd when I have my',\n",
       "  '.\\nNow must I hide his body in some hole,\\nUntil the duke take order for his burial:\\nAnd when I have my me'),\n",
       " (',\\nOr any other ground inhabitable,\\nWhere ever Englishman durst set his foot.\\nMean time let this defend my loyalty,\\n',\n",
       "  '\\nOr any other ground inhabitable,\\nWhere ever Englishman durst set his foot.\\nMean time let this defend my loyalty,\\nBy'),\n",
       " ('his party.\\n\\nKING RICHARD II:\\nThou hast said enough.\\nBeshrew thee, cousin, which didst lead',\n",
       "  'party.\\n\\nKING RICHARD II:\\nThou hast said enough.\\nBeshrew thee, cousin, which didst lead me'),\n",
       " (\"'t;\\nProvided that, when he's removed, your highness\\nWill take again your queen as yours at first,\\nEven\",\n",
       "  \"t;\\nProvided that, when he's removed, your highness\\nWill take again your queen as yours at first,\\nEven for\"),\n",
       " (\"lie tonight;\\nBut where to-morrow?  Well, all's one for that.\\nWho hath descried the number of the foe\",\n",
       "  \"tonight;\\nBut where to-morrow?  Well, all's one for that.\\nWho hath descried the number of the foe?\"),\n",
       " ('not taste!\\nThe sun not yet thy sighs from heaven clears,\\nThy old groans ring yet in my ancient ears;\\nLo',\n",
       "  'taste!\\nThe sun not yet thy sighs from heaven clears,\\nThy old groans ring yet in my ancient ears;\\nLo,'),\n",
       " ('\\nShe had; and would incense me\\nTo murder her I married.\\n\\nPAULINA:\\nI should so.\\nWere I',\n",
       "  'She had; and would incense me\\nTo murder her I married.\\n\\nPAULINA:\\nI should so.\\nWere I the'),\n",
       " (':\\nPray heartily he be at palace.\\n\\nAUTOLYCUS:\\n\\nShepherd:\\nTo the palace, an it',\n",
       "  '\\nPray heartily he be at palace.\\n\\nAUTOLYCUS:\\n\\nShepherd:\\nTo the palace, an it like'),\n",
       " ('thou I am an executioner?\\n\\nKING HENRY VI:\\nA persecutor, I am sure, thou art:\\nIf murder',\n",
       "  'I am an executioner?\\n\\nKING HENRY VI:\\nA persecutor, I am sure, thou art:\\nIf murdering'),\n",
       " (\"can do\\nI' the way of flattery further.\\n\\nVOLUMNIA:\\nDo your will.\\n\\nCOMINIUS:\",\n",
       "  \"do\\nI' the way of flattery further.\\n\\nVOLUMNIA:\\nDo your will.\\n\\nCOMINIUS:\\n\"),\n",
       " ('laid to thee, the death\\nOf the young prince, whose honourable thoughts,\\nThoughts high for one so tender, cleft the heart',\n",
       "  'to thee, the death\\nOf the young prince, whose honourable thoughts,\\nThoughts high for one so tender, cleft the heart\\n'),\n",
       " ('friend; and therefore give\\nyou our voices heartily.\\n\\nFourth Citizen:\\nYou have received many wounds for your country.\\n',\n",
       "  '; and therefore give\\nyou our voices heartily.\\n\\nFourth Citizen:\\nYou have received many wounds for your country.\\n\\n'),\n",
       " ('\\nSecond Messenger:\\nSir, we have all\\nGreat cause to give great thanks.\\n\\nSICINIUS:\\nThey',\n",
       "  'Second Messenger:\\nSir, we have all\\nGreat cause to give great thanks.\\n\\nSICINIUS:\\nThey are'),\n",
       " (\"thy dismal seat,\\nWe give thee up our guiltless blood to drink.\\n\\nGREY:\\nNow Margaret's curse is\",\n",
       "  \"dismal seat,\\nWe give thee up our guiltless blood to drink.\\n\\nGREY:\\nNow Margaret's curse is fall\"),\n",
       " (\"\\nWhat do I fear?  myself?  there's none else by:\\nRichard loves Richard; that is, I am I.\\n\",\n",
       "  \"What do I fear?  myself?  there's none else by:\\nRichard loves Richard; that is, I am I.\\nIs\")]"
      ]
     },
     "execution_count": 7,
     "metadata": {},
     "output_type": "execute_result"
    }
   ],
   "source": [
    "def get_batches(data, split, batch_size, context_window, config=MASTER_CONFIG, debug=False):\n",
    "    train = data[:int(.8 * len(data))]\n",
    "    val = data[int(.8 * len(data)): int(.9 * len(data))]\n",
    "    test = data[int(.9 * len(data)):]\n",
    "    \n",
    "    batch_data = train\n",
    "    if split == 'val':\n",
    "        batch_data = val\n",
    "\n",
    "    if split == 'test':\n",
    "        batch_data = test\n",
    "    \n",
    "    # pick random starting points\n",
    "    ix = torch.randint(0, batch_data.size(0) - context_window - 1, (batch_size,))\n",
    "    x = torch.stack([batch_data[i:i+context_window] for i in ix]).long()\n",
    "    y = torch.stack([batch_data[i+1:i+context_window+1] for i in ix]).long()\n",
    "    if debug:\n",
    "        print(f\"ix: {ix}\\nx: {x}\\ny: {y}\")\n",
    "    return x, y\n",
    "\n",
    "xs, ys = get_batches(dataset, 'train', MASTER_CONFIG['batch_size'], MASTER_CONFIG['context_window'], debug=False)\n",
    "\n",
    "[(decode(xs[i:i+MASTER_CONFIG['batch_size']]), decode(ys[i:i+MASTER_CONFIG['batch_size']])) for i in range(len(xs))]"
   ]
  },
  {
   "cell_type": "code",
   "execution_count": 8,
   "metadata": {},
   "outputs": [],
   "source": [
    "@torch.no_grad()\n",
    "def get_loss(model, config=MASTER_CONFIG):\n",
    "    out = {}\n",
    "    model.eval()\n",
    "    for split in ['train','val']:\n",
    "        losses = []\n",
    "        for _ in range(10):\n",
    "            xb, yb = get_batches(dataset, split, config['batch_size'], config['context_window'])\n",
    "            _, loss = model(xb, yb)\n",
    "            losses.append(loss.item())\n",
    "        out[split] = np.mean(losses)\n",
    "    model.train()\n",
    "    return out\n",
    "\n",
    "@torch.inference_mode()\n",
    "def generate(model, config=MASTER_CONFIG, temperature=1.0, top_k=None, max_new_tokens=30):\n",
    "    idx = torch.zeros(5, 1).long()\n",
    "    for _ in range(max_new_tokens):\n",
    "        # call the model\n",
    "        logits = model(idx[:, -config['context_window']:])\n",
    "        last_time_step_logits = logits[\n",
    "            :, -1, :\n",
    "        ]  # all the batches (1), last time step, all the logits\n",
    "        \n",
    "        last_time_step_logits = last_time_step_logits / temperature\n",
    "        if top_k is not None:\n",
    "            v, _ = torch.topk(last_time_step_logits, min(top_k, last_time_step_logits.size(-1)))\n",
    "            last_time_step_logits[last_time_step_logits < v[:,[-1]]] = -float('Inf')\n",
    "        p = F.softmax(last_time_step_logits, dim=-1)  # softmax to get probabilities\n",
    "        idx_next = torch.multinomial(\n",
    "            p, num_samples=1\n",
    "        )  # sample from the distribution to get the next token\n",
    "        idx = torch.cat([idx, idx_next], dim=-1)  # append to the sequence\n",
    "    return [tokenizer.decode(x) for x in idx.tolist()]"
   ]
  },
  {
   "cell_type": "markdown",
   "metadata": {},
   "source": [
    "### Gross neural network that doesn't work"
   ]
  },
  {
   "cell_type": "code",
   "execution_count": 9,
   "metadata": {},
   "outputs": [
    {
     "name": "stdout",
     "output_type": "stream",
     "text": [
      "model params: 18547232\n"
     ]
    }
   ],
   "source": [
    "class SimpleFeedForwardNN(nn.Module):\n",
    "    def __init__(self, config=MASTER_CONFIG):\n",
    "        super().__init__()\n",
    "        self.config = config\n",
    "        \n",
    "        self.embedding = nn.Embedding(config['vocab_size'], config['d_model'])\n",
    "        self.linear = nn.Sequential(\n",
    "            nn.Linear(config['d_model'], config['d_model']),\n",
    "            nn.ReLU(),\n",
    "            nn.Linear(config['d_model'], config['vocab_size']),\n",
    "        )\n",
    "        \n",
    "        print(f\"model params: {sum([m.numel() for m in self.parameters()])}\")\n",
    "        \n",
    "    def forward(self, idx, targets=None):\n",
    "        x = self.embedding(idx)\n",
    "        logits = self.linear(x)\n",
    "        \n",
    "        if targets is not None:\n",
    "            loss = F.cross_entropy(logits.view(-1, self.config['vocab_size']), targets.view(-1))\n",
    "            return logits, loss\n",
    "        \n",
    "        else:\n",
    "            return logits\n",
    "        \n",
    "model = SimpleFeedForwardNN(MASTER_CONFIG).to(device)\n",
    "xs, ys = get_batches(dataset, 'train', MASTER_CONFIG['batch_size'], MASTER_CONFIG['context_window'])\n",
    "\n",
    "logits, loss = model(xs, ys)"
   ]
  },
  {
   "cell_type": "markdown",
   "metadata": {},
   "source": [
    "### Training Loop"
   ]
  },
  {
   "cell_type": "code",
   "execution_count": 10,
   "metadata": {},
   "outputs": [],
   "source": [
    "def train(model, optimizer, scheduler=None, config=MASTER_CONFIG, print_logs=False):\n",
    "    losses = []\n",
    "    start_time = time.time()\n",
    "    for epoch in range(config['epochs']):\n",
    "        optimizer.zero_grad()\n",
    "        \n",
    "        xs, ys = get_batches(dataset, 'train', config['batch_size'], config['context_window'])\n",
    "        logits, loss = model(xs, targets=ys)\n",
    "        loss.backward()\n",
    "        optimizer.step()\n",
    "        \n",
    "        if scheduler:\n",
    "            scheduler.step()\n",
    "            \n",
    "        if epoch % config['log_interval'] == 0:\n",
    "            batch_time = time.time() - start_time\n",
    "            x = get_loss(model)\n",
    "            losses += [x]\n",
    "            if print_logs:\n",
    "                print(f\"Epoch {epoch} | val loss {x['val']:.3f} | Time {batch_time:.3f} | ETA in seconds: {batch_time * (config['epochs'] - epoch)/config['log_interval'] :.3f}\")\n",
    "            start_time = time.time()\n",
    "            \n",
    "            if scheduler:\n",
    "                print(\"lr: \", scheduler.get_lr())\n",
    "            \n",
    "    print(f\"validation loss: {losses[-1]['val']}\")\n",
    "    return pd.DataFrame(losses).plot()"
   ]
  },
  {
   "cell_type": "code",
   "execution_count": 11,
   "metadata": {},
   "outputs": [
    {
     "name": "stdout",
     "output_type": "stream",
     "text": [
      "Epoch 0 | val loss 10.317 | Time 0.137 | ETA in seconds: 2.740\n",
      "Epoch 50 | val loss 6.294 | Time 6.969 | ETA in seconds: 132.410\n",
      "Epoch 100 | val loss 5.744 | Time 6.972 | ETA in seconds: 125.496\n",
      "Epoch 150 | val loss 5.491 | Time 6.799 | ETA in seconds: 115.583\n",
      "Epoch 200 | val loss 5.424 | Time 6.817 | ETA in seconds: 109.072\n",
      "Epoch 250 | val loss 5.421 | Time 6.884 | ETA in seconds: 103.260\n",
      "Epoch 300 | val loss 5.405 | Time 6.916 | ETA in seconds: 96.824\n",
      "Epoch 350 | val loss 5.072 | Time 6.926 | ETA in seconds: 90.038\n",
      "Epoch 400 | val loss 5.146 | Time 6.745 | ETA in seconds: 80.940\n",
      "Epoch 450 | val loss 5.258 | Time 6.852 | ETA in seconds: 75.372\n",
      "Epoch 500 | val loss 4.985 | Time 6.717 | ETA in seconds: 67.170\n",
      "Epoch 550 | val loss 5.195 | Time 6.807 | ETA in seconds: 61.263\n",
      "Epoch 600 | val loss 5.147 | Time 6.871 | ETA in seconds: 54.968\n",
      "Epoch 650 | val loss 5.131 | Time 6.850 | ETA in seconds: 47.950\n",
      "Epoch 700 | val loss 5.214 | Time 6.887 | ETA in seconds: 41.322\n",
      "Epoch 750 | val loss 4.971 | Time 6.813 | ETA in seconds: 34.065\n",
      "Epoch 800 | val loss 5.062 | Time 6.750 | ETA in seconds: 27.000\n",
      "Epoch 850 | val loss 5.057 | Time 6.756 | ETA in seconds: 20.268\n",
      "Epoch 900 | val loss 5.199 | Time 6.842 | ETA in seconds: 13.684\n",
      "Epoch 950 | val loss 5.092 | Time 6.813 | ETA in seconds: 6.813\n",
      "validation loss: 5.092149019241333\n"
     ]
    },
    {
     "data": {
      "text/plain": [
       "<Axes: >"
      ]
     },
     "execution_count": 11,
     "metadata": {},
     "output_type": "execute_result"
    },
    {
     "data": {
      "image/png": "[encoded data removed]",
      "text/plain": [
       "<Figure size 640x480 with 1 Axes>"
      ]
     },
     "metadata": {},
     "output_type": "display_data"
    }
   ],
   "source": [
    "optimizer = torch.optim.AdamW(\n",
    "    model.parameters(),\n",
    ")\n",
    "train(model, optimizer, print_logs=True)"
   ]
  },
  {
   "cell_type": "code",
   "execution_count": 12,
   "metadata": {},
   "outputs": [
    {
     "data": {
      "text/plain": [
       "['<unk> wild\\nWhen I nor.\\n\\nMER:\\n\\nThat thou advantage me on the queen, my end four glory but if the good old',\n",
       " \"<unk>'d from it so soon,\\nBRUTUS:\\nISABETHis foul the yonder and am for our wife,\\n\",\n",
       " '<unk> thou yield, my valiolanus,\\n\\nBut when weep hide enough.\\nIf he came eye\\nTo kill thy tongue and comfort',\n",
       " \"<unk>Dver's, and Россииome me, come for her when it, this Duke of thus my life but like them bust out flexible War\",\n",
       " \"<unk> that have done, sir, they say.\\nSpe care of pout'd the have heard the bas bothery\\nusves\\nEnforce\"]"
      ]
     },
     "execution_count": 12,
     "metadata": {},
     "output_type": "execute_result"
    }
   ],
   "source": [
    "generate(model, config=MASTER_CONFIG)"
   ]
  },
  {
   "cell_type": "markdown",
   "metadata": {},
   "source": [
    "### RMS Normalization\n",
    "\n",
    "This is as opposed to the original Batch Normalization used in the original transformers paper.\n",
    "Basically it works by taking 1/sqrt(N) * frobenius_norm"
   ]
  },
  {
   "cell_type": "code",
   "execution_count": 13,
   "metadata": {},
   "outputs": [
    {
     "name": "stdout",
     "output_type": "stream",
     "text": [
      "torch.Size([5, 11, 13])\n"
     ]
    }
   ],
   "source": [
    "class RMSNormalization(nn.Module):\n",
    "    def __init__(self, layer_shape, eps=1e-5, bias=False):\n",
    "        super(RMSNormalization, self).__init__()\n",
    "        self.eps = eps\n",
    "        self.register_parameter(\"scale\", nn.Parameter(torch.ones(layer_shape)))\n",
    "        \n",
    "    def forward(self, x):\n",
    "        \"\"\"\n",
    "        assumes shape (batch, seq_len, d_model)\n",
    "        \"\"\"\n",
    "        ff_rms = torch.linalg.norm(x, dim=(1,2)) * x[0].numel() ** -.5\n",
    "        raw = x / ff_rms.unsqueeze(-1).unsqueeze(-1)\n",
    "        return self.scale[:x.shape[1], :].unsqueeze(0) * raw\n",
    "    \n",
    "test_batch = torch.randn((5, 11, 13))\n",
    "m = RMSNormalization((11, 13))\n",
    "g = m(test_batch)\n",
    "print(g.shape)"
   ]
  },
  {
   "cell_type": "code",
   "execution_count": 14,
   "metadata": {},
   "outputs": [
    {
     "name": "stdout",
     "output_type": "stream",
     "text": [
      "model params: 18556448\n",
      "Epoch 0 | val loss 10.258 | Time 0.155 | ETA in seconds: 3.100\n",
      "Epoch 50 | val loss 6.267 | Time 6.843 | ETA in seconds: 130.008\n",
      "Epoch 100 | val loss 5.741 | Time 6.921 | ETA in seconds: 124.578\n",
      "Epoch 150 | val loss 5.686 | Time 6.865 | ETA in seconds: 116.697\n",
      "Epoch 200 | val loss 5.517 | Time 6.917 | ETA in seconds: 110.672\n",
      "Epoch 250 | val loss 5.363 | Time 6.973 | ETA in seconds: 104.595\n",
      "Epoch 300 | val loss 5.223 | Time 6.834 | ETA in seconds: 95.677\n",
      "Epoch 350 | val loss 5.312 | Time 6.875 | ETA in seconds: 89.369\n",
      "Epoch 400 | val loss 5.101 | Time 6.879 | ETA in seconds: 82.548\n",
      "Epoch 450 | val loss 5.224 | Time 6.828 | ETA in seconds: 75.109\n",
      "Epoch 500 | val loss 5.041 | Time 6.956 | ETA in seconds: 69.560\n",
      "Epoch 550 | val loss 5.253 | Time 6.834 | ETA in seconds: 61.506\n",
      "Epoch 600 | val loss 5.087 | Time 6.792 | ETA in seconds: 54.336\n",
      "Epoch 650 | val loss 5.213 | Time 6.808 | ETA in seconds: 47.656\n",
      "Epoch 700 | val loss 5.284 | Time 6.721 | ETA in seconds: 40.326\n",
      "Epoch 750 | val loss 5.148 | Time 6.842 | ETA in seconds: 34.210\n",
      "Epoch 800 | val loss 5.073 | Time 6.820 | ETA in seconds: 27.280\n",
      "Epoch 850 | val loss 5.018 | Time 6.810 | ETA in seconds: 20.430\n",
      "Epoch 900 | val loss 5.137 | Time 6.753 | ETA in seconds: 13.506\n",
      "Epoch 950 | val loss 4.932 | Time 6.913 | ETA in seconds: 6.913\n",
      "validation loss: 4.931781768798828\n"
     ]
    },
    {
     "data": {
      "text/plain": [
       "<Axes: >"
      ]
     },
     "execution_count": 14,
     "metadata": {},
     "output_type": "execute_result"
    },
    {
     "data": {
      "image/png": "[encoded data removed]",
      "text/plain": [
       "<Figure size 640x480 with 1 Axes>"
      ]
     },
     "metadata": {},
     "output_type": "display_data"
    }
   ],
   "source": [
    "class SimpleFeedForwardNN_RMS(nn.Module):\n",
    "    def __init__(self, config):\n",
    "        super().__init__()\n",
    "        self.config = config\n",
    "        \n",
    "        self.embedding = nn.Embedding(config['vocab_size'], config['d_model'])\n",
    "        self.rms = RMSNormalization((config['context_window'], config['d_model']))\n",
    "        self.linear = nn.Sequential(\n",
    "            nn.Linear(config['d_model'], config['d_model']),\n",
    "            nn.ReLU(),\n",
    "            nn.Linear(config['d_model'], config['vocab_size']),\n",
    "        )\n",
    "        \n",
    "        print(f\"model params: {sum([m.numel() for m in self.parameters()])}\")\n",
    "        \n",
    "    def forward(self, idx, targets=None):\n",
    "        x = self.embedding(idx)\n",
    "        x = self.rms(x) # rms pre-normalization\n",
    "        logits = self.linear(x)\n",
    "        \n",
    "        if targets is not None:\n",
    "            loss = F.cross_entropy(logits.view(-1, self.config['vocab_size']), targets.view(-1))\n",
    "            return logits, loss\n",
    "        \n",
    "        else:\n",
    "            return logits\n",
    "        \n",
    "model = SimpleFeedForwardNN_RMS(MASTER_CONFIG)\n",
    "xs, ys = get_batches(dataset, 'train', MASTER_CONFIG['batch_size'], MASTER_CONFIG['context_window'])\n",
    "\n",
    "logits, loss = model(xs, ys)\n",
    "optimizer = torch.optim.AdamW(model.parameters())\n",
    "train(model, optimizer, print_logs=True)"
   ]
  },
  {
   "cell_type": "code",
   "execution_count": 15,
   "metadata": {},
   "outputs": [
    {
     "data": {
      "text/plain": [
       "[\"<unk> he voice: look upon the anch. I amain.'\\nAnd pay-place in honestage.'\\nToanderor didst prophes,\",\n",
       " \"<unk> only to nands! thy intend to know,\\nWithdraw'll entre us; where more Thurs with thee to forth by the good old\",\n",
       " '<unk> his place, honesty.\\nKINGSay how far me,\\nL.\\n\\nAs come, but do be content,\\nK',\n",
       " '<unk>.\\n himself in some noise of recompense of life! S him for leis to your hast\\nAll and which of beaver end till',\n",
       " '<unk> see what these faint;\\n\\nMyide Lewis,\\nMy lord.\\nThe lords of myself\\n\\nDid hold it you heard,\\n']"
      ]
     },
     "execution_count": 15,
     "metadata": {},
     "output_type": "execute_result"
    }
   ],
   "source": [
    "generate(model, config=MASTER_CONFIG)"
   ]
  },
  {
   "cell_type": "markdown",
   "metadata": {},
   "source": [
    "### RoPE scaling\n",
    "\n",
    "Rotary Embeddings changes the positional encoding from being based on sine and cosine to being based on the rotation of the embeddings, with a different rotation at each position"
   ]
  },
  {
   "cell_type": "code",
   "execution_count": 16,
   "metadata": {},
   "outputs": [],
   "source": [
    "def get_rotary_matrix(context_window, embedding_dim):\n",
    "    R = torch.zeros((context_window, embedding_dim, embedding_dim), requires_grad=False)\n",
    "    for position in range(context_window):\n",
    "        for i in range(embedding_dim//2):\n",
    "            theta = 10000. ** (-2.*(i - 1) / embedding_dim)\n",
    "            m_theta = position * theta\n",
    "            R[position, 2*i,2*i] = np.cos(m_theta)\n",
    "            R[position, 2*i,2*i+1] = - np.sin(m_theta)\n",
    "            R[position, 2*i+1,2*i] = np.sin(m_theta)\n",
    "            R[position, 2*i+1,2*i+1] = np.cos(m_theta)\n",
    "    return R"
   ]
  },
  {
   "cell_type": "code",
   "execution_count": 17,
   "metadata": {},
   "outputs": [
    {
     "data": {
      "image/png": "[encoded data removed]",
      "text/plain": [
       "<Figure size 900x1200 with 9 Axes>"
      ]
     },
     "metadata": {},
     "output_type": "display_data"
    }
   ],
   "source": [
    "K = 3\n",
    "config = {\n",
    "    'batch_size': 10,\n",
    "    'd_model': 32,\n",
    "    'n_heads': 8,\n",
    "    'context_window': K**2,\n",
    "}\n",
    "batch = torch.randn(1, config['context_window'], config['d_model'])\n",
    "R = get_rotary_matrix(config['context_window'], config['d_model'])\n",
    "fig, ax = plt.subplots(K, K, figsize=(K * 3, K * 4))\n",
    "\n",
    "for i in range(K):\n",
    "    for j in range(K):\n",
    "        ax[i, j].imshow(R[i * K + j, :, :].detach().numpy())\n",
    "        ax[i, j].set_title(f'rotation at {i * K + j}')"
   ]
  },
  {
   "cell_type": "code",
   "execution_count": 18,
   "metadata": {},
   "outputs": [],
   "source": [
    "config = {\n",
    "    'batch_size': 10,\n",
    "    'd_model': 512,\n",
    "    'n_heads': 8,\n",
    "    'context_window': 16,\n",
    "}\n",
    "\n",
    "class RoPEMaskedAttentionHead(nn.Module):\n",
    "    def __init__(self, config):\n",
    "        super().__init__()\n",
    "        self.config = config\n",
    "        self.w_q = nn.Linear(config['d_model'], config['d_model'], bias=False)\n",
    "        self.w_k = nn.Linear(config['d_model'], config['d_model'], bias=False)\n",
    "        self.w_v = nn.Linear(config['d_model'], config['d_model'], bias=False)\n",
    "        \n",
    "        self.R = get_rotary_matrix(config['context_window'], config['d_model'])\n",
    "        \n",
    "    def get_rotary_matrix(context_window, embedding_dim):\n",
    "        R = torch.zeros((context_window, embedding_dim, embedding_dim), requires_grad=False)\n",
    "        for position in range(context_window):\n",
    "            for i in range(embedding_dim//2):\n",
    "                theta = 10000. ** (-2.*(i-1) / embedding_dim)\n",
    "                m_theta = position * theta\n",
    "                R[position, 2*i,2*i] = np.cos(m_theta)\n",
    "                R[position, 2*i,2*i+1] = - np.sin(m_theta)\n",
    "                R[position, 2*i+1,2*i] = np.sin(m_theta)\n",
    "                R[position, 2*i+1,2*i+1] = np.cos(m_theta)\n",
    "        return R\n",
    "    \n",
    "    def forward(self, x, return_attn_weights=False):\n",
    "        b,m,d = x.shape\n",
    "        \n",
    "        q = self.w_q(x)\n",
    "        k = self.w_k(x)\n",
    "        v = self.w_v(x)\n",
    "        \n",
    "        q_rotated = (torch.bmm(q.transpose(0,1), self.R[:m])).transpose(0,1)\n",
    "        k_rotated = (torch.bmm(k.transpose(0,1), self.R[:m])).transpose(0,1)\n",
    "        \n",
    "        activations = F.scaled_dot_product_attention(\n",
    "            q_rotated, k_rotated, v, dropout_p=.1, is_causal=True\n",
    "        )\n",
    "        \n",
    "        if return_attn_weights:\n",
    "            attn_mask = torch.tril(torch.ones((m,m)), diagonal=0)\n",
    "            attn_weights = torch.bmm(q_rotated, k_rotated.transpose(1,2)) / np.sqrt(d) + attn_mask\n",
    "            attn_weights = F.softmax(attn_weights, dim=-1)\n",
    "            return activations, attn_weights\n",
    "        return activations\n",
    "\n",
    "layer = RoPEMaskedAttentionHead(config)\n",
    "batch = torch.randn((config['batch_size'], config['context_window'], config['d_model']))\n",
    "output, attn_weights = layer(batch, return_attn_weights=True)"
   ]
  },
  {
   "cell_type": "code",
   "execution_count": 19,
   "metadata": {},
   "outputs": [
    {
     "data": {
      "text/plain": [
       "torch.Size([16, 32, 288])"
      ]
     },
     "execution_count": 19,
     "metadata": {},
     "output_type": "execute_result"
    }
   ],
   "source": [
    "class RoPEMaskedMultiheadAttention(nn.Module):\n",
    "    def __init__(self, config):\n",
    "        super().__init__()\n",
    "        self.config = config\n",
    "        self.heads = nn.ModuleList([\n",
    "            RoPEMaskedAttentionHead(config) for _ in range(config['n_heads'])\n",
    "        ])\n",
    "        self.linear = nn.Linear(config['n_heads'] * config['d_model'], config['d_model'])\n",
    "        self.dropout = nn.Dropout(.1)\n",
    "        \n",
    "    def forward(self, x):\n",
    "        heads = [h(x) for h in self.heads]\n",
    "        x = torch.cat(heads, dim=-1)\n",
    "        x = self.linear(x)\n",
    "        x = self.dropout(x)\n",
    "        return x\n",
    "\n",
    "layer = RoPEMaskedMultiheadAttention(MASTER_CONFIG)\n",
    "batch = torch.ones((MASTER_CONFIG['batch_size'], MASTER_CONFIG['context_window'], MASTER_CONFIG['d_model']))\n",
    "output = layer(batch)\n",
    "output.shape"
   ]
  },
  {
   "cell_type": "code",
   "execution_count": 20,
   "metadata": {},
   "outputs": [
    {
     "name": "stdout",
     "output_type": "stream",
     "text": [
      "model params: 20547392\n",
      "Epoch 0 | val loss 10.346 | Time 0.192 | ETA in seconds: 3.840\n",
      "Epoch 50 | val loss 6.312 | Time 9.176 | ETA in seconds: 174.345\n",
      "Epoch 100 | val loss 5.952 | Time 9.214 | ETA in seconds: 165.851\n",
      "Epoch 150 | val loss 5.560 | Time 9.218 | ETA in seconds: 156.699\n",
      "Epoch 200 | val loss 5.278 | Time 9.199 | ETA in seconds: 147.179\n",
      "Epoch 250 | val loss 5.376 | Time 9.123 | ETA in seconds: 136.845\n",
      "Epoch 300 | val loss 5.251 | Time 9.179 | ETA in seconds: 128.507\n",
      "Epoch 350 | val loss 5.081 | Time 9.180 | ETA in seconds: 119.340\n",
      "Epoch 400 | val loss 5.118 | Time 9.165 | ETA in seconds: 109.974\n",
      "Epoch 450 | val loss 5.089 | Time 9.257 | ETA in seconds: 101.827\n",
      "Epoch 500 | val loss 5.126 | Time 9.227 | ETA in seconds: 92.271\n",
      "Epoch 550 | val loss 5.054 | Time 9.255 | ETA in seconds: 83.295\n",
      "Epoch 600 | val loss 4.918 | Time 9.164 | ETA in seconds: 73.312\n",
      "Epoch 650 | val loss 5.040 | Time 9.207 | ETA in seconds: 64.446\n",
      "Epoch 700 | val loss 4.863 | Time 9.202 | ETA in seconds: 55.212\n",
      "Epoch 750 | val loss 4.965 | Time 9.214 | ETA in seconds: 46.070\n",
      "Epoch 800 | val loss 4.886 | Time 9.186 | ETA in seconds: 36.742\n",
      "Epoch 850 | val loss 5.047 | Time 9.143 | ETA in seconds: 27.429\n",
      "Epoch 900 | val loss 5.091 | Time 9.145 | ETA in seconds: 18.290\n",
      "Epoch 950 | val loss 5.095 | Time 9.170 | ETA in seconds: 9.170\n",
      "validation loss: 5.095148658752441\n"
     ]
    },
    {
     "data": {
      "text/plain": [
       "<Axes: >"
      ]
     },
     "execution_count": 20,
     "metadata": {},
     "output_type": "execute_result"
    },
    {
     "data": {
      "image/png": "[encoded data removed]",
      "text/plain": [
       "<Figure size 640x480 with 1 Axes>"
      ]
     },
     "metadata": {},
     "output_type": "display_data"
    }
   ],
   "source": [
    "class SimpleFeedForwardNN_RMS_Rope(nn.Module):\n",
    "    def __init__(self, config):\n",
    "        super().__init__()\n",
    "        self.config = config\n",
    "        \n",
    "        self.embedding = nn.Embedding(config['vocab_size'], config['d_model'])\n",
    "        self.rms = RMSNormalization((config['context_window'], config['d_model']))\n",
    "        self.rope_attention = RoPEMaskedMultiheadAttention(config)\n",
    "        \n",
    "        self.linear = nn.Sequential(\n",
    "            nn.Linear(config['d_model'], config['d_model']),\n",
    "            nn.ReLU() \n",
    "        )\n",
    "        \n",
    "        self.last_linear = nn.Linear(config['d_model'], config['vocab_size'])\n",
    "        \n",
    "        print(f\"model params: {sum([m.numel() for m in self.parameters()])}\")\n",
    "        \n",
    "    def forward(self, idx, targets=None):\n",
    "        x = self.embedding(idx)\n",
    "        \n",
    "        x = self.rms(x)\n",
    "        x = x + self.rope_attention(x)\n",
    "        \n",
    "        x = self.rms(x)\n",
    "        x = x + self.linear(x)\n",
    "        \n",
    "        logits = self.last_linear(x)\n",
    "        \n",
    "        if targets is not None:\n",
    "            loss = F.cross_entropy(logits.view(-1, self.config['vocab_size']), targets.view(-1))\n",
    "            return logits, loss\n",
    "        \n",
    "        else:\n",
    "            return logits\n",
    "        \n",
    "model = SimpleFeedForwardNN_RMS_Rope(MASTER_CONFIG)\n",
    "xs, ys = get_batches(dataset, 'train', MASTER_CONFIG['batch_size'], MASTER_CONFIG['context_window'])\n",
    "\n",
    "logits, loss = model(xs, ys)\n",
    "optimizer = torch.optim.AdamW(model.parameters())\n",
    "train(model, optimizer, print_logs=True)"
   ]
  },
  {
   "cell_type": "code",
   "execution_count": 21,
   "metadata": {},
   "outputs": [
    {
     "data": {
      "text/plain": [
       "['<unk>; tove the king is an by deeds flesh;\\nAnd toulation. If something were God! Lookingaks\\nUpon his top with',\n",
       " '<unk>: the city sm examples lords.\\nYou precious cry even on a kind commends of let me not-frics the next best soon',\n",
       " '<unk>: most assured\\n cracks on his likark! This day a country is a villain andêts and storm on me\\nAnd throw less the',\n",
       " '<unk>, than the tombg haughty or short or entreated shall be the light:\\nGood kindly hitess, my lord, you talk',\n",
       " '<unk>ely learn are potv sire.\\n\\nLADYur enemy prosper, Warwickame in thy fieryer shall helply to his']"
      ]
     },
     "execution_count": 21,
     "metadata": {},
     "output_type": "execute_result"
    }
   ],
   "source": [
    "generate(model, config=MASTER_CONFIG)"
   ]
  },
  {
   "cell_type": "markdown",
   "metadata": {},
   "source": [
    "### SwiGLU\n",
    "\n",
    "Replace ReLU activation function. Defined as SwiGLU(x) = Swishβ(xW + b)⊗︀(xV + c)"
   ]
  },
  {
   "cell_type": "code",
   "execution_count": 22,
   "metadata": {},
   "outputs": [],
   "source": [
    "class SwiGLU(nn.Module):\n",
    "    def __init__(self, size):\n",
    "        super().__init__()\n",
    "        self.config = config\n",
    "        self.linear_gate = nn.Linear(size, size)\n",
    "        self.linear = nn.Linear(size, size)\n",
    "        self.beta = torch.randn(1, requires_grad=True)\n",
    "        \n",
    "        self.beta = nn.Parameter(torch.ones(1))\n",
    "        self.register_parameter(\"beta\", self.beta)\n",
    "        \n",
    "    def forward(self, x):\n",
    "        swish_gate = self.linear_gate(x) * torch.sigmoid(self.beta * self.linear_gate(x))\n",
    "        out = swish_gate * self.linear(x)\n",
    "        return out"
   ]
  },
  {
   "cell_type": "code",
   "execution_count": 23,
   "metadata": {},
   "outputs": [
    {
     "name": "stdout",
     "output_type": "stream",
     "text": [
      "model params: 20713857\n",
      "Epoch 0 | val loss 10.323 | Time 0.212 | ETA in seconds: 4.240\n",
      "Epoch 50 | val loss 6.415 | Time 9.480 | ETA in seconds: 180.120\n",
      "Epoch 100 | val loss 5.993 | Time 9.723 | ETA in seconds: 175.006\n",
      "Epoch 150 | val loss 5.632 | Time 9.522 | ETA in seconds: 161.874\n",
      "Epoch 200 | val loss 5.451 | Time 9.548 | ETA in seconds: 152.768\n",
      "Epoch 250 | val loss 5.306 | Time 9.617 | ETA in seconds: 144.256\n",
      "Epoch 300 | val loss 5.131 | Time 9.532 | ETA in seconds: 133.443\n",
      "Epoch 350 | val loss 5.318 | Time 9.430 | ETA in seconds: 122.584\n",
      "Epoch 400 | val loss 5.032 | Time 9.413 | ETA in seconds: 112.956\n",
      "Epoch 450 | val loss 5.180 | Time 9.480 | ETA in seconds: 104.281\n",
      "Epoch 500 | val loss 5.022 | Time 9.442 | ETA in seconds: 94.420\n",
      "Epoch 550 | val loss 5.026 | Time 9.487 | ETA in seconds: 85.383\n",
      "Epoch 600 | val loss 5.158 | Time 9.456 | ETA in seconds: 75.648\n",
      "Epoch 650 | val loss 5.052 | Time 9.429 | ETA in seconds: 66.003\n",
      "Epoch 700 | val loss 5.096 | Time 9.359 | ETA in seconds: 56.154\n",
      "Epoch 750 | val loss 4.990 | Time 9.422 | ETA in seconds: 47.111\n",
      "Epoch 800 | val loss 4.966 | Time 9.432 | ETA in seconds: 37.728\n",
      "Epoch 850 | val loss 5.000 | Time 9.388 | ETA in seconds: 28.164\n",
      "Epoch 900 | val loss 4.901 | Time 9.434 | ETA in seconds: 18.867\n",
      "Epoch 950 | val loss 4.948 | Time 9.396 | ETA in seconds: 9.396\n",
      "validation loss: 4.948042392730713\n"
     ]
    },
    {
     "data": {
      "text/plain": [
       "<Axes: >"
      ]
     },
     "execution_count": 23,
     "metadata": {},
     "output_type": "execute_result"
    },
    {
     "data": {
      "image/png": "[encoded data removed]",
      "text/plain": [
       "<Figure size 640x480 with 1 Axes>"
      ]
     },
     "metadata": {},
     "output_type": "display_data"
    }
   ],
   "source": [
    "class SimpleFeedForwardNN_RMS_RoPE_SwiGLU(nn.Module):\n",
    "    def __init__(self, config):\n",
    "        super().__init__()\n",
    "        self.config = config\n",
    "        \n",
    "        self.embedding = nn.Embedding(config['vocab_size'], config['d_model'])\n",
    "        self.rms = RMSNormalization((config['context_window'], config['d_model']))\n",
    "        self.rope_attention = RoPEMaskedMultiheadAttention(config)\n",
    "        \n",
    "        self.linear = nn.Sequential(\n",
    "            nn.Linear(config['d_model'], config['d_model']),\n",
    "            SwiGLU(config['d_model']),\n",
    "        )\n",
    "        \n",
    "        self.last_linear = nn.Linear(config['d_model'], config['vocab_size'])\n",
    "        \n",
    "        print(f\"model params: {sum([m.numel() for m in self.parameters()])}\")\n",
    "        \n",
    "    def forward(self, idx, targets=None):\n",
    "        x = self.embedding(idx)\n",
    "        \n",
    "        x = self.rms(x)\n",
    "        x = x + self.rope_attention(x)\n",
    "        \n",
    "        x = self.rms(x)\n",
    "        x = x + self.linear(x)\n",
    "        \n",
    "        logits = self.last_linear(x)\n",
    "        \n",
    "        if targets is not None:\n",
    "            loss = F.cross_entropy(logits.view(-1, self.config['vocab_size']), targets.view(-1))\n",
    "            return logits, loss\n",
    "        \n",
    "        else:\n",
    "            return logits\n",
    "        \n",
    "model = SimpleFeedForwardNN_RMS_RoPE_SwiGLU(MASTER_CONFIG)\n",
    "xs, ys = get_batches(dataset, 'train', MASTER_CONFIG['batch_size'], MASTER_CONFIG['context_window'])\n",
    "\n",
    "logits, loss = model(xs, ys)\n",
    "optimizer = torch.optim.AdamW(model.parameters())\n",
    "train(model, optimizer, print_logs=True)"
   ]
  },
  {
   "cell_type": "code",
   "execution_count": 24,
   "metadata": {},
   "outputs": [
    {
     "data": {
      "text/plain": [
       "[\"<unk> to tard O!\\nIt some note? Say? speak, my waking of alive.\\n\\nAway hath neither;\\nFor 'tw\",\n",
       " \"<unk>op suppers, scope they have said heir in Ros to do't,\\nAnd su-night, father's hope:\\n\",\n",
       " \"<unk>thers if you live myies,\\nWas pun\\nIt were they pawn were struck'd he had\\nexatch her liimed\",\n",
       " '<unk> tide like hearting,\\nAnd I bowards: the Tit hundred dearard,\\nThe doubt, or slander lightsR!',\n",
       " \"<unk> royal your choice then had were great prince spoke't.\\n\\nDERBY:\\nLook, sir, having; King Richard I know my lord\"]"
      ]
     },
     "execution_count": 24,
     "metadata": {},
     "output_type": "execute_result"
    }
   ],
   "source": [
    "generate(model, config=MASTER_CONFIG)"
   ]
  },
  {
   "cell_type": "markdown",
   "metadata": {},
   "source": [
    "### Llama\n",
    "\n",
    "So what makes Llama 2 different from regular simple feed forward networks? Blocks of RMSNorm and Residual Rope Attention. Let's make those blocks and create our model"
   ]
  },
  {
   "cell_type": "code",
   "execution_count": 59,
   "metadata": {},
   "outputs": [
    {
     "data": {
      "text/plain": [
       "tensor([[[-0.1557,  0.0220,  0.2343,  ...,  1.5165,  0.5609,  0.2599],\n",
       "         [ 0.1524,  0.2807, -1.1694,  ...,  0.1402,  0.8732, -0.1581],\n",
       "         [-0.4733, -1.6318,  0.4726,  ...,  0.4484,  0.5368, -0.7287],\n",
       "         ...,\n",
       "         [-0.2909,  0.2342, -1.0030,  ...,  0.3930, -0.6184,  0.5347],\n",
       "         [ 1.4435,  1.8753,  0.1896,  ..., -1.5523,  2.0323, -1.2782],\n",
       "         [-2.2981, -1.0735, -2.0227,  ...,  3.0449,  0.5143,  0.1326]],\n",
       "\n",
       "        [[-0.8881, -1.0305,  0.3838,  ..., -0.1182, -1.0868,  0.3203],\n",
       "         [-0.9000, -0.6619, -1.9815,  ...,  0.1022, -0.1536,  1.7003],\n",
       "         [ 1.3526,  0.2214, -1.8651,  ...,  1.7361, -1.3142, -0.4087],\n",
       "         ...,\n",
       "         [-0.0296, -1.1791, -2.1416,  ...,  0.5720, -1.7242, -0.6126],\n",
       "         [-0.1943, -0.1102, -0.7509,  ...,  0.2550, -2.1761, -0.6522],\n",
       "         [ 1.0739,  0.6446, -2.1420,  ..., -0.1858,  0.4377,  0.0859]],\n",
       "\n",
       "        [[-1.3149, -0.0731,  1.5086,  ...,  0.5446,  1.5872, -1.3973],\n",
       "         [-1.1374, -1.2263,  0.4381,  ...,  1.2644,  0.5377, -0.9103],\n",
       "         [ 2.0600, -0.6738,  1.3199,  ...,  0.0275, -0.5638, -1.6821],\n",
       "         ...,\n",
       "         [-0.8557, -0.0543,  1.0591,  ...,  1.1284,  0.6340,  1.4163],\n",
       "         [-1.2939, -0.5901,  0.4294,  ..., -1.8798,  1.6080, -0.1339],\n",
       "         [-0.2114,  0.5956, -0.5765,  ..., -1.7740,  1.0669,  0.5858]],\n",
       "\n",
       "        ...,\n",
       "\n",
       "        [[ 0.8609, -0.4769, -0.4137,  ...,  0.3832, -1.5866, -0.9445],\n",
       "         [ 0.6383, -0.7887, -0.8457,  ..., -0.1066, -0.9063,  0.1416],\n",
       "         [ 0.9169, -1.1032,  0.1826,  ..., -0.4776,  1.0858, -1.4689],\n",
       "         ...,\n",
       "         [-1.9175, -1.6534,  0.1919,  ..., -0.5173,  0.7768,  0.1810],\n",
       "         [ 0.1193, -1.1512,  0.1991,  ..., -0.2349,  0.7853, -0.9072],\n",
       "         [ 0.5804,  0.8151,  1.3661,  ...,  0.7330,  1.1590,  0.6290]],\n",
       "\n",
       "        [[-0.0583, -1.1157,  0.5739,  ..., -0.0779,  0.4863, -0.1965],\n",
       "         [-1.9028, -2.2301,  0.0044,  ...,  0.6180, -1.0536,  1.0453],\n",
       "         [ 0.2124, -1.5116,  0.0954,  ..., -0.2857, -1.0562,  2.6788],\n",
       "         ...,\n",
       "         [ 0.1030,  0.5016,  0.4310,  ...,  0.6821, -0.9940,  1.1281],\n",
       "         [-1.2367, -0.8896,  0.7086,  ..., -0.2309, -0.6001,  1.3915],\n",
       "         [-0.6238,  0.1765, -0.9021,  ...,  0.6727,  0.7110,  1.0020]],\n",
       "\n",
       "        [[ 1.3365,  2.1269, -1.9700,  ..., -0.8656,  0.8892,  1.0921],\n",
       "         [-0.0661,  3.2659, -1.8160,  ...,  0.0329, -1.0661,  1.2659],\n",
       "         [-0.9984, -1.2044, -0.2930,  ..., -0.2043, -0.8916, -2.2743],\n",
       "         ...,\n",
       "         [ 1.6544, -0.4120, -0.4134,  ...,  0.6474,  0.5008, -1.2368],\n",
       "         [ 0.5829, -0.4088,  1.2344,  ..., -0.7415,  0.5900,  0.8113],\n",
       "         [-0.6487, -2.8924,  0.8772,  ...,  0.1358,  0.3739,  1.5719]]],\n",
       "       grad_fn=<AddBackward0>)"
      ]
     },
     "execution_count": 59,
     "metadata": {},
     "output_type": "execute_result"
    }
   ],
   "source": [
    "class LlamaBlock(nn.Module):\n",
    "    def __init__(self, config):\n",
    "        super().__init__()\n",
    "        self.config = config\n",
    "        \n",
    "        self.rms = RMSNormalization((config['context_window'], config['d_model']))\n",
    "        \n",
    "        self.attention = RoPEMaskedMultiheadAttention(config)\n",
    "        self.feedforward = nn.Sequential(\n",
    "            nn.Linear(config['d_model'], config['hidden_dim'], bias=False),\n",
    "            SwiGLU(config['hidden_dim']),\n",
    "            nn.Linear(config['hidden_dim'], config['hidden_dim'], bias=False),\n",
    "            SwiGLU(config['hidden_dim']),\n",
    "            nn.Linear(config['hidden_dim'], config['d_model'], bias=False),\n",
    "            nn.Dropout(0.0)\n",
    "        )\n",
    "        \n",
    "    def forward(self, x):\n",
    "        x = self.rms(x)\n",
    "        x = x + self.attention(x)\n",
    "        \n",
    "        x = self.rms(x)\n",
    "        x = x + self.feedforward(x)\n",
    "        return x\n",
    "    \n",
    "block = LlamaBlock(MASTER_CONFIG)\n",
    "block(torch.randn(MASTER_CONFIG['batch_size'], MASTER_CONFIG['context_window'], MASTER_CONFIG['d_model']))"
   ]
  },
  {
   "cell_type": "code",
   "execution_count": 60,
   "metadata": {},
   "outputs": [],
   "source": [
    "class Llama(nn.Module):\n",
    "    def __init__(self, config):\n",
    "        super().__init__()\n",
    "        self.config = config\n",
    "        \n",
    "        self.embedding = nn.Embedding(config['vocab_size'], config['d_model'])\n",
    "        self.llama_blocks = nn.Sequential(\n",
    "            OrderedDict([(f\"llama_{i}\", LlamaBlock(config)) for i in range(config['n_layers'])])\n",
    "        )\n",
    "        \n",
    "        self.ffn = nn.Sequential(\n",
    "            nn.Linear(config['d_model'], config['d_model']),\n",
    "            SwiGLU(config['d_model']),\n",
    "            nn.Linear(config['d_model'], config['vocab_size']),\n",
    "        )\n",
    "        \n",
    "        print(f\"model params: {sum([m.numel() for m in self.parameters()])}\")\n",
    "        \n",
    "    def forward(self, idx, targets=None):\n",
    "        x = self.embedding(idx)\n",
    "        x = self.llama_blocks(x)\n",
    "        logits = self.ffn(x)\n",
    "        \n",
    "        if targets is None:\n",
    "            return logits\n",
    "        \n",
    "        else:\n",
    "            loss = F.cross_entropy(logits.view(-1, self.config['vocab_size']), targets.view(-1))\n",
    "            return logits, loss"
   ]
  },
  {
   "cell_type": "code",
   "execution_count": 56,
   "metadata": {},
   "outputs": [
    {
     "name": "stdout",
     "output_type": "stream",
     "text": [
      "model params: 32211111\n",
      "Epoch 0 | val loss 10.330 | Time 0.555 | ETA in seconds: 11.100\n",
      "Epoch 50 | val loss 7.057 | Time 25.161 | ETA in seconds: 478.050\n",
      "Epoch 100 | val loss 6.479 | Time 25.053 | ETA in seconds: 450.955\n",
      "Epoch 150 | val loss 6.536 | Time 25.504 | ETA in seconds: 433.568\n",
      "Epoch 200 | val loss 6.577 | Time 25.125 | ETA in seconds: 402.000\n",
      "Epoch 250 | val loss 6.506 | Time 25.278 | ETA in seconds: 379.170\n",
      "Epoch 300 | val loss 6.554 | Time 25.262 | ETA in seconds: 353.668\n",
      "Epoch 350 | val loss 6.564 | Time 25.332 | ETA in seconds: 329.310\n",
      "Epoch 400 | val loss 6.484 | Time 24.966 | ETA in seconds: 299.592\n",
      "Epoch 450 | val loss 6.440 | Time 25.142 | ETA in seconds: 276.557\n",
      "Epoch 500 | val loss 6.580 | Time 24.903 | ETA in seconds: 249.030\n",
      "Epoch 550 | val loss 7.822 | Time 25.294 | ETA in seconds: 227.647\n",
      "Epoch 600 | val loss 7.628 | Time 28.525 | ETA in seconds: 228.201\n",
      "Epoch 650 | val loss 6.937 | Time 30.951 | ETA in seconds: 216.654\n",
      "Epoch 700 | val loss 7.937 | Time 31.748 | ETA in seconds: 190.486\n",
      "Epoch 750 | val loss 6.520 | Time 31.938 | ETA in seconds: 159.688\n",
      "Epoch 800 | val loss 6.572 | Time 31.983 | ETA in seconds: 127.931\n",
      "Epoch 850 | val loss 6.608 | Time 31.713 | ETA in seconds: 95.139\n",
      "Epoch 900 | val loss 6.565 | Time 31.856 | ETA in seconds: 63.711\n",
      "Epoch 950 | val loss 6.515 | Time 31.748 | ETA in seconds: 31.748\n",
      "validation loss: 6.51467604637146\n"
     ]
    },
    {
     "data": {
      "text/plain": [
       "<Axes: >"
      ]
     },
     "execution_count": 56,
     "metadata": {},
     "output_type": "execute_result"
    },
    {
     "data": {
      "image/png": "[encoded data removed]",
      "text/plain": [
       "<Figure size 640x480 with 1 Axes>"
      ]
     },
     "metadata": {},
     "output_type": "display_data"
    }
   ],
   "source": [
    "llama = Llama(MASTER_CONFIG)\n",
    "optimizer = torch.optim.AdamW(llama.parameters())\n",
    "train(llama, optimizer, config=MASTER_CONFIG, print_logs=True)"
   ]
  },
  {
   "cell_type": "code",
   "execution_count": 61,
   "metadata": {},
   "outputs": [
    {
     "ename": "KeyboardInterrupt",
     "evalue": "",
     "output_type": "error",
     "traceback": [
      "\u001b[1;31m---------------------------------------------------------------------------\u001b[0m",
      "\u001b[1;31mKeyboardInterrupt\u001b[0m                         Traceback (most recent call last)",
      "\u001b[1;32mc:\\Users\\chris\\Desktop\\LLMs-in-Production\\chapters\\chapter_8\\llama_from_scratch_notebook.ipynb Cell 37\u001b[0m line \u001b[0;36m4\n\u001b[0;32m      <a href='vscode-notebook-cell:/c%3A/Users/chris/Desktop/LLMs-in-Production/chapters/chapter_8/llama_from_scratch_notebook.ipynb#X64sZmlsZQ%3D%3D?line=1'>2</a>\u001b[0m MASTER_CONFIG[\u001b[39m'\u001b[39m\u001b[39mbatch_size\u001b[39m\u001b[39m'\u001b[39m] \u001b[39m=\u001b[39m \u001b[39m128\u001b[39m\n\u001b[0;32m      <a href='vscode-notebook-cell:/c%3A/Users/chris/Desktop/LLMs-in-Production/chapters/chapter_8/llama_from_scratch_notebook.ipynb#X64sZmlsZQ%3D%3D?line=2'>3</a>\u001b[0m MASTER_CONFIG[\u001b[39m'\u001b[39m\u001b[39mcontext_window\u001b[39m\u001b[39m'\u001b[39m] \u001b[39m=\u001b[39m \u001b[39m256\u001b[39m\n\u001b[1;32m----> <a href='vscode-notebook-cell:/c%3A/Users/chris/Desktop/LLMs-in-Production/chapters/chapter_8/llama_from_scratch_notebook.ipynb#X64sZmlsZQ%3D%3D?line=3'>4</a>\u001b[0m llama \u001b[39m=\u001b[39m Llama(MASTER_CONFIG)\n\u001b[0;32m      <a href='vscode-notebook-cell:/c%3A/Users/chris/Desktop/LLMs-in-Production/chapters/chapter_8/llama_from_scratch_notebook.ipynb#X64sZmlsZQ%3D%3D?line=5'>6</a>\u001b[0m llama_optimizer \u001b[39m=\u001b[39m torch\u001b[39m.\u001b[39moptim\u001b[39m.\u001b[39mAdamW(\n\u001b[0;32m      <a href='vscode-notebook-cell:/c%3A/Users/chris/Desktop/LLMs-in-Production/chapters/chapter_8/llama_from_scratch_notebook.ipynb#X64sZmlsZQ%3D%3D?line=6'>7</a>\u001b[0m     llama\u001b[39m.\u001b[39mparameters(),\n\u001b[0;32m      <a href='vscode-notebook-cell:/c%3A/Users/chris/Desktop/LLMs-in-Production/chapters/chapter_8/llama_from_scratch_notebook.ipynb#X64sZmlsZQ%3D%3D?line=7'>8</a>\u001b[0m     betas\u001b[39m=\u001b[39m(\u001b[39m.9\u001b[39m, \u001b[39m.95\u001b[39m),\n\u001b[1;32m   (...)\u001b[0m\n\u001b[0;32m     <a href='vscode-notebook-cell:/c%3A/Users/chris/Desktop/LLMs-in-Production/chapters/chapter_8/llama_from_scratch_notebook.ipynb#X64sZmlsZQ%3D%3D?line=10'>11</a>\u001b[0m     lr\u001b[39m=\u001b[39m\u001b[39m5e-4\u001b[39m,\n\u001b[0;32m     <a href='vscode-notebook-cell:/c%3A/Users/chris/Desktop/LLMs-in-Production/chapters/chapter_8/llama_from_scratch_notebook.ipynb#X64sZmlsZQ%3D%3D?line=11'>12</a>\u001b[0m )\n\u001b[0;32m     <a href='vscode-notebook-cell:/c%3A/Users/chris/Desktop/LLMs-in-Production/chapters/chapter_8/llama_from_scratch_notebook.ipynb#X64sZmlsZQ%3D%3D?line=12'>13</a>\u001b[0m scheduler \u001b[39m=\u001b[39m torch\u001b[39m.\u001b[39moptim\u001b[39m.\u001b[39mlr_scheduler\u001b[39m.\u001b[39mCosineAnnealingLR(llama_optimizer, \u001b[39m300\u001b[39m, eta_min\u001b[39m=\u001b[39m\u001b[39m1e-5\u001b[39m)\n",
      "\u001b[1;32mc:\\Users\\chris\\Desktop\\LLMs-in-Production\\chapters\\chapter_8\\llama_from_scratch_notebook.ipynb Cell 37\u001b[0m line \u001b[0;36m8\n\u001b[0;32m      <a href='vscode-notebook-cell:/c%3A/Users/chris/Desktop/LLMs-in-Production/chapters/chapter_8/llama_from_scratch_notebook.ipynb#X64sZmlsZQ%3D%3D?line=3'>4</a>\u001b[0m \u001b[39mself\u001b[39m\u001b[39m.\u001b[39mconfig \u001b[39m=\u001b[39m config\n\u001b[0;32m      <a href='vscode-notebook-cell:/c%3A/Users/chris/Desktop/LLMs-in-Production/chapters/chapter_8/llama_from_scratch_notebook.ipynb#X64sZmlsZQ%3D%3D?line=5'>6</a>\u001b[0m \u001b[39mself\u001b[39m\u001b[39m.\u001b[39membedding \u001b[39m=\u001b[39m nn\u001b[39m.\u001b[39mEmbedding(config[\u001b[39m'\u001b[39m\u001b[39mvocab_size\u001b[39m\u001b[39m'\u001b[39m], config[\u001b[39m'\u001b[39m\u001b[39md_model\u001b[39m\u001b[39m'\u001b[39m])\n\u001b[0;32m      <a href='vscode-notebook-cell:/c%3A/Users/chris/Desktop/LLMs-in-Production/chapters/chapter_8/llama_from_scratch_notebook.ipynb#X64sZmlsZQ%3D%3D?line=6'>7</a>\u001b[0m \u001b[39mself\u001b[39m\u001b[39m.\u001b[39mllama_blocks \u001b[39m=\u001b[39m nn\u001b[39m.\u001b[39mSequential(\n\u001b[1;32m----> <a href='vscode-notebook-cell:/c%3A/Users/chris/Desktop/LLMs-in-Production/chapters/chapter_8/llama_from_scratch_notebook.ipynb#X64sZmlsZQ%3D%3D?line=7'>8</a>\u001b[0m     OrderedDict([(\u001b[39mf\u001b[39m\u001b[39m\"\u001b[39m\u001b[39mllama_\u001b[39m\u001b[39m{\u001b[39;00mi\u001b[39m}\u001b[39;00m\u001b[39m\"\u001b[39m, LlamaBlock(config)) \u001b[39mfor\u001b[39;00m i \u001b[39min\u001b[39;00m \u001b[39mrange\u001b[39m(config[\u001b[39m'\u001b[39m\u001b[39mn_layers\u001b[39m\u001b[39m'\u001b[39m])])\n\u001b[0;32m      <a href='vscode-notebook-cell:/c%3A/Users/chris/Desktop/LLMs-in-Production/chapters/chapter_8/llama_from_scratch_notebook.ipynb#X64sZmlsZQ%3D%3D?line=8'>9</a>\u001b[0m )\n\u001b[0;32m     <a href='vscode-notebook-cell:/c%3A/Users/chris/Desktop/LLMs-in-Production/chapters/chapter_8/llama_from_scratch_notebook.ipynb#X64sZmlsZQ%3D%3D?line=10'>11</a>\u001b[0m \u001b[39mself\u001b[39m\u001b[39m.\u001b[39mffn \u001b[39m=\u001b[39m nn\u001b[39m.\u001b[39mSequential(\n\u001b[0;32m     <a href='vscode-notebook-cell:/c%3A/Users/chris/Desktop/LLMs-in-Production/chapters/chapter_8/llama_from_scratch_notebook.ipynb#X64sZmlsZQ%3D%3D?line=11'>12</a>\u001b[0m     nn\u001b[39m.\u001b[39mLinear(config[\u001b[39m'\u001b[39m\u001b[39md_model\u001b[39m\u001b[39m'\u001b[39m], config[\u001b[39m'\u001b[39m\u001b[39md_model\u001b[39m\u001b[39m'\u001b[39m]),\n\u001b[0;32m     <a href='vscode-notebook-cell:/c%3A/Users/chris/Desktop/LLMs-in-Production/chapters/chapter_8/llama_from_scratch_notebook.ipynb#X64sZmlsZQ%3D%3D?line=12'>13</a>\u001b[0m     SwiGLU(config[\u001b[39m'\u001b[39m\u001b[39md_model\u001b[39m\u001b[39m'\u001b[39m]),\n\u001b[0;32m     <a href='vscode-notebook-cell:/c%3A/Users/chris/Desktop/LLMs-in-Production/chapters/chapter_8/llama_from_scratch_notebook.ipynb#X64sZmlsZQ%3D%3D?line=13'>14</a>\u001b[0m     nn\u001b[39m.\u001b[39mLinear(config[\u001b[39m'\u001b[39m\u001b[39md_model\u001b[39m\u001b[39m'\u001b[39m], config[\u001b[39m'\u001b[39m\u001b[39mvocab_size\u001b[39m\u001b[39m'\u001b[39m]),\n\u001b[0;32m     <a href='vscode-notebook-cell:/c%3A/Users/chris/Desktop/LLMs-in-Production/chapters/chapter_8/llama_from_scratch_notebook.ipynb#X64sZmlsZQ%3D%3D?line=14'>15</a>\u001b[0m )\n\u001b[0;32m     <a href='vscode-notebook-cell:/c%3A/Users/chris/Desktop/LLMs-in-Production/chapters/chapter_8/llama_from_scratch_notebook.ipynb#X64sZmlsZQ%3D%3D?line=16'>17</a>\u001b[0m \u001b[39mprint\u001b[39m(\u001b[39mf\u001b[39m\u001b[39m\"\u001b[39m\u001b[39mmodel params: \u001b[39m\u001b[39m{\u001b[39;00m\u001b[39msum\u001b[39m([m\u001b[39m.\u001b[39mnumel()\u001b[39m \u001b[39m\u001b[39mfor\u001b[39;00m\u001b[39m \u001b[39mm\u001b[39m \u001b[39m\u001b[39min\u001b[39;00m\u001b[39m \u001b[39m\u001b[39mself\u001b[39m\u001b[39m.\u001b[39mparameters()])\u001b[39m}\u001b[39;00m\u001b[39m\"\u001b[39m)\n",
      "\u001b[1;32mc:\\Users\\chris\\Desktop\\LLMs-in-Production\\chapters\\chapter_8\\llama_from_scratch_notebook.ipynb Cell 37\u001b[0m line \u001b[0;36m8\n\u001b[0;32m      <a href='vscode-notebook-cell:/c%3A/Users/chris/Desktop/LLMs-in-Production/chapters/chapter_8/llama_from_scratch_notebook.ipynb#X64sZmlsZQ%3D%3D?line=3'>4</a>\u001b[0m \u001b[39mself\u001b[39m\u001b[39m.\u001b[39mconfig \u001b[39m=\u001b[39m config\n\u001b[0;32m      <a href='vscode-notebook-cell:/c%3A/Users/chris/Desktop/LLMs-in-Production/chapters/chapter_8/llama_from_scratch_notebook.ipynb#X64sZmlsZQ%3D%3D?line=5'>6</a>\u001b[0m \u001b[39mself\u001b[39m\u001b[39m.\u001b[39membedding \u001b[39m=\u001b[39m nn\u001b[39m.\u001b[39mEmbedding(config[\u001b[39m'\u001b[39m\u001b[39mvocab_size\u001b[39m\u001b[39m'\u001b[39m], config[\u001b[39m'\u001b[39m\u001b[39md_model\u001b[39m\u001b[39m'\u001b[39m])\n\u001b[0;32m      <a href='vscode-notebook-cell:/c%3A/Users/chris/Desktop/LLMs-in-Production/chapters/chapter_8/llama_from_scratch_notebook.ipynb#X64sZmlsZQ%3D%3D?line=6'>7</a>\u001b[0m \u001b[39mself\u001b[39m\u001b[39m.\u001b[39mllama_blocks \u001b[39m=\u001b[39m nn\u001b[39m.\u001b[39mSequential(\n\u001b[1;32m----> <a href='vscode-notebook-cell:/c%3A/Users/chris/Desktop/LLMs-in-Production/chapters/chapter_8/llama_from_scratch_notebook.ipynb#X64sZmlsZQ%3D%3D?line=7'>8</a>\u001b[0m     OrderedDict([(\u001b[39mf\u001b[39m\u001b[39m\"\u001b[39m\u001b[39mllama_\u001b[39m\u001b[39m{\u001b[39;00mi\u001b[39m}\u001b[39;00m\u001b[39m\"\u001b[39m, LlamaBlock(config)) \u001b[39mfor\u001b[39;00m i \u001b[39min\u001b[39;00m \u001b[39mrange\u001b[39m(config[\u001b[39m'\u001b[39m\u001b[39mn_layers\u001b[39m\u001b[39m'\u001b[39m])])\n\u001b[0;32m      <a href='vscode-notebook-cell:/c%3A/Users/chris/Desktop/LLMs-in-Production/chapters/chapter_8/llama_from_scratch_notebook.ipynb#X64sZmlsZQ%3D%3D?line=8'>9</a>\u001b[0m )\n\u001b[0;32m     <a href='vscode-notebook-cell:/c%3A/Users/chris/Desktop/LLMs-in-Production/chapters/chapter_8/llama_from_scratch_notebook.ipynb#X64sZmlsZQ%3D%3D?line=10'>11</a>\u001b[0m \u001b[39mself\u001b[39m\u001b[39m.\u001b[39mffn \u001b[39m=\u001b[39m nn\u001b[39m.\u001b[39mSequential(\n\u001b[0;32m     <a href='vscode-notebook-cell:/c%3A/Users/chris/Desktop/LLMs-in-Production/chapters/chapter_8/llama_from_scratch_notebook.ipynb#X64sZmlsZQ%3D%3D?line=11'>12</a>\u001b[0m     nn\u001b[39m.\u001b[39mLinear(config[\u001b[39m'\u001b[39m\u001b[39md_model\u001b[39m\u001b[39m'\u001b[39m], config[\u001b[39m'\u001b[39m\u001b[39md_model\u001b[39m\u001b[39m'\u001b[39m]),\n\u001b[0;32m     <a href='vscode-notebook-cell:/c%3A/Users/chris/Desktop/LLMs-in-Production/chapters/chapter_8/llama_from_scratch_notebook.ipynb#X64sZmlsZQ%3D%3D?line=12'>13</a>\u001b[0m     SwiGLU(config[\u001b[39m'\u001b[39m\u001b[39md_model\u001b[39m\u001b[39m'\u001b[39m]),\n\u001b[0;32m     <a href='vscode-notebook-cell:/c%3A/Users/chris/Desktop/LLMs-in-Production/chapters/chapter_8/llama_from_scratch_notebook.ipynb#X64sZmlsZQ%3D%3D?line=13'>14</a>\u001b[0m     nn\u001b[39m.\u001b[39mLinear(config[\u001b[39m'\u001b[39m\u001b[39md_model\u001b[39m\u001b[39m'\u001b[39m], config[\u001b[39m'\u001b[39m\u001b[39mvocab_size\u001b[39m\u001b[39m'\u001b[39m]),\n\u001b[0;32m     <a href='vscode-notebook-cell:/c%3A/Users/chris/Desktop/LLMs-in-Production/chapters/chapter_8/llama_from_scratch_notebook.ipynb#X64sZmlsZQ%3D%3D?line=14'>15</a>\u001b[0m )\n\u001b[0;32m     <a href='vscode-notebook-cell:/c%3A/Users/chris/Desktop/LLMs-in-Production/chapters/chapter_8/llama_from_scratch_notebook.ipynb#X64sZmlsZQ%3D%3D?line=16'>17</a>\u001b[0m \u001b[39mprint\u001b[39m(\u001b[39mf\u001b[39m\u001b[39m\"\u001b[39m\u001b[39mmodel params: \u001b[39m\u001b[39m{\u001b[39;00m\u001b[39msum\u001b[39m([m\u001b[39m.\u001b[39mnumel()\u001b[39m \u001b[39m\u001b[39mfor\u001b[39;00m\u001b[39m \u001b[39mm\u001b[39m \u001b[39m\u001b[39min\u001b[39;00m\u001b[39m \u001b[39m\u001b[39mself\u001b[39m\u001b[39m.\u001b[39mparameters()])\u001b[39m}\u001b[39;00m\u001b[39m\"\u001b[39m)\n",
      "\u001b[1;32mc:\\Users\\chris\\Desktop\\LLMs-in-Production\\chapters\\chapter_8\\llama_from_scratch_notebook.ipynb Cell 37\u001b[0m line \u001b[0;36m8\n\u001b[0;32m      <a href='vscode-notebook-cell:/c%3A/Users/chris/Desktop/LLMs-in-Production/chapters/chapter_8/llama_from_scratch_notebook.ipynb#X64sZmlsZQ%3D%3D?line=3'>4</a>\u001b[0m \u001b[39mself\u001b[39m\u001b[39m.\u001b[39mconfig \u001b[39m=\u001b[39m config\n\u001b[0;32m      <a href='vscode-notebook-cell:/c%3A/Users/chris/Desktop/LLMs-in-Production/chapters/chapter_8/llama_from_scratch_notebook.ipynb#X64sZmlsZQ%3D%3D?line=5'>6</a>\u001b[0m \u001b[39mself\u001b[39m\u001b[39m.\u001b[39mrms \u001b[39m=\u001b[39m RMSNormalization((config[\u001b[39m'\u001b[39m\u001b[39mcontext_window\u001b[39m\u001b[39m'\u001b[39m], config[\u001b[39m'\u001b[39m\u001b[39md_model\u001b[39m\u001b[39m'\u001b[39m]))\n\u001b[1;32m----> <a href='vscode-notebook-cell:/c%3A/Users/chris/Desktop/LLMs-in-Production/chapters/chapter_8/llama_from_scratch_notebook.ipynb#X64sZmlsZQ%3D%3D?line=7'>8</a>\u001b[0m \u001b[39mself\u001b[39m\u001b[39m.\u001b[39mattention \u001b[39m=\u001b[39m RoPEMaskedMultiheadAttention(config)\n\u001b[0;32m      <a href='vscode-notebook-cell:/c%3A/Users/chris/Desktop/LLMs-in-Production/chapters/chapter_8/llama_from_scratch_notebook.ipynb#X64sZmlsZQ%3D%3D?line=8'>9</a>\u001b[0m \u001b[39mself\u001b[39m\u001b[39m.\u001b[39mfeedforward \u001b[39m=\u001b[39m nn\u001b[39m.\u001b[39mSequential(\n\u001b[0;32m     <a href='vscode-notebook-cell:/c%3A/Users/chris/Desktop/LLMs-in-Production/chapters/chapter_8/llama_from_scratch_notebook.ipynb#X64sZmlsZQ%3D%3D?line=9'>10</a>\u001b[0m     nn\u001b[39m.\u001b[39mLinear(config[\u001b[39m'\u001b[39m\u001b[39md_model\u001b[39m\u001b[39m'\u001b[39m], config[\u001b[39m'\u001b[39m\u001b[39mhidden_dim\u001b[39m\u001b[39m'\u001b[39m], bias\u001b[39m=\u001b[39m\u001b[39mFalse\u001b[39;00m),\n\u001b[0;32m     <a href='vscode-notebook-cell:/c%3A/Users/chris/Desktop/LLMs-in-Production/chapters/chapter_8/llama_from_scratch_notebook.ipynb#X64sZmlsZQ%3D%3D?line=10'>11</a>\u001b[0m     SwiGLU(config[\u001b[39m'\u001b[39m\u001b[39mhidden_dim\u001b[39m\u001b[39m'\u001b[39m]),\n\u001b[1;32m   (...)\u001b[0m\n\u001b[0;32m     <a href='vscode-notebook-cell:/c%3A/Users/chris/Desktop/LLMs-in-Production/chapters/chapter_8/llama_from_scratch_notebook.ipynb#X64sZmlsZQ%3D%3D?line=14'>15</a>\u001b[0m     nn\u001b[39m.\u001b[39mDropout(\u001b[39m0.0\u001b[39m)\n\u001b[0;32m     <a href='vscode-notebook-cell:/c%3A/Users/chris/Desktop/LLMs-in-Production/chapters/chapter_8/llama_from_scratch_notebook.ipynb#X64sZmlsZQ%3D%3D?line=15'>16</a>\u001b[0m )\n",
      "\u001b[1;32mc:\\Users\\chris\\Desktop\\LLMs-in-Production\\chapters\\chapter_8\\llama_from_scratch_notebook.ipynb Cell 37\u001b[0m line \u001b[0;36m5\n\u001b[0;32m      <a href='vscode-notebook-cell:/c%3A/Users/chris/Desktop/LLMs-in-Production/chapters/chapter_8/llama_from_scratch_notebook.ipynb#X64sZmlsZQ%3D%3D?line=2'>3</a>\u001b[0m \u001b[39msuper\u001b[39m()\u001b[39m.\u001b[39m\u001b[39m__init__\u001b[39m()\n\u001b[0;32m      <a href='vscode-notebook-cell:/c%3A/Users/chris/Desktop/LLMs-in-Production/chapters/chapter_8/llama_from_scratch_notebook.ipynb#X64sZmlsZQ%3D%3D?line=3'>4</a>\u001b[0m \u001b[39mself\u001b[39m\u001b[39m.\u001b[39mconfig \u001b[39m=\u001b[39m config\n\u001b[1;32m----> <a href='vscode-notebook-cell:/c%3A/Users/chris/Desktop/LLMs-in-Production/chapters/chapter_8/llama_from_scratch_notebook.ipynb#X64sZmlsZQ%3D%3D?line=4'>5</a>\u001b[0m \u001b[39mself\u001b[39m\u001b[39m.\u001b[39mheads \u001b[39m=\u001b[39m nn\u001b[39m.\u001b[39mModuleList([\n\u001b[0;32m      <a href='vscode-notebook-cell:/c%3A/Users/chris/Desktop/LLMs-in-Production/chapters/chapter_8/llama_from_scratch_notebook.ipynb#X64sZmlsZQ%3D%3D?line=5'>6</a>\u001b[0m     RoPEMaskedAttentionHead(config) \u001b[39mfor\u001b[39;00m _ \u001b[39min\u001b[39;00m \u001b[39mrange\u001b[39m(config[\u001b[39m'\u001b[39m\u001b[39mn_heads\u001b[39m\u001b[39m'\u001b[39m])\n\u001b[0;32m      <a href='vscode-notebook-cell:/c%3A/Users/chris/Desktop/LLMs-in-Production/chapters/chapter_8/llama_from_scratch_notebook.ipynb#X64sZmlsZQ%3D%3D?line=6'>7</a>\u001b[0m ])\n\u001b[0;32m      <a href='vscode-notebook-cell:/c%3A/Users/chris/Desktop/LLMs-in-Production/chapters/chapter_8/llama_from_scratch_notebook.ipynb#X64sZmlsZQ%3D%3D?line=7'>8</a>\u001b[0m \u001b[39mself\u001b[39m\u001b[39m.\u001b[39mlinear \u001b[39m=\u001b[39m nn\u001b[39m.\u001b[39mLinear(config[\u001b[39m'\u001b[39m\u001b[39mn_heads\u001b[39m\u001b[39m'\u001b[39m] \u001b[39m*\u001b[39m config[\u001b[39m'\u001b[39m\u001b[39md_model\u001b[39m\u001b[39m'\u001b[39m], config[\u001b[39m'\u001b[39m\u001b[39md_model\u001b[39m\u001b[39m'\u001b[39m])\n\u001b[0;32m      <a href='vscode-notebook-cell:/c%3A/Users/chris/Desktop/LLMs-in-Production/chapters/chapter_8/llama_from_scratch_notebook.ipynb#X64sZmlsZQ%3D%3D?line=8'>9</a>\u001b[0m \u001b[39mself\u001b[39m\u001b[39m.\u001b[39mdropout \u001b[39m=\u001b[39m nn\u001b[39m.\u001b[39mDropout(\u001b[39m.1\u001b[39m)\n",
      "\u001b[1;32mc:\\Users\\chris\\Desktop\\LLMs-in-Production\\chapters\\chapter_8\\llama_from_scratch_notebook.ipynb Cell 37\u001b[0m line \u001b[0;36m6\n\u001b[0;32m      <a href='vscode-notebook-cell:/c%3A/Users/chris/Desktop/LLMs-in-Production/chapters/chapter_8/llama_from_scratch_notebook.ipynb#X64sZmlsZQ%3D%3D?line=2'>3</a>\u001b[0m \u001b[39msuper\u001b[39m()\u001b[39m.\u001b[39m\u001b[39m__init__\u001b[39m()\n\u001b[0;32m      <a href='vscode-notebook-cell:/c%3A/Users/chris/Desktop/LLMs-in-Production/chapters/chapter_8/llama_from_scratch_notebook.ipynb#X64sZmlsZQ%3D%3D?line=3'>4</a>\u001b[0m \u001b[39mself\u001b[39m\u001b[39m.\u001b[39mconfig \u001b[39m=\u001b[39m config\n\u001b[0;32m      <a href='vscode-notebook-cell:/c%3A/Users/chris/Desktop/LLMs-in-Production/chapters/chapter_8/llama_from_scratch_notebook.ipynb#X64sZmlsZQ%3D%3D?line=4'>5</a>\u001b[0m \u001b[39mself\u001b[39m\u001b[39m.\u001b[39mheads \u001b[39m=\u001b[39m nn\u001b[39m.\u001b[39mModuleList([\n\u001b[1;32m----> <a href='vscode-notebook-cell:/c%3A/Users/chris/Desktop/LLMs-in-Production/chapters/chapter_8/llama_from_scratch_notebook.ipynb#X64sZmlsZQ%3D%3D?line=5'>6</a>\u001b[0m     RoPEMaskedAttentionHead(config) \u001b[39mfor\u001b[39;00m _ \u001b[39min\u001b[39;00m \u001b[39mrange\u001b[39m(config[\u001b[39m'\u001b[39m\u001b[39mn_heads\u001b[39m\u001b[39m'\u001b[39m])\n\u001b[0;32m      <a href='vscode-notebook-cell:/c%3A/Users/chris/Desktop/LLMs-in-Production/chapters/chapter_8/llama_from_scratch_notebook.ipynb#X64sZmlsZQ%3D%3D?line=6'>7</a>\u001b[0m ])\n\u001b[0;32m      <a href='vscode-notebook-cell:/c%3A/Users/chris/Desktop/LLMs-in-Production/chapters/chapter_8/llama_from_scratch_notebook.ipynb#X64sZmlsZQ%3D%3D?line=7'>8</a>\u001b[0m \u001b[39mself\u001b[39m\u001b[39m.\u001b[39mlinear \u001b[39m=\u001b[39m nn\u001b[39m.\u001b[39mLinear(config[\u001b[39m'\u001b[39m\u001b[39mn_heads\u001b[39m\u001b[39m'\u001b[39m] \u001b[39m*\u001b[39m config[\u001b[39m'\u001b[39m\u001b[39md_model\u001b[39m\u001b[39m'\u001b[39m], config[\u001b[39m'\u001b[39m\u001b[39md_model\u001b[39m\u001b[39m'\u001b[39m])\n\u001b[0;32m      <a href='vscode-notebook-cell:/c%3A/Users/chris/Desktop/LLMs-in-Production/chapters/chapter_8/llama_from_scratch_notebook.ipynb#X64sZmlsZQ%3D%3D?line=8'>9</a>\u001b[0m \u001b[39mself\u001b[39m\u001b[39m.\u001b[39mdropout \u001b[39m=\u001b[39m nn\u001b[39m.\u001b[39mDropout(\u001b[39m.1\u001b[39m)\n",
      "\u001b[1;32mc:\\Users\\chris\\Desktop\\LLMs-in-Production\\chapters\\chapter_8\\llama_from_scratch_notebook.ipynb Cell 37\u001b[0m line \u001b[0;36m1\n\u001b[0;32m     <a href='vscode-notebook-cell:/c%3A/Users/chris/Desktop/LLMs-in-Production/chapters/chapter_8/llama_from_scratch_notebook.ipynb#X64sZmlsZQ%3D%3D?line=12'>13</a>\u001b[0m \u001b[39mself\u001b[39m\u001b[39m.\u001b[39mw_k \u001b[39m=\u001b[39m nn\u001b[39m.\u001b[39mLinear(config[\u001b[39m'\u001b[39m\u001b[39md_model\u001b[39m\u001b[39m'\u001b[39m], config[\u001b[39m'\u001b[39m\u001b[39md_model\u001b[39m\u001b[39m'\u001b[39m], bias\u001b[39m=\u001b[39m\u001b[39mFalse\u001b[39;00m)\n\u001b[0;32m     <a href='vscode-notebook-cell:/c%3A/Users/chris/Desktop/LLMs-in-Production/chapters/chapter_8/llama_from_scratch_notebook.ipynb#X64sZmlsZQ%3D%3D?line=13'>14</a>\u001b[0m \u001b[39mself\u001b[39m\u001b[39m.\u001b[39mw_v \u001b[39m=\u001b[39m nn\u001b[39m.\u001b[39mLinear(config[\u001b[39m'\u001b[39m\u001b[39md_model\u001b[39m\u001b[39m'\u001b[39m], config[\u001b[39m'\u001b[39m\u001b[39md_model\u001b[39m\u001b[39m'\u001b[39m], bias\u001b[39m=\u001b[39m\u001b[39mFalse\u001b[39;00m)\n\u001b[1;32m---> <a href='vscode-notebook-cell:/c%3A/Users/chris/Desktop/LLMs-in-Production/chapters/chapter_8/llama_from_scratch_notebook.ipynb#X64sZmlsZQ%3D%3D?line=15'>16</a>\u001b[0m \u001b[39mself\u001b[39m\u001b[39m.\u001b[39mR \u001b[39m=\u001b[39m get_rotary_matrix(config[\u001b[39m'\u001b[39;49m\u001b[39mcontext_window\u001b[39;49m\u001b[39m'\u001b[39;49m], config[\u001b[39m'\u001b[39;49m\u001b[39md_model\u001b[39;49m\u001b[39m'\u001b[39;49m])\n",
      "\u001b[1;32mc:\\Users\\chris\\Desktop\\LLMs-in-Production\\chapters\\chapter_8\\llama_from_scratch_notebook.ipynb Cell 37\u001b[0m line \u001b[0;36m8\n\u001b[0;32m      <a href='vscode-notebook-cell:/c%3A/Users/chris/Desktop/LLMs-in-Production/chapters/chapter_8/llama_from_scratch_notebook.ipynb#X64sZmlsZQ%3D%3D?line=5'>6</a>\u001b[0m m_theta \u001b[39m=\u001b[39m position \u001b[39m*\u001b[39m theta\n\u001b[0;32m      <a href='vscode-notebook-cell:/c%3A/Users/chris/Desktop/LLMs-in-Production/chapters/chapter_8/llama_from_scratch_notebook.ipynb#X64sZmlsZQ%3D%3D?line=6'>7</a>\u001b[0m R[position, \u001b[39m2\u001b[39m\u001b[39m*\u001b[39mi,\u001b[39m2\u001b[39m\u001b[39m*\u001b[39mi] \u001b[39m=\u001b[39m np\u001b[39m.\u001b[39mcos(m_theta)\n\u001b[1;32m----> <a href='vscode-notebook-cell:/c%3A/Users/chris/Desktop/LLMs-in-Production/chapters/chapter_8/llama_from_scratch_notebook.ipynb#X64sZmlsZQ%3D%3D?line=7'>8</a>\u001b[0m R[position, \u001b[39m2\u001b[39m\u001b[39m*\u001b[39mi,\u001b[39m2\u001b[39m\u001b[39m*\u001b[39mi\u001b[39m+\u001b[39m\u001b[39m1\u001b[39m] \u001b[39m=\u001b[39m \u001b[39m-\u001b[39m np\u001b[39m.\u001b[39;49msin(m_theta)\n\u001b[0;32m      <a href='vscode-notebook-cell:/c%3A/Users/chris/Desktop/LLMs-in-Production/chapters/chapter_8/llama_from_scratch_notebook.ipynb#X64sZmlsZQ%3D%3D?line=8'>9</a>\u001b[0m R[position, \u001b[39m2\u001b[39m\u001b[39m*\u001b[39mi\u001b[39m+\u001b[39m\u001b[39m1\u001b[39m,\u001b[39m2\u001b[39m\u001b[39m*\u001b[39mi] \u001b[39m=\u001b[39m np\u001b[39m.\u001b[39msin(m_theta)\n\u001b[0;32m     <a href='vscode-notebook-cell:/c%3A/Users/chris/Desktop/LLMs-in-Production/chapters/chapter_8/llama_from_scratch_notebook.ipynb#X64sZmlsZQ%3D%3D?line=9'>10</a>\u001b[0m R[position, \u001b[39m2\u001b[39m\u001b[39m*\u001b[39mi\u001b[39m+\u001b[39m\u001b[39m1\u001b[39m,\u001b[39m2\u001b[39m\u001b[39m*\u001b[39mi\u001b[39m+\u001b[39m\u001b[39m1\u001b[39m] \u001b[39m=\u001b[39m np\u001b[39m.\u001b[39mcos(m_theta)\n",
      "\u001b[1;31mKeyboardInterrupt\u001b[0m: "
     ]
    }
   ],
   "source": [
    "MASTER_CONFIG['epochs'] = 10000\n",
    "MASTER_CONFIG['batch_size'] = 128\n",
    "MASTER_CONFIG['context_window'] = 256\n",
    "llama = Llama(MASTER_CONFIG)\n",
    "\n",
    "llama_optimizer = torch.optim.AdamW(\n",
    "    llama.parameters(),\n",
    "    betas=(.9, .95),\n",
    "    weight_decay=.1,\n",
    "    eps=1e-9,\n",
    "    lr=5e-4,\n",
    ")\n",
    "scheduler = torch.optim.lr_scheduler.CosineAnnealingLR(llama_optimizer, 300, eta_min=1e-5)\n",
    "train(llama, llama_optimizer, scheduler=scheduler, config=MASTER_CONFIG, print_logs=True)"
   ]
  },
  {
   "cell_type": "code",
   "execution_count": null,
   "metadata": {},
   "outputs": [],
   "source": [
    "generate(llama, config=MASTER_CONFIG, temperature=0.6, top_k=3, max_new_tokens=50)"
   ]
  },
  {
   "cell_type": "code",
   "execution_count": null,
   "metadata": {},
   "outputs": [],
   "source": [
    "#Run at your own risk! Likely will not work!\n",
    "\n",
    "LLAMA_CONFIG = {\n",
    "    \"vocab_size\": len(vocab),\n",
    "    \"batch_size\": 32,\n",
    "    \"context_window\": 2048,\n",
    "    \"d_model\": 4096,\n",
    "    \"epochs\": 1000,\n",
    "    \"log_interval\": 50,\n",
    "    \"n_heads\": 32,\n",
    "    \"n_layers\": 32,\n",
    "}\n",
    "llama = Llama(LLAMA_CONFIG)\n",
    "\n",
    "llama_optimizer = torch.optim.Adam(\n",
    "    llama.parameters(),\n",
    "    betas=(.9, .95),\n",
    "    weight_decay=.1,\n",
    "    eps=1e-9,\n",
    "    lr=1e-3\n",
    ")\n",
    "scheduler = torch.optim.lr_scheduler.CosineAnnealingLR(llama_optimizer, 300, eta_min=1e-5)\n",
    "train(llama, llama_optimizer, scheduler=scheduler, config=LLAMA_CONFIG, print_logs=True)"
   ]
  },
  {
   "cell_type": "code",
   "execution_count": null,
   "metadata": {},
   "outputs": [],
   "source": [
    "def export(llama_model, filepath, group_size=64, dtype=torch.float32):\n",
    "    \"\"\" Generate the pytorch_model.bin state_dict and config.json for HuggingFace \"\"\"\n",
    "\n",
    "    try:\n",
    "        from transformers.models.llama.configuration_llama import LlamaConfig\n",
    "        import os\n",
    "    except ImportError:\n",
    "        print(\"Please run `pip install transformers` to install it\")\n",
    "        return None\n",
    "\n",
    "    # Generate LlamaModel state_dict\n",
    "    hf_state_dict = {}\n",
    "\n",
    "    # Sometimes we have repeated key values for the heads\n",
    "    dim = llama_model.params.dim\n",
    "    num_key_value_heads = llama_model.params.n_kv_heads\n",
    "    n_rep = llama_model.params.n_heads // num_key_value_heads\n",
    "    key_value_dim = dim // n_rep\n",
    "\n",
    "    # HuggingFace needs the weights permuted.\n",
    "    # See: https://github.com/huggingface/transformers/blob/b132c1703eb1c8bd9dfa4ad6a9be2bfd6ef819e9/src/transformers/models/llama/convert_llama_weights_to_hf.py#L122\n",
    "    def permute_original(w, n_heads=llama_model.params.n_heads, dim1=dim, dim2=dim):\n",
    "        return w.view(dim1, dim2).reshape(n_heads, dim1 // n_heads // 2, 2, dim2).transpose(1, 2).reshape(dim1, dim2)\n",
    "\n",
    "    # Transfer weights from llama model to the HF state dictionary format\n",
    "    hf_state_dict['model.embed_tokens.weight'] = llama_model.tok_embeddings.weight.clone().to(dtype)\n",
    "    hf_state_dict['model.norm.weight'] = llama_model.norm.weight.clone().to(dtype)\n",
    "\n",
    "    # Add each layer's weights to the HF state dictionary\n",
    "    for i, layer in enumerate(llama_model.layers):\n",
    "        layer_id = layer.layer_id\n",
    "        hf_state_dict[f'model.layers.{i}.input_layernorm.weight'] = llama_model.layers[layer_id].attention_norm.weight.clone().to(dtype)\n",
    "        hf_state_dict[f'model.layers.{i}.self_attn.q_proj.weight'] = permute_original(llama_model.layers[layer_id].attention.wq.weight.clone()).to(dtype)\n",
    "        hf_state_dict[f'model.layers.{i}.self_attn.k_proj.weight'] = permute_original(llama_model.layers[layer_id].attention.wk.weight.clone(), num_key_value_heads, key_value_dim, dim).to(dtype)\n",
    "        hf_state_dict[f'model.layers.{i}.self_attn.v_proj.weight'] = llama_model.layers[layer_id].attention.wv.weight.clone().to(dtype)\n",
    "        hf_state_dict[f'model.layers.{i}.self_attn.o_proj.weight'] = llama_model.layers[layer_id].attention.wo.weight.clone().to(dtype)\n",
    "        hf_state_dict[f'model.layers.{i}.post_attention_layernorm.weight'] = llama_model.layers[layer_id].ffn_norm.weight.clone().to(dtype)\n",
    "        hf_state_dict[f'model.layers.{i}.mlp.gate_proj.weight'] = llama_model.layers[layer_id].feed_forward.w1.weight.clone().to(dtype)\n",
    "        hf_state_dict[f'model.layers.{i}.mlp.down_proj.weight'] = llama_model.layers[layer_id].feed_forward.w2.weight.clone().to(dtype)\n",
    "        hf_state_dict[f'model.layers.{i}.mlp.up_proj.weight'] = llama_model.layers[layer_id].feed_forward.w3.weight.clone().to(dtype)\n",
    "\n",
    "    # llama2.c usually uses tied weights -> reference the embed_tokens.weights instead\n",
    "    hf_state_dict['lm_head.weight'] = hf_state_dict['model.embed_tokens.weight']\n",
    "\n",
    "    # We check that the embeddings are tied, else use manual output weights\n",
    "    _embeddings_are_tied: bool = torch.equal(llama_model.tok_embeddings.weight, llama_model.output.weight)\n",
    "    if not _embeddings_are_tied:\n",
    "        hf_state_dict['lm_head.weight'] = llama_model.output.weight.clone().to(dtype)\n",
    "\n",
    "\n",
    "    # Generate LlamaConfig (seen in transformers.models.llama.configuration_llama)\n",
    "\n",
    "    # Extract necessary attributes from llama.c model\n",
    "    vocab_size = llama_model.params.vocab_size\n",
    "    hidden_size = llama_model.params.dim\n",
    "    intermediate_size = llama_model.layers[0].feed_forward.w1.weight.shape[0]\n",
    "    num_hidden_layers = llama_model.params.n_layers\n",
    "    num_attention_heads = llama_model.params.n_heads\n",
    "    num_key_value_heads = llama_model.params.n_kv_heads\n",
    "    max_position_embeddings = llama_model.params.max_seq_len\n",
    "    rms_norm_eps = llama_model.params.norm_eps\n",
    "\n",
    "    config = LlamaConfig(\n",
    "        vocab_size=vocab_size,\n",
    "        hidden_size=hidden_size,\n",
    "        intermediate_size=intermediate_size,\n",
    "        num_hidden_layers=num_hidden_layers,\n",
    "        num_attention_heads=num_attention_heads,\n",
    "        num_key_value_heads=num_key_value_heads,\n",
    "        max_position_embeddings=max_position_embeddings,\n",
    "        rms_norm_eps=rms_norm_eps,\n",
    "        tie_word_embeddings=_embeddings_are_tied,\n",
    "        # Manual\n",
    "        architectures=[\"LlamaForCausalLM\"],\n",
    "        hidden_act=\"silu\",\n",
    "    )\n",
    "\n",
    "\n",
    "    # Save files in directory filepath\n",
    "    # First make the directory if it doesn't exist\n",
    "    os.makedirs(filepath, exist_ok=True)\n",
    "\n",
    "    # Save the state dictionary in .bin format, and config as .json\n",
    "    torch.save(hf_state_dict, os.path.join(filepath, \"pytorch_model.bin\"))\n",
    "    config.save_pretrained(filepath)\n",
    "    \n",
    "export(llama, \"./llama2/\")"
   ]
  },
  {
   "cell_type": "code",
   "execution_count": null,
   "metadata": {},
   "outputs": [],
   "source": []
  }
 ],
 "metadata": {
  "kernelspec": {
   "display_name": "llmbook",
   "language": "python",
   "name": "python3"
  },
  "language_info": {
   "codemirror_mode": {
    "name": "ipython",
    "version": 3
   },
   "file_extension": ".py",
   "mimetype": "text/x-python",
   "name": "python",
   "nbconvert_exporter": "python",
   "pygments_lexer": "ipython3",
   "version": "3.10.12"
  }
 },
 "nbformat": 4,
 "nbformat_minor": 2
}
